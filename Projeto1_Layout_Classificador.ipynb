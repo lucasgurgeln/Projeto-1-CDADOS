{
 "cells": [
  {
   "cell_type": "markdown",
   "source": [
    "# Projeto 1 - Ciência dos Dados"
   ],
   "metadata": {}
  },
  {
   "cell_type": "markdown",
   "source": [
    "Nome: João Pedro Reis Lima\r\n",
    "\r\n",
    "Nome: Lucas Gurgel "
   ],
   "metadata": {}
  },
  {
   "cell_type": "markdown",
   "source": [
    "Atenção: Serão permitidos grupos de três pessoas, mas com uma rubrica mais exigente. Grupos deste tamanho precisarão fazer um questionário de avaliação de trabalho em equipe"
   ],
   "metadata": {}
  },
  {
   "cell_type": "markdown",
   "source": [
    "___\n",
    "Carregando algumas bibliotecas:"
   ],
   "metadata": {}
  },
  {
   "cell_type": "code",
   "execution_count": 182,
   "source": [
    "%matplotlib inline\r\n",
    "import pandas as pd\r\n",
    "import matplotlib.pyplot as plt\r\n",
    "import numpy as np\r\n",
    "import os"
   ],
   "outputs": [],
   "metadata": {}
  },
  {
   "cell_type": "code",
   "execution_count": 183,
   "source": [
    "print('Esperamos trabalhar no diretório')\r\n",
    "print(os.getcwd())"
   ],
   "outputs": [
    {
     "output_type": "stream",
     "name": "stdout",
     "text": [
      "Esperamos trabalhar no diretório\n",
      "c:\\Users\\Joao\\Projeto-1-CDADOS\n"
     ]
    }
   ],
   "metadata": {
    "scrolled": false
   }
  },
  {
   "cell_type": "markdown",
   "source": [
    "Carregando a base de dados com os tweets classificados como relevantes e não relevantes:"
   ],
   "metadata": {}
  },
  {
   "cell_type": "code",
   "execution_count": 184,
   "source": [
    "filename = 'esquadrão suicida 2.xlsx'"
   ],
   "outputs": [],
   "metadata": {}
  },
  {
   "cell_type": "code",
   "execution_count": 185,
   "source": [
    "dados = pd.read_excel(filename)\r\n",
    "dados.head(5)"
   ],
   "outputs": [
    {
     "output_type": "execute_result",
     "data": {
      "text/html": [
       "<div>\n",
       "<style scoped>\n",
       "    .dataframe tbody tr th:only-of-type {\n",
       "        vertical-align: middle;\n",
       "    }\n",
       "\n",
       "    .dataframe tbody tr th {\n",
       "        vertical-align: top;\n",
       "    }\n",
       "\n",
       "    .dataframe thead th {\n",
       "        text-align: right;\n",
       "    }\n",
       "</style>\n",
       "<table border=\"1\" class=\"dataframe\">\n",
       "  <thead>\n",
       "    <tr style=\"text-align: right;\">\n",
       "      <th></th>\n",
       "      <th>Treinamento</th>\n",
       "      <th>relevancia</th>\n",
       "    </tr>\n",
       "  </thead>\n",
       "  <tbody>\n",
       "    <tr>\n",
       "      <th>0</th>\n",
       "      <td>to feliz q da p prestar atenção e gostar de vá...</td>\n",
       "      <td>1.0</td>\n",
       "    </tr>\n",
       "    <tr>\n",
       "      <th>1</th>\n",
       "      <td>os roteirista de esquadrão suicida 2 devem ter...</td>\n",
       "      <td>0.0</td>\n",
       "    </tr>\n",
       "    <tr>\n",
       "      <th>2</th>\n",
       "      <td>assistir esse esquadrão suicida 2 de marola</td>\n",
       "      <td>0.0</td>\n",
       "    </tr>\n",
       "    <tr>\n",
       "      <th>3</th>\n",
       "      <td>e eu e gilson que fechamos a sala de cinema p ...</td>\n",
       "      <td>0.0</td>\n",
       "    </tr>\n",
       "    <tr>\n",
       "      <th>4</th>\n",
       "      <td>esquadrão suicida 2 é muito bom, amei o filme</td>\n",
       "      <td>1.0</td>\n",
       "    </tr>\n",
       "  </tbody>\n",
       "</table>\n",
       "</div>"
      ],
      "text/plain": [
       "                                         Treinamento  relevancia\n",
       "0  to feliz q da p prestar atenção e gostar de vá...         1.0\n",
       "1  os roteirista de esquadrão suicida 2 devem ter...         0.0\n",
       "2        assistir esse esquadrão suicida 2 de marola         0.0\n",
       "3  e eu e gilson que fechamos a sala de cinema p ...         0.0\n",
       "4      esquadrão suicida 2 é muito bom, amei o filme         1.0"
      ]
     },
     "metadata": {},
     "execution_count": 185
    }
   ],
   "metadata": {}
  },
  {
   "cell_type": "code",
   "execution_count": 186,
   "source": [
    "test = pd.read_excel(filename, sheet_name = 'Teste')\r\n",
    "test.head(5)"
   ],
   "outputs": [
    {
     "output_type": "execute_result",
     "data": {
      "text/html": [
       "<div>\n",
       "<style scoped>\n",
       "    .dataframe tbody tr th:only-of-type {\n",
       "        vertical-align: middle;\n",
       "    }\n",
       "\n",
       "    .dataframe tbody tr th {\n",
       "        vertical-align: top;\n",
       "    }\n",
       "\n",
       "    .dataframe thead th {\n",
       "        text-align: right;\n",
       "    }\n",
       "</style>\n",
       "<table border=\"1\" class=\"dataframe\">\n",
       "  <thead>\n",
       "    <tr style=\"text-align: right;\">\n",
       "      <th></th>\n",
       "      <th>Teste</th>\n",
       "      <th>relevancia</th>\n",
       "    </tr>\n",
       "  </thead>\n",
       "  <tbody>\n",
       "    <tr>\n",
       "      <th>0</th>\n",
       "      <td>assisti esquadrão suicida 2 com um pouco de at...</td>\n",
       "      <td>0</td>\n",
       "    </tr>\n",
       "    <tr>\n",
       "      <th>1</th>\n",
       "      <td>vou ver esquadrão suicida 2 hj, vcs já viram?</td>\n",
       "      <td>0</td>\n",
       "    </tr>\n",
       "    <tr>\n",
       "      <th>2</th>\n",
       "      <td>@lsdcomixxx adm hj eu sonhei que ele tava no e...</td>\n",
       "      <td>0</td>\n",
       "    </tr>\n",
       "    <tr>\n",
       "      <th>3</th>\n",
       "      <td>ranking personagens do esquadrão suicida:\\n\\n1...</td>\n",
       "      <td>1</td>\n",
       "    </tr>\n",
       "    <tr>\n",
       "      <th>4</th>\n",
       "      <td>mano gloria groove no esquadrão suicida 2 fico...</td>\n",
       "      <td>1</td>\n",
       "    </tr>\n",
       "  </tbody>\n",
       "</table>\n",
       "</div>"
      ],
      "text/plain": [
       "                                               Teste  relevancia\n",
       "0  assisti esquadrão suicida 2 com um pouco de at...           0\n",
       "1      vou ver esquadrão suicida 2 hj, vcs já viram?           0\n",
       "2  @lsdcomixxx adm hj eu sonhei que ele tava no e...           0\n",
       "3  ranking personagens do esquadrão suicida:\\n\\n1...           1\n",
       "4  mano gloria groove no esquadrão suicida 2 fico...           1"
      ]
     },
     "metadata": {},
     "execution_count": 186
    }
   ],
   "metadata": {}
  },
  {
   "cell_type": "markdown",
   "source": [
    "___\n",
    "## Classificador automático de sentimento\n"
   ],
   "metadata": {}
  },
  {
   "cell_type": "markdown",
   "source": [
    "Nós consideramos relavante comentários que demostravam alguma critica ao produto tais como: Se a pessoa gostou ou não da obra, o que ela sentiu(emoção), também consideramos personagens favoritos como algo relavante \r\n",
    "\r\n",
    "Não consideramos comentarios de situações adversas sem relação direta com a criticidade da obra, tal como comentarios pessoais"
   ],
   "metadata": {}
  },
  {
   "cell_type": "markdown",
   "source": [
    "___\n",
    "### Montando um Classificador Naive-Bayes\n",
    "\n",
    "Considerando apenas as mensagens da planilha Treinamento, ensine  seu classificador."
   ],
   "metadata": {}
  },
  {
   "cell_type": "code",
   "execution_count": 187,
   "source": [
    "import re \r\n",
    "import emoji\r\n",
    "from emoji import UNICODE_EMOJI\r\n",
    "\r\n",
    "\r\n",
    "def cleanup(text):\r\n",
    "    \"\"\"\r\n",
    "        Função de limpeza muito simples que troca alguns sinais básicos por espaços\r\n",
    "    \"\"\"\r\n",
    "    #import string\r\n",
    "    punctuation = '[”@\\-/!.:?;,''\"|()#$%¨&*]' # Note que os sinais [] são delimitadores de um conjunto.\r\n",
    "    pattern = re.compile(punctuation)\r\n",
    "    text_subbed = re.sub(pattern, '', text)\r\n",
    "    return text_subbed"
   ],
   "outputs": [],
   "metadata": {}
  },
  {
   "cell_type": "code",
   "execution_count": 188,
   "source": [
    "def minusculo(text):\r\n",
    "    return text.lower()"
   ],
   "outputs": [],
   "metadata": {}
  },
  {
   "cell_type": "code",
   "execution_count": 189,
   "source": [
    "def separa_emoji(tweet):\r\n",
    "   \r\n",
    "    modified=' '.join(emoji.get_emoji_regexp().split(tweet))\r\n",
    "    modified=modified.split()\r\n",
    "    for i,emoji1 in enumerate(modified):\r\n",
    "        if emoji1 in UNICODE_EMOJI['pt']:\r\n",
    "            modified[i]=UNICODE_EMOJI['pt'][emoji1].replace(':','')\r\n",
    "        else:\r\n",
    "            continue\r\n",
    "    modified=' '.join(modified)\r\n",
    "        \r\n",
    "    return modified"
   ],
   "outputs": [],
   "metadata": {}
  },
  {
   "cell_type": "code",
   "execution_count": 190,
   "source": [
    "def limpatudo(text):\r\n",
    "    tira_pontuacao = cleanup(text)\r\n",
    "    tudo_minusculo = minusculo(tira_pontuacao)\r\n",
    "    limpo = (separa_emoji(tudo_minusculo))\r\n",
    "\r\n",
    "    return limpo\r\n",
    "\r\n"
   ],
   "outputs": [],
   "metadata": {}
  },
  {
   "cell_type": "code",
   "execution_count": 191,
   "source": [
    "#Transformando palavras em variáveis categóricas:\r\n",
    "dados['Treinamento'] = dados['Treinamento'].astype('category')\r\n",
    "test['Teste'] = test['Teste'].astype('category')"
   ],
   "outputs": [],
   "metadata": {}
  },
  {
   "cell_type": "code",
   "execution_count": 192,
   "source": [
    "dados['Treinamento']=dados['Treinamento'].apply(limpatudo)\r\n",
    "test['Teste']=test['Teste'].apply(limpatudo)"
   ],
   "outputs": [],
   "metadata": {}
  },
  {
   "cell_type": "code",
   "execution_count": 193,
   "source": [
    "ir = dados['relevancia'] == 0\r\n",
    "r = dados['relevancia'] == 1\r\n",
    "\r\n",
    "dados_r = dados.loc[r,:]\r\n",
    "dados_ir = dados.loc[ir,:]\r\n",
    "\r\n",
    "dados_ir"
   ],
   "outputs": [
    {
     "output_type": "execute_result",
     "data": {
      "text/html": [
       "<div>\n",
       "<style scoped>\n",
       "    .dataframe tbody tr th:only-of-type {\n",
       "        vertical-align: middle;\n",
       "    }\n",
       "\n",
       "    .dataframe tbody tr th {\n",
       "        vertical-align: top;\n",
       "    }\n",
       "\n",
       "    .dataframe thead th {\n",
       "        text-align: right;\n",
       "    }\n",
       "</style>\n",
       "<table border=\"1\" class=\"dataframe\">\n",
       "  <thead>\n",
       "    <tr style=\"text-align: right;\">\n",
       "      <th></th>\n",
       "      <th>Treinamento</th>\n",
       "      <th>relevancia</th>\n",
       "    </tr>\n",
       "  </thead>\n",
       "  <tbody>\n",
       "    <tr>\n",
       "      <th>1</th>\n",
       "      <td>os roteirista de esquadrão suicida 2 devem ter...</td>\n",
       "      <td>0.0</td>\n",
       "    </tr>\n",
       "    <tr>\n",
       "      <th>2</th>\n",
       "      <td>assistir esse esquadrão suicida 2 de marola</td>\n",
       "      <td>0.0</td>\n",
       "    </tr>\n",
       "    <tr>\n",
       "      <th>3</th>\n",
       "      <td>e eu e gilson que fechamos a sala de cinema p ...</td>\n",
       "      <td>0.0</td>\n",
       "    </tr>\n",
       "    <tr>\n",
       "      <th>6</th>\n",
       "      <td>haterdogui esquadrão suicida 2</td>\n",
       "      <td>0.0</td>\n",
       "    </tr>\n",
       "    <tr>\n",
       "      <th>7</th>\n",
       "      <td>theoncediaries ganhei 2 achei 2 envelopes tô p...</td>\n",
       "      <td>0.0</td>\n",
       "    </tr>\n",
       "    <tr>\n",
       "      <th>...</th>\n",
       "      <td>...</td>\n",
       "      <td>...</td>\n",
       "    </tr>\n",
       "    <tr>\n",
       "      <th>292</th>\n",
       "      <td>pirocona do pai é gigante 2 games com o time f...</td>\n",
       "      <td>0.0</td>\n",
       "    </tr>\n",
       "    <tr>\n",
       "      <th>293</th>\n",
       "      <td>romulomiranda_ tenho um monte de filmes para a...</td>\n",
       "      <td>0.0</td>\n",
       "    </tr>\n",
       "    <tr>\n",
       "      <th>295</th>\n",
       "      <td>eu sou humano e posso sonhar homem de aço 2 fo...</td>\n",
       "      <td>0.0</td>\n",
       "    </tr>\n",
       "    <tr>\n",
       "      <th>297</th>\n",
       "      <td>1 eu ainda não vi o esquadrão suicida então eu...</td>\n",
       "      <td>0.0</td>\n",
       "    </tr>\n",
       "    <tr>\n",
       "      <th>298</th>\n",
       "      <td>harrymetalfan tem esquadrao suicida 2 pensei q...</td>\n",
       "      <td>0.0</td>\n",
       "    </tr>\n",
       "  </tbody>\n",
       "</table>\n",
       "<p>161 rows × 2 columns</p>\n",
       "</div>"
      ],
      "text/plain": [
       "                                           Treinamento  relevancia\n",
       "1    os roteirista de esquadrão suicida 2 devem ter...         0.0\n",
       "2          assistir esse esquadrão suicida 2 de marola         0.0\n",
       "3    e eu e gilson que fechamos a sala de cinema p ...         0.0\n",
       "6                       haterdogui esquadrão suicida 2         0.0\n",
       "7    theoncediaries ganhei 2 achei 2 envelopes tô p...         0.0\n",
       "..                                                 ...         ...\n",
       "292  pirocona do pai é gigante 2 games com o time f...         0.0\n",
       "293  romulomiranda_ tenho um monte de filmes para a...         0.0\n",
       "295  eu sou humano e posso sonhar homem de aço 2 fo...         0.0\n",
       "297  1 eu ainda não vi o esquadrão suicida então eu...         0.0\n",
       "298  harrymetalfan tem esquadrao suicida 2 pensei q...         0.0\n",
       "\n",
       "[161 rows x 2 columns]"
      ]
     },
     "metadata": {},
     "execution_count": 193
    }
   ],
   "metadata": {}
  },
  {
   "cell_type": "code",
   "execution_count": 194,
   "source": [
    "ir = test['relevancia'] == 0\r\n",
    "r = test['relevancia'] == 1\r\n",
    "\r\n",
    "test_r = test.loc[r,:]\r\n",
    "test_ir = test.loc[ir,:]\r\n",
    "\r\n",
    "test_ir"
   ],
   "outputs": [
    {
     "output_type": "execute_result",
     "data": {
      "text/html": [
       "<div>\n",
       "<style scoped>\n",
       "    .dataframe tbody tr th:only-of-type {\n",
       "        vertical-align: middle;\n",
       "    }\n",
       "\n",
       "    .dataframe tbody tr th {\n",
       "        vertical-align: top;\n",
       "    }\n",
       "\n",
       "    .dataframe thead th {\n",
       "        text-align: right;\n",
       "    }\n",
       "</style>\n",
       "<table border=\"1\" class=\"dataframe\">\n",
       "  <thead>\n",
       "    <tr style=\"text-align: right;\">\n",
       "      <th></th>\n",
       "      <th>Teste</th>\n",
       "      <th>relevancia</th>\n",
       "    </tr>\n",
       "  </thead>\n",
       "  <tbody>\n",
       "    <tr>\n",
       "      <th>0</th>\n",
       "      <td>assisti esquadrão suicida 2 com um pouco de at...</td>\n",
       "      <td>0</td>\n",
       "    </tr>\n",
       "    <tr>\n",
       "      <th>1</th>\n",
       "      <td>vou ver esquadrão suicida 2 hj vcs já viram</td>\n",
       "      <td>0</td>\n",
       "    </tr>\n",
       "    <tr>\n",
       "      <th>2</th>\n",
       "      <td>lsdcomixxx adm hj eu sonhei que ele tava no es...</td>\n",
       "      <td>0</td>\n",
       "    </tr>\n",
       "    <tr>\n",
       "      <th>5</th>\n",
       "      <td>homemaranha em o esquadrão suicida 2 confirmad...</td>\n",
       "      <td>0</td>\n",
       "    </tr>\n",
       "    <tr>\n",
       "      <th>6</th>\n",
       "      <td>queria jogat lol mas quero ver esquadrão suici...</td>\n",
       "      <td>0</td>\n",
       "    </tr>\n",
       "    <tr>\n",
       "      <th>...</th>\n",
       "      <td>...</td>\n",
       "      <td>...</td>\n",
       "    </tr>\n",
       "    <tr>\n",
       "      <th>189</th>\n",
       "      <td>atenção acabei de assistir esquadrão suicida 2...</td>\n",
       "      <td>0</td>\n",
       "    </tr>\n",
       "    <tr>\n",
       "      <th>190</th>\n",
       "      <td>aquela cena em esquadrão suicida 2 que a harle...</td>\n",
       "      <td>0</td>\n",
       "    </tr>\n",
       "    <tr>\n",
       "      <th>191</th>\n",
       "      <td>esquadrão suicida 2 parece um filme de zack sn...</td>\n",
       "      <td>0</td>\n",
       "    </tr>\n",
       "    <tr>\n",
       "      <th>192</th>\n",
       "      <td>esquadrão suicida 2 vai entrar na hbo mds eu o...</td>\n",
       "      <td>0</td>\n",
       "    </tr>\n",
       "    <tr>\n",
       "      <th>193</th>\n",
       "      <td>vantjens esquadrão suicida 2 um personagem q e...</td>\n",
       "      <td>0</td>\n",
       "    </tr>\n",
       "  </tbody>\n",
       "</table>\n",
       "<p>115 rows × 2 columns</p>\n",
       "</div>"
      ],
      "text/plain": [
       "                                                 Teste  relevancia\n",
       "0    assisti esquadrão suicida 2 com um pouco de at...           0\n",
       "1          vou ver esquadrão suicida 2 hj vcs já viram           0\n",
       "2    lsdcomixxx adm hj eu sonhei que ele tava no es...           0\n",
       "5    homemaranha em o esquadrão suicida 2 confirmad...           0\n",
       "6    queria jogat lol mas quero ver esquadrão suici...           0\n",
       "..                                                 ...         ...\n",
       "189  atenção acabei de assistir esquadrão suicida 2...           0\n",
       "190  aquela cena em esquadrão suicida 2 que a harle...           0\n",
       "191  esquadrão suicida 2 parece um filme de zack sn...           0\n",
       "192  esquadrão suicida 2 vai entrar na hbo mds eu o...           0\n",
       "193  vantjens esquadrão suicida 2 um personagem q e...           0\n",
       "\n",
       "[115 rows x 2 columns]"
      ]
     },
     "metadata": {},
     "execution_count": 194
    }
   ],
   "metadata": {}
  },
  {
   "cell_type": "code",
   "execution_count": 195,
   "source": [
    "dr = ''\r\n",
    "for i in dados_r.Treinamento:\r\n",
    "    dr+=i\r\n",
    "    pdr = dr.split()\r\n",
    "dir = ''\r\n",
    "for i in dados_ir.Treinamento:\r\n",
    "    dir+=i\r\n",
    "    pdir = dir.split()\r\n",
    "tr = ''\r\n",
    "for i in test_r.Teste:\r\n",
    "    tr+=i\r\n",
    "    ptr=tr.split()\r\n",
    "\r\n",
    "tir = ''\r\n",
    "for i in test_ir.Teste:\r\n",
    "    tir+=i\r\n",
    "    ptir = tir.split() \r\n",
    "\r\n",
    "\r\n",
    "ptrc = pd.Series(ptr) \r\n",
    "ptirc = pd.Series(ptir) \r\n",
    "pdrc = pd.Series(pdr) \r\n",
    "pdirc = pd.Series(pdir) \r\n",
    "\r\n",
    "\r\n",
    "\r\n",
    "dados"
   ],
   "outputs": [
    {
     "output_type": "execute_result",
     "data": {
      "text/html": [
       "<div>\n",
       "<style scoped>\n",
       "    .dataframe tbody tr th:only-of-type {\n",
       "        vertical-align: middle;\n",
       "    }\n",
       "\n",
       "    .dataframe tbody tr th {\n",
       "        vertical-align: top;\n",
       "    }\n",
       "\n",
       "    .dataframe thead th {\n",
       "        text-align: right;\n",
       "    }\n",
       "</style>\n",
       "<table border=\"1\" class=\"dataframe\">\n",
       "  <thead>\n",
       "    <tr style=\"text-align: right;\">\n",
       "      <th></th>\n",
       "      <th>Treinamento</th>\n",
       "      <th>relevancia</th>\n",
       "    </tr>\n",
       "  </thead>\n",
       "  <tbody>\n",
       "    <tr>\n",
       "      <th>0</th>\n",
       "      <td>to feliz q da p prestar atenção e gostar de vá...</td>\n",
       "      <td>1.0</td>\n",
       "    </tr>\n",
       "    <tr>\n",
       "      <th>1</th>\n",
       "      <td>os roteirista de esquadrão suicida 2 devem ter...</td>\n",
       "      <td>0.0</td>\n",
       "    </tr>\n",
       "    <tr>\n",
       "      <th>2</th>\n",
       "      <td>assistir esse esquadrão suicida 2 de marola</td>\n",
       "      <td>0.0</td>\n",
       "    </tr>\n",
       "    <tr>\n",
       "      <th>3</th>\n",
       "      <td>e eu e gilson que fechamos a sala de cinema p ...</td>\n",
       "      <td>0.0</td>\n",
       "    </tr>\n",
       "    <tr>\n",
       "      <th>4</th>\n",
       "      <td>esquadrão suicida 2 é muito bom amei o filme</td>\n",
       "      <td>1.0</td>\n",
       "    </tr>\n",
       "    <tr>\n",
       "      <th>...</th>\n",
       "      <td>...</td>\n",
       "      <td>...</td>\n",
       "    </tr>\n",
       "    <tr>\n",
       "      <th>295</th>\n",
       "      <td>eu sou humano e posso sonhar homem de aço 2 fo...</td>\n",
       "      <td>0.0</td>\n",
       "    </tr>\n",
       "    <tr>\n",
       "      <th>296</th>\n",
       "      <td>vi esquadrão suicida 2 hj com minhas irmã e é ...</td>\n",
       "      <td>1.0</td>\n",
       "    </tr>\n",
       "    <tr>\n",
       "      <th>297</th>\n",
       "      <td>1 eu ainda não vi o esquadrão suicida então eu...</td>\n",
       "      <td>0.0</td>\n",
       "    </tr>\n",
       "    <tr>\n",
       "      <th>298</th>\n",
       "      <td>harrymetalfan tem esquadrao suicida 2 pensei q...</td>\n",
       "      <td>0.0</td>\n",
       "    </tr>\n",
       "    <tr>\n",
       "      <th>299</th>\n",
       "      <td>nossa esquadrao suicida 2 eh tao bom q to me s...</td>\n",
       "      <td>1.0</td>\n",
       "    </tr>\n",
       "  </tbody>\n",
       "</table>\n",
       "<p>300 rows × 2 columns</p>\n",
       "</div>"
      ],
      "text/plain": [
       "                                           Treinamento  relevancia\n",
       "0    to feliz q da p prestar atenção e gostar de vá...         1.0\n",
       "1    os roteirista de esquadrão suicida 2 devem ter...         0.0\n",
       "2          assistir esse esquadrão suicida 2 de marola         0.0\n",
       "3    e eu e gilson que fechamos a sala de cinema p ...         0.0\n",
       "4         esquadrão suicida 2 é muito bom amei o filme         1.0\n",
       "..                                                 ...         ...\n",
       "295  eu sou humano e posso sonhar homem de aço 2 fo...         0.0\n",
       "296  vi esquadrão suicida 2 hj com minhas irmã e é ...         1.0\n",
       "297  1 eu ainda não vi o esquadrão suicida então eu...         0.0\n",
       "298  harrymetalfan tem esquadrao suicida 2 pensei q...         0.0\n",
       "299  nossa esquadrao suicida 2 eh tao bom q to me s...         1.0\n",
       "\n",
       "[300 rows x 2 columns]"
      ]
     },
     "metadata": {},
     "execution_count": 195
    }
   ],
   "metadata": {}
  },
  {
   "cell_type": "code",
   "execution_count": 196,
   "source": [
    "fpdr=pdrc.value_counts(True)\r\n",
    "fpdir=pdirc.value_counts(True)\r\n",
    "fptr=ptrc.value_counts(True)\r\n",
    "fptir=ptirc.value_counts(True)\r\n",
    "\r\n"
   ],
   "outputs": [],
   "metadata": {}
  },
  {
   "cell_type": "code",
   "execution_count": 197,
   "source": [
    "listatr = ptrc.tolist()\r\n",
    "listatir = ptirc.tolist()\r\n",
    "listadr = pdrc.tolist()\r\n",
    "listadir = pdirc.tolist()\r\n",
    "lista_r = listatr + listadr\r\n",
    "lista_ir = listatir + listadir\r\n",
    "lista_total2 = pd.Series(lista_r + lista_ir)\r\n",
    "\r\n",
    "lista_total1 = pd.Series(listadr+listadir)\r\n",
    "\r\n",
    "Banco_de_dados=set(listadr+listadir)\r\n",
    "\r\n",
    "\r\n",
    "lista_total1.value_counts()\r\n",
    "\r\n",
    "print(Banco_de_dados)"
   ],
   "outputs": [
    {
     "output_type": "stream",
     "name": "stdout",
     "text": [
      "{'grandes', 'porrada', 'oesquadrãosuicida', 'film', 'maneirona', 'sobre', 'florzinha', 'prazeres', 'estrela', 'at', 'sebastian', 'tao', 'kkkkkkkkk', 'pós', 'httpstcoxtjfiizobdestou', 'bobão', 'fodasepirocona', 'superou', 'riot', 'hora', 'httpstcodvu9ldva27top10', 'tentando', 'novomymaddiecade', 'chato', 'duvido', 'rirfilmes', 'melhorq', 'mkkkkkkkkmksobre', 'metadeque', '10', 'escreverassistir', 'bomizzyunou', '9', 'este', 'guerreira', 'decepcionadoesquadrão', 'as', 'onde', 'eternos', 'méesquadrão', 'deveria', 'filmes', 'idade', 'fico', 'gunn', 'guerra', 'ver', 'dcmds', '1pedrokkkkk', 'shangchi', 'lança', '2after', 'negócios', 'bomesquadrão', 'cortar', 'arruinando', 'oq', 'prestar', 'cabeça', 'cena', 'tooth', 'irmã', '1', '2698', 'cidade', '2assistir', 'massacrou', 'ator', 'amei', 'rumor', 'franquia', 'bichoassisti', 'marvel', 'cmg', 'infestada', 'rosto_implorandosim', 'tiram', 'absurdo', 'rosto_chorando_de_rireu', '6esquadrão', 'favorita', 'escuto', 'comedia', 'hater', '25set', 'significa', 'fogo', 'justamente', 'legendado', 'kkkkkkkkkkkkkkkkkkkk', 'heroi', 'pprt', 'pago', 'tequila', 'anuncio', 'ruindademeu', 'tô', 'httpstcoyjrzd4g2vkeu', 'antes', 'milhões', 'faria', '9nem', 'falando', 'kkk', 'nos', 'maior', 'dez', 'ganha', 'httpstcolgnjorkwxoe', 'toca', 'vai', 'rosto_expressando_desagrado', 'viu', 'gastodigo_horacio', '2alerquina', 'lançou', 'buzina', 'alvo', 'imaginar', 'quinn', 'ruim⚠', 'detetive_mulher_pele_morenaesquadrão', 'zzz', 'suicidesquad2', 'vaimuito', 'dnv', 'leptospiroseiaewk', 'néalta_tensão', 'sozinhavi', 'edit', 'melhoresquadrão', 'apesar', 'moscãoteiros', 'todo', 'kkkkkkk', 'partes', 'violadavis', 'batman', 'saboroso', 'httpstcozhzfbgpjupbem', 'legalquem', 'alguma', 'fora', 'noooromulomiranda_', 'kinh__', 'exibidos', 'assim', 'se', 'patrulha', '2depois', 'super', 'httpstcovnpavh1elhluafengarie', '74m€', 'ratcatcher', 'caça', 'iria', 'evagelion', 'estrelada', 'chi', 'foram', 'wanda', 'gravaram', 'polka', '2vei', 'aleluiapor', 'ficção', 'incendiou', 'carinhosamente', 'verde', 'ajudar', 'tenso', 'falta', 'os', 'ótima', 'cartoonstava', 'hjoxentepipoca', 'poucoa', '70', 'trash', '6', '❤', 'lindalilmarks1', 'todomundoodeiaochris', 'aquela', 'ano', 'ilhadenotícias', 'bom', 'chocada', 'tiro', 'poderoso', 'também', 'superior', 'esses', 'respires', 'não', 'heroína', '1filme', 'tubarão', 'ponto', 'comédia', 'pernambucana', 'rosto_dormindoesquadrão', 'falaremos', 'demorado', 'httpstcounpzka0x8teu', 'memóriavai', 'trincaqueria', '2esquadrão', 'brabo', 'news', '1boss', 'galáxia', 'parte', 'horaspensando', '2theoncediaries', 'por', 'qualidade', 'snyder', 'dceu', 'melhor', 'demaisaquele', 'otimo', 'setembro', 'todoeu', 'building', 'perde', 'day', 'sou', 'vez', 'quero', 'pqpassistam', 'kombat', 'honestamente', 'dccomics', 'vi', 'gnt', 'prettylittleliars', 'boca', 'é', 'burrice', 'carrinho_de_compras', 'cartaztop10', 'tristesesquadrao', 'ter+', 'uma', 'rosto_sorridente_com_olhos_de_coraçãooq', 'terminei', 'quarto', 'crimea', 'locoggukchase', 'paulada', 'seguidos', 'nota_de_dólar', 'serem', 'quarta', 'primeiroacabei', 'filme', 'lugar', 'consegue', 'velozes', 'ingresso', 'numa', 'nova', 'reassistir', 'rei', 'desperdiçaram', 'worst', 'vc', 'rosto_sorridente_com_3_coraçõese', 'força', 'rosto_sorridente_com_3_corações', 'ultimato', 'assistindo', 'seus', 'rosto_nauseadonossa', 'assassinos+yasutoky', 'nanaui', 'julietteblackpinkvotees', 'saiba', 'aquelas', 'justiça', 'silencioso', 'vidapra', 'rosto_com_olho_piscando', 'rato', 'gloriagroove', 'fui', '3', 'bizarro', 'mãos_juntas_pele_clarateline', 'irá', 'murders', 'salvar', 'lembrar', 'fofoesquadrão', 'shanguinho', 'tambem', 'unico', '10era', 'sinal', 'cleo', 'dublada', 'karol', 'realmente', 'três', 'promo', 'visison', 'lady', 'ótimo', 'ratinhos', 'interessar', 'conká', 'livros', 'httpstcohjlqydin9qe', 'tanto', '01', 'graçaesquadrão', '3patrulha', 'aneis', 'ia', 'palavreado', 'espero', 'arlequinha', 'pediu', 'dúvida', 'fotos', 'ai', 'ó', 'isso¿¿¿‽‽esquadrão', 'coringacornetapalestr', 'fodaterminei', 'estreia', 'importavendo', 'piratamubibrasil', 'incrível', 'humano', 'forte', 'milllllll', 'fuiprecisamos', 'pelo', 'szkntos', 'pega', 'caminhos', 'viera', 'assustade', 'sabiaeu', 'bostatem', 'dubla', 'ruins', 'temo', 'ruim', 'dessa', '️spoiler', 'sabe', 'novos', 'victoria', 've', 'suicída', 'recente', 'abordaremos', 'bosta', 'maneiro', '•', 'starro', '️celestvics', 'geral', 'kkkkkkkkkk', 'pqp', 'palha', 'adolescente', 'parar', 'httpstcopwsse0q2p8logan', 'estará', 'jack', 'crédito', 'canina', 'filmeizabelardg', 'muuuito', '⚠', '29', 'assiste', 'kkkkkkkkkkkkkkkk', 'gabopantaleaovéi', '4', 'opiniões', 'mto', 'tudo', 'vazio', 'torta', 'thesuicidesquad', 'gosto', 'assisti', 'arlequina', 'que', 'amooooookageycat', 'vale', 'httpstcogciymn5lzlalguém', 'série', 'wual', 'criado', 'saindo', 'foda', 'depressaoesquadrão', 'nesse', 'noite', 'httpstcolk5ktnokoadavidbqwie', 'celular', 'sessão', 'promoção', 'agorasegundo', 'cinefila', 'episodio', 'carregou', '35★', 'com', 'demaisesquadrão', 'furiosos', 'kkkkkesquadrão', 'conpletamente', 'ent', '136', 'poderosa', '160', '2……', 'olha', 'maluco', 'alice', 'classificativa', 'néglr', 'entendereu', 'gastei', 'crianças', 'baby', 'kkkkk5', 'primeiroa', '2016', 'nem', 'dei', 'dc', 'ta', 'dilma', 'pá', 'malesquadrão', 'chamo', 'nanue', 'caçaratos', '2o', 'altura', 'tava', '2pra', 'rosto_sorridente_com_óculos_escuros', 'picsart', 'avataralendadeaang', 'pisou', 'data', '2até', 'esquadaro', 'esmaga', 'selecionou', 'grande', 'caramba', 'seres', 'breve', 'pqpte', 'carey', 'camiseta', 'devem', 'falou', 'gostinho', 'demorei', 'jogar', 'suicidesquad2esquadrão', '7candyman', 'pro', 'tem', 'bizarras', 'falandoviolentcrims', 'entre', 'final', 'dia', 'pedrocertezas', '2vo', 'sorreio', 'recémchegados', 'umas', 'humanos', 'superar', 'httpstco5wv9gje0itfilmes', '2a', 'constatar', 'gosta', 'httpstcoitczgcjub0', 'toda', 'top10moviestxtpenis', 'viram', 'nerdboomer', 'eweu', 'primeiros', 'homi', 'eles', 'acompanhadomargot', 'kkkkkkkminha', 'kkkpueblakleydson', 'httpstcoqdcgrtdyfpspoiler', 'horrores', 'frango', 'para', 'ja', 'morrer', 'queen', 'veremos', 'melhores', 'trilha', 'bilheteria', 'bommmcarai', 'julgueesquadrão', 'nome', 'documentário', 'ainda', 'esquadrao', 'isso_leazy', 'bomadudmaia', 'nãoinmydrew', 'dela', 'httpstcouayv6dyjbq', '4esquadrão', 'casa', 'vingadores', 'james', 'tal', 'cenas', 'outra', 'baixagostei', 'nãoesquadrao', '164', 'problemas', 'insiste', 'pela', 'hypados', 'aguardo', 'aquaman', 'cheguei', 'coletivo', 'lenda', 'muitotodo', '1wooyngoth', 'editado', 'series', '8mistério', 'httpstcotpjc90fxwq1', 'httpstcotbktnxjmdxvitorsfc88', 'tvcinema', 'mortal', 'porém', 'gostar', '2free', 'pé', 'seria', 'achei', 'piadinha', 'perfeito', 'matando', 'éesquadrão', 'sucesso', 'produzindo', 'bomba', 'inflitrado', 'representatividade', 'abnerkrill', 'esperando', 'notimetodie', 'marcado', 'aves', 'httpstconyxuncm39rapagando', 'era', 'free', 'trata', 'lixão', 'pirataria', 'gomez', 'samurai', 'kkkk', 'restaurante', 'top', 'player', 'prr', '2daniel123desa', 'dono', 'achando', 'httpstco8focn5w6rc', '5', 'último', 'recentemente', 'pata', 'só', 'mima', 'httpstcoljgtzwynrpmanooooo', 'dias', 'in', 'acaso', 'ninguém', 'crlesquadrão', 'encantado', 'seja', 'brasileira', 'only', 'chegam', 'httpstcoi2i7gsswhpo', 'dentro', 'hoje', 'sangue', 'quem', 'rever', 'latina', 'delírio', 'personagem', 'crushdei', 'isso', 'seriamente', 'timegduvivier', 'sweet', 'top10moviesde', 'nn', 'tãotop', \"6d'artacão\", 'genero', 'nota', '90', 'pré', 'salva', 'encheu', 'posso', 'aquilo', 'programa', 'httpstcotylvony0qa', 'ow', 'me', 'meter', 'criminal', '9a', 'man', 'httpstcoqvlchkpkbdaté', 'grooveesquadrão', 'começa', '“o', 'httpstcox3iolxrmiwhbomaxbr_portal', 'alguns', 'httpstcosgvodey2pemano', 'httpstcopecbg6t7ajfui', 'acabei', '1°', 'pqpesquadrão', 'nao', 'chata', 'selena', 'espécie', 'tendo', 'ramo', 'completa', 'protegida', 'descobri', 'lançar', 'cueca', 'r2206', 'estranho', 'httpstco1habg69eyeharrymetalfan', 'httpstcocxyvxct1deesquadrão', 'achandoesquadrão', 'afirmou', 'emesquadrão', '♡', 'ajude', 'após', 'algumas', 'd', 'action', 'portuguêsassisti', 'parecendo', '“a', 'knd', 'colapso', 'sai', 'apaixonada', '3boss', 'comprovante', 'kamila', 'rosto_ruborizado', 'sie', 'zeldinhafui', 'bomnossa', 'kkkkkkmarcusrocha', 'violencia', 'liga', '2top', 'fazer', 'desenhos', 'lá', 'apenas', 'qualquer', 'rosto_chorando_de_rir', 'cruise', 'robbie', 'caralhoosetembro', 'httpstco8os9nhho9ecinema', 'completamente', 'roteirista', 'httpstcoyychedtc1fvou', '5free', 'descobrir', 'fofos', 'junto', 'aqui', 'fantástico', 'véi', 'bastante', 'atrizei', 'americano', '50', 'tok', 'bar', 'achar', 'httpstcoaxxvi8yaguesquadrão', 'horrível', 'terminando', 'livro_aberto', 'esquadrão', 'voz', 'ca', 'duas', 'obra', 'httpstcod1npcwm4ufto', 'doninha', 'arte', 'gigante', 'venom', 'rindo', 'filmemeu', 'forma', 'indicou', 'hq', 'desnecessárias', 'surrou', 'caí', 'peacemaker', 'solto', 'porra', '2015', 'katana', 'a', 'vamos', 'refletindo', 'puder', 'chocado', 'rosto_implorando', 'vermelho', 'imperialismo', 'filmeesquadrão', 'nada', 'aparece', 'sexualidade', 'spinoff', 'mesma', 'criticar', 'algum', 'funcionará', 'boomerang', 'suicida', 'comum', 'viúva', 'conta', '2cara', 'das', 'thr', 'passaram', 'todos', 'primeira', 'assistir', 'agora', 'música', 'tocar', 'termos', 'crítica', 'num', 'craig', 'mtvmiawfandomblink', 'podre', 'longe', 'milhão', 'morte', '️pipoca', 'dele', 'tá', 'envelopes', 'cara', 'repente', 'sinceramente', '️', 'dívida', 'linda', 'principal', 'unicamente', 'httpstcogjrnqdqctpromulomiranda_', 'sexta', 'rolando_no_chão_de_rirmtt', 'rosto_chorando_de_rirdo', 'httpstcoggii9gntcv', 'expectativas', 'foi', 'httpstcozt5k6osvtagloria', 'dirigiu', 'premiosmtvmiaw', '55', 'internet', 'beleza', 'pq', 'cinema', 'parece', 'ultimamente', 'mandar', 'no', 'passar', 'problema', 'começo', 'de', 'odioesquadrão', 'suicida2', 'agoraacabei', 'amanhã', 'depois', 'httpstcoe99lfeue8ukimbeerly_02', 'dublado', 'aranha', 'produtoraesquadrão', 'monte', 'mulher', 'bompoderia', 'ou', '2acabei', 'versão', 'malditas', 'rosto_fazendo_sinal_de_silêncio', 'então', 'falar', 'um', 'q', 'memeontem', 'diverti', 'noiapra', 'kct', 'mds', 'elemento', 'desde', 'pareço', 'pacificador', 'estamos', 'irma', 'como', '60', 'tl', 'tarde', 'costaaaaaaasnunca', 'httpstcoy85mi6eyuemano', 'fofotriste', 'enfim', 'divertido', 'merecia', 'httpstcofntxc7xjmewalfritsch', 'expectativa', 'background', 'perdi', 'and', 'parabéns', 'teve', 'lembro', 'pareça', 'hein', 'pipocavegana', 'sonhar', 'give', 'verdadeira', 'jonhcena', 'combinar', 'daddy', 'porcaria', 'dora', 'pra', '1shangchi', 'space', '2assisti', 'mn', 'issues', 'faz', 'furios', 'passando', 'gente', 'matar', 'fez', 'auge', 'o', 'putt', 'péssimo', 'uns', 'max', 'pipoca', 'slk♡', 'mortaissavitargod333', 'fraquíssimo', 'indo', '7', 'br', 'acho', 'usou', 'ratoesquadrão', 'inteiro', 'atenção', 'anima', 'httpstcoeuxdvthonmvi', 'essa', 'mtvmiawhitlovesickgirls', 'rosto_ruborizadoquero', 'personagens', 'dot', 'daqui', 'outro', 'junção', 'vera', '10velocidade', 'altas', 'supera', 'entrar', 'rosto_implorando2', 'margot', 'valeu', 'tão', 'dois', 'leão', 'sido', 'vendo', 'creditoseu', 'shang', 'hbomax', 'colocar', 'escolher', 'particularmente', '8', 'ir', 'fim', 'serio', 'rosto_chorando_aos_berrosnunca', 'now', 'passado', 'passou', 'guardiões', 'fosse', 'comida', 'será', 'bi', 'coisas', 'desse', 'mão_em_v_de_vitória_pele_claravou', 'branca', 'entregou', 'científicaihugkugisaki', 'fiquei', 'óbvio', '80', 'moral', 'maravilhosa', 'after', 'necessito', 'mariah', 'quão', 'braga', 'gostei', 'deizao', 'pessoal', 'pai', 'sua', 'comprei', 'aí', 'futuro', 'gabo', 'prometeu', 'recomendotava', 'queria', 'c', 'httpstcofuf60dflx4velozes', 'mera', '2021', 'ter', 'negra', 'lago', 'tml', 'legado', 'interagir', 'momentosacabei', 'favorito', 'rainhas', 'esperar', 'ficou', 'olhei', 'httpstcosalo5vig3zesquadrão', 'fato', 'chorar', 'imperfeições', 'estavam', 'ksksksksksks', 'infinita', 'mt', 'aço', 'gun', 'semanas', '710', 'eu', '2fase', 'legaisquero', 'colho', '007', 'arteassisti', 'suicidesquad', 'herói', 'ao', 'groove', 'pensei', 'vadias', 'carvalho', 'bebido', 'crime', 'piadas', 'projeto', 'vilão', 'rapina', 'eli', 'ilhasolteira', 'comento', 'fofo', 'feliz', 'doin', 'nanaue', 'própria', 'pior', '2esse', '1gostei', 'balangarcadeladaharley', 'impossívelliarodriguex', 'sequência', \"hq's\", '+16', 'sharkassisti', 'ajudananathhs', 'motivo', 'fiz', 'fundo', 'formado', '2não', 'anos', 'tocando', 'amigo', 'estiver', 'mané', 'você', 'assistiu', 'sainttropez', 'sentindo', 'seriogabrielnerdland', '98m€', 'querendo', 'quando', 'próximo', 'poder', 'ate', 'mundialmente', 'distraída', 'claro', 'ratos', 'ruimesquadrão', 'httpstco43yw2yaxfkjuliettefinfos', 'arlequinaassisti', '7a', 'httpstcoqlmfpewnu5top10', 'simfrleticya', 'tipo', 'del', 'mínimo', 'fa', 'jogando', 'simplesmente', 'rey', 'e', 'daniel', 'dó', 'deadpool', 'preferi', '2indo', 'eram', 'mão_em_v_de_vitória', '41m€aquela', 'diz', 'nordeste', 'brasília', 'n', '2', 'provavelmente', 'dedo', '5candyman', 'apaixonado', 'trevas', 'fala', 'entrega', 'propositalmente', 'qual', 'david', 'ele', 'arqueiro', 'candyman', \"8d'artacão\", 'arlequinaquem', 'evoluída', 'pouco', 'shot', 'maravilhoso', 'esquadraosuicida', 'desencontro', 'morre', 'gracinha', 'sem', 'httpstcox5csi9xixetô', 'preferia', 'rosto_sorridente_com_olhos_de_coração', 'casafavsmcavoy', 'mim', 'bem', 'pois', 'alta_tensão', 'httpstcoecf8fzqmpnsério', 'referência', 'noção', '2ah', 'mdsque', 'httpstcoou0u5lra7wesquadrão', 'pre', 'estilo', 'time', 'glória', 'pos', 'kkkķkkk', 'apx', 'explicação', 'etmr_antoniojr', 'minhas', '2017', 'pqpri', 'capitão', 'jonh', '2que', 'adorei', 'faltando', 'apelidei', 'saiu', 'bolinha', 'finalmente', 'chiquero', 'alguém', 'tomate', 'primeiro', 'brutal', 'santos', 'família', 'conseguir', 'estão', 'sala', 'maxduduzera25', 'conferir', 'meio', 'porque', 'marolae', 'finalsem', 'opinião', 'amo', 'empadinhas', 'piores', '2°', 'bostari', 'continuam', 'chatokkkkfui', 'maratonar', 'sair', 'primeiroesquadrão', 'hbomaxbr', 'clime', 'hora…', 'puta', 'estou', 'rosto_de_cabeça_para_baixo', '“vilões', 'mês', 'única', 'jam', 'jeito', 'incrívelvou', 'remake', 'v4', 'it', 'tela', 'gloria', 'espelho', 'conseguiria', 'difícil', 'sabia', '4tive', 'meses', 'merece', '2enfim', 'harrypotter', 'fantasy', 'kkkkkk', 'em', 'link', 'podcast', 'santosfc', 'mas', 'nenhum', 'dublê', 'fd', 'alerquina', '15', 'rosto_dormindo', 'esperava', 'simesquadrão', 'vision', 'fechamos', 'exatamente', 'tik', 'coringa', 'assisto', 'minutos', 'sacoesquadrão', 'mil', 'está', 'furiosa', 'dos', 'inesperada', 'guy', 'emocionadaaaa', 'ruimquando', 'polkadotman', 'primeiro…', 'vida', 'chave', 'sorry', 'coração_crescendo', '4patrulha', 'até', 'apareceu', 'chorei', 'américa', 'imagem', 'trêshoje', 'mais', 'muuuuito', 'everybodyhateschris', 'ela', 'depende', 'live', 'convictaamei', 'gilson', 'agitado', 'recentes', 'coisa', 'prestando', 'cine', 'cadelinha', 'filmehenriquenarizz', 'já', 'apaixonadaé……cara', 'httpstcogemtnxbekapacificador', 'na', 'sangrento', 'pariu', 'amoesquadrão', '2tô', 'passada', 'dar', 'vente', 'ser', 'passarinhosesquadrão', 'sétima', 'mes', 'primeironossa', 'do+', 'nuvem', 'bons', '75', '2resumo', 'pegando', 'páginas', '2ok', 'têm', 'entendo', 'deve', '17478383', 'mts', 'odiooo', 'atoa', 'tirando', 'povo', 'sério', 'anéis', 'nunca', 'infiltrado', 'aventureira', 'agr', 'sendo', 'enredo', '9chal', 'ep', 'davidson', '90m€', 'arrecadou', 'minds', 'hj', 'vol', 'httpstcoxq3e9z00jskashruno', 'k', 'tempo', 'ben', 'vou', 'littlecansada', 'née', 'hbo', '44', 'oscar', 'quanto', 'drive', 'absolutamente', 'agoraruanfalco', 'morrido', 'dinheiro', 'httpstcoyltb4wlzmjhaterdogui', 'deu', 'revendo', '1esquadrão', 'sobrinha', 'mesmo', 'amazon', 'caralhos', 'pessoas', 'chega', 'sera', 'stallone', 'ratopessoal', 'realminha', 'venham', 'membros', 'nossaaaa', 'pete', 'vcsgabixferrars', 'obrigação', '16', 'história', 'chefinho', 'helena', 'feedbacks', 'harley', 'certeza', 'meia', 'kkkkkkkkkkkkkkkkkkkesquadrão', 'mundo', 'tinha', 'fica', 'quinta', 'muito', 'boas', 'google', 'mal', 'ganhamos', 'népassado', '2quero', 'solo', 'menos', 'te', 'to', 'demais', '2iriam', 'fantásticas', 'tentativa', 'gore', 'tenho', 'homem', 'john', 'chinês', 'pena', 'dcne3djimi', 'violência', 'salas', 'berna', 'nham', 'do', 'games', 'leticya', 'the', 'seguidas', 'da', 'observações', 'jungle', 'primeirocaça', 'min', 'fodase', 'blackpinkheyalviverde', 'últimosshang', 'dcvocês', '230coisas', 'sempre', 'tudoachei', 'louca', 'tristeesquadrão', 'acontecer', 'terem', 'nossa', 'causa', 'domingo', 'merda', 'talvez', 'escolheu', '500', 'vote', 'diretorgostei', 'eh', 'idiota', 'esmurra', 'tempos', 'retorno', 'off', 'chorando', 'podia', 'ontem', 'dmsssssss', 'nas', 'httpstcojwhnlt6fuxeu', '12', 'quer', 'juntou', 'homem_decepcionado_pele_morena_escuraesquadrão', 'focar', 'ali', 'filmetá', 'interpretado', 'httpstcogxptz821ueesquadrão', 'httpstcobc50acicdwesquadrão', 'pprtnão', 'minha', 'legal', 'cansativa', 'matths_az', 'semana', 'dizer', '📽', 'i', 'abertoesquadrão', 'nessa', 'esse', 'kskwkdkwjdskeu', 'possível', 'preguiça', 'tss', 'tu', 'lançamento', 'dcfandome', 'estava', 'tarantino', 'vsf', 'ayer', 'vários', 'suicidatô', 'meu', 'sobreesquadrão', 'boss', '2tava', 'olhando', 'coelho', 'timeline', 'convencional', '140', 'httpstcolstrxvtaghesquadrão', 'sei', 'tbm', 'sonora', 'p', 'gaga', 'pedro', 'horrivel', 'mó', 'tempoé', 'lana', 'reaparição', 'várias', 'conseguiu', 'us', 'cor', 'aniversário', 'novo', 'sosto', 'kkkkkkkkkmds', 'legalgente', '2finalmente', 'suicidao', 'olhospqp', 'neleesquadrão', 'jumanji', 'volumes', 'descendo', 'ri', 'viassistindo', 'deus', 'bommesquadrão', 'aclamada', 'puto', 'shazam', 'começou', 'ô', 'quadrinhos', 'assitiu', 'erros', '61m€', 'sim', 'vezes', 'mortes', 'amando', 'ganhei', 'assistamamei', 'pessoa', 'ganhou', 'são', 'pdrbnt', '21', 'lançados'}\n"
     ]
    }
   ],
   "metadata": {}
  },
  {
   "cell_type": "code",
   "execution_count": 211,
   "source": [
    "# probabilidade de ser relevante:\r\n",
    "pr = len(listadr)/len(lista_total1)\r\n",
    "# probabilidade de ser irrelevante:\r\n",
    "pi = len(listadir)/len(lista_total1)\r\n",
    "\r\n",
    "\r\n",
    "\r\n",
    "print(pr+pi)"
   ],
   "outputs": [
    {
     "output_type": "stream",
     "name": "stdout",
     "text": [
      "1.0\n"
     ]
    }
   ],
   "metadata": {}
  },
  {
   "cell_type": "code",
   "execution_count": 199,
   "source": [
    "def prob_R_I(text):\r\n",
    "    Prob1 = 1\r\n",
    "    Prob2 = 1\r\n",
    "    for i in text.split():\r\n",
    "        fr = fpdr[i]\r\n",
    "        fir = fpdir[i]\r\n",
    "        Alaplace_relevante = (fr+1)/(len(listadr)+len(Banco_de_dados))\r\n",
    "        Alaplace_irrelevante = (fir+1)/(len(listadir)+len(Banco_de_dados))\r\n",
    "        Prob1 *= Alaplace_relevante\r\n",
    "        Prob2 *= Alaplace_irrelevante\r\n",
    "    if Prob1*pr > Prob2*pi:\r\n",
    "        return 1\r\n",
    "    else: \r\n",
    "        return 0 \r\n",
    "\r\n",
    "\r\n",
    "\r\n"
   ],
   "outputs": [],
   "metadata": {}
  },
  {
   "cell_type": "code",
   "execution_count": 205,
   "source": [
    "print(prob_R_I('haterdogui esquadrão suicida 2'))"
   ],
   "outputs": [
    {
     "output_type": "error",
     "ename": "KeyError",
     "evalue": "'haterdogui'",
     "traceback": [
      "\u001b[1;31m---------------------------------------------------------------------------\u001b[0m",
      "\u001b[1;31mKeyError\u001b[0m                                  Traceback (most recent call last)",
      "\u001b[1;32m~\\anaconda3\\lib\\site-packages\\pandas\\core\\indexes\\base.py\u001b[0m in \u001b[0;36mget_loc\u001b[1;34m(self, key, method, tolerance)\u001b[0m\n\u001b[0;32m   2894\u001b[0m             \u001b[1;32mtry\u001b[0m\u001b[1;33m:\u001b[0m\u001b[1;33m\u001b[0m\u001b[1;33m\u001b[0m\u001b[0m\n\u001b[1;32m-> 2895\u001b[1;33m                 \u001b[1;32mreturn\u001b[0m \u001b[0mself\u001b[0m\u001b[1;33m.\u001b[0m\u001b[0m_engine\u001b[0m\u001b[1;33m.\u001b[0m\u001b[0mget_loc\u001b[0m\u001b[1;33m(\u001b[0m\u001b[0mcasted_key\u001b[0m\u001b[1;33m)\u001b[0m\u001b[1;33m\u001b[0m\u001b[1;33m\u001b[0m\u001b[0m\n\u001b[0m\u001b[0;32m   2896\u001b[0m             \u001b[1;32mexcept\u001b[0m \u001b[0mKeyError\u001b[0m \u001b[1;32mas\u001b[0m \u001b[0merr\u001b[0m\u001b[1;33m:\u001b[0m\u001b[1;33m\u001b[0m\u001b[1;33m\u001b[0m\u001b[0m\n",
      "\u001b[1;32mpandas\\_libs\\index.pyx\u001b[0m in \u001b[0;36mpandas._libs.index.IndexEngine.get_loc\u001b[1;34m()\u001b[0m\n",
      "\u001b[1;32mpandas\\_libs\\index.pyx\u001b[0m in \u001b[0;36mpandas._libs.index.IndexEngine.get_loc\u001b[1;34m()\u001b[0m\n",
      "\u001b[1;32mpandas\\_libs\\hashtable_class_helper.pxi\u001b[0m in \u001b[0;36mpandas._libs.hashtable.PyObjectHashTable.get_item\u001b[1;34m()\u001b[0m\n",
      "\u001b[1;32mpandas\\_libs\\hashtable_class_helper.pxi\u001b[0m in \u001b[0;36mpandas._libs.hashtable.PyObjectHashTable.get_item\u001b[1;34m()\u001b[0m\n",
      "\u001b[1;31mKeyError\u001b[0m: 'haterdogui'",
      "\nThe above exception was the direct cause of the following exception:\n",
      "\u001b[1;31mKeyError\u001b[0m                                  Traceback (most recent call last)",
      "\u001b[1;32m<ipython-input-205-a4928725d61d>\u001b[0m in \u001b[0;36m<module>\u001b[1;34m\u001b[0m\n\u001b[1;32m----> 1\u001b[1;33m \u001b[0mprint\u001b[0m\u001b[1;33m(\u001b[0m\u001b[0mprob_R_I\u001b[0m\u001b[1;33m(\u001b[0m\u001b[1;34m'haterdogui esquadrão suicida 2'\u001b[0m\u001b[1;33m)\u001b[0m\u001b[1;33m)\u001b[0m\u001b[1;33m\u001b[0m\u001b[1;33m\u001b[0m\u001b[0m\n\u001b[0m",
      "\u001b[1;32m<ipython-input-199-e94640e6b4d7>\u001b[0m in \u001b[0;36mprob_R_I\u001b[1;34m(text)\u001b[0m\n\u001b[0;32m      3\u001b[0m     \u001b[0mProb2\u001b[0m \u001b[1;33m=\u001b[0m \u001b[1;36m1\u001b[0m\u001b[1;33m\u001b[0m\u001b[1;33m\u001b[0m\u001b[0m\n\u001b[0;32m      4\u001b[0m     \u001b[1;32mfor\u001b[0m \u001b[0mi\u001b[0m \u001b[1;32min\u001b[0m \u001b[0mtext\u001b[0m\u001b[1;33m.\u001b[0m\u001b[0msplit\u001b[0m\u001b[1;33m(\u001b[0m\u001b[1;33m)\u001b[0m\u001b[1;33m:\u001b[0m\u001b[1;33m\u001b[0m\u001b[1;33m\u001b[0m\u001b[0m\n\u001b[1;32m----> 5\u001b[1;33m         \u001b[0mfr\u001b[0m \u001b[1;33m=\u001b[0m \u001b[0mfpdr\u001b[0m\u001b[1;33m[\u001b[0m\u001b[0mi\u001b[0m\u001b[1;33m]\u001b[0m\u001b[1;33m\u001b[0m\u001b[1;33m\u001b[0m\u001b[0m\n\u001b[0m\u001b[0;32m      6\u001b[0m         \u001b[0mfir\u001b[0m \u001b[1;33m=\u001b[0m \u001b[0mfpdir\u001b[0m\u001b[1;33m[\u001b[0m\u001b[0mi\u001b[0m\u001b[1;33m]\u001b[0m\u001b[1;33m\u001b[0m\u001b[1;33m\u001b[0m\u001b[0m\n\u001b[0;32m      7\u001b[0m         \u001b[0mAlaplace_relevante\u001b[0m \u001b[1;33m=\u001b[0m \u001b[1;33m(\u001b[0m\u001b[0mfr\u001b[0m\u001b[1;33m+\u001b[0m\u001b[1;36m1\u001b[0m\u001b[1;33m)\u001b[0m\u001b[1;33m/\u001b[0m\u001b[1;33m(\u001b[0m\u001b[0mlen\u001b[0m\u001b[1;33m(\u001b[0m\u001b[0mlistadr\u001b[0m\u001b[1;33m)\u001b[0m\u001b[1;33m+\u001b[0m\u001b[0mlen\u001b[0m\u001b[1;33m(\u001b[0m\u001b[0mBanco_de_dados\u001b[0m\u001b[1;33m)\u001b[0m\u001b[1;33m)\u001b[0m\u001b[1;33m\u001b[0m\u001b[1;33m\u001b[0m\u001b[0m\n",
      "\u001b[1;32m~\\anaconda3\\lib\\site-packages\\pandas\\core\\series.py\u001b[0m in \u001b[0;36m__getitem__\u001b[1;34m(self, key)\u001b[0m\n\u001b[0;32m    880\u001b[0m \u001b[1;33m\u001b[0m\u001b[0m\n\u001b[0;32m    881\u001b[0m         \u001b[1;32melif\u001b[0m \u001b[0mkey_is_scalar\u001b[0m\u001b[1;33m:\u001b[0m\u001b[1;33m\u001b[0m\u001b[1;33m\u001b[0m\u001b[0m\n\u001b[1;32m--> 882\u001b[1;33m             \u001b[1;32mreturn\u001b[0m \u001b[0mself\u001b[0m\u001b[1;33m.\u001b[0m\u001b[0m_get_value\u001b[0m\u001b[1;33m(\u001b[0m\u001b[0mkey\u001b[0m\u001b[1;33m)\u001b[0m\u001b[1;33m\u001b[0m\u001b[1;33m\u001b[0m\u001b[0m\n\u001b[0m\u001b[0;32m    883\u001b[0m \u001b[1;33m\u001b[0m\u001b[0m\n\u001b[0;32m    884\u001b[0m         \u001b[1;32mif\u001b[0m \u001b[0mis_hashable\u001b[0m\u001b[1;33m(\u001b[0m\u001b[0mkey\u001b[0m\u001b[1;33m)\u001b[0m\u001b[1;33m:\u001b[0m\u001b[1;33m\u001b[0m\u001b[1;33m\u001b[0m\u001b[0m\n",
      "\u001b[1;32m~\\anaconda3\\lib\\site-packages\\pandas\\core\\series.py\u001b[0m in \u001b[0;36m_get_value\u001b[1;34m(self, label, takeable)\u001b[0m\n\u001b[0;32m    987\u001b[0m \u001b[1;33m\u001b[0m\u001b[0m\n\u001b[0;32m    988\u001b[0m         \u001b[1;31m# Similar to Index.get_value, but we do not fall back to positional\u001b[0m\u001b[1;33m\u001b[0m\u001b[1;33m\u001b[0m\u001b[1;33m\u001b[0m\u001b[0m\n\u001b[1;32m--> 989\u001b[1;33m         \u001b[0mloc\u001b[0m \u001b[1;33m=\u001b[0m \u001b[0mself\u001b[0m\u001b[1;33m.\u001b[0m\u001b[0mindex\u001b[0m\u001b[1;33m.\u001b[0m\u001b[0mget_loc\u001b[0m\u001b[1;33m(\u001b[0m\u001b[0mlabel\u001b[0m\u001b[1;33m)\u001b[0m\u001b[1;33m\u001b[0m\u001b[1;33m\u001b[0m\u001b[0m\n\u001b[0m\u001b[0;32m    990\u001b[0m         \u001b[1;32mreturn\u001b[0m \u001b[0mself\u001b[0m\u001b[1;33m.\u001b[0m\u001b[0mindex\u001b[0m\u001b[1;33m.\u001b[0m\u001b[0m_get_values_for_loc\u001b[0m\u001b[1;33m(\u001b[0m\u001b[0mself\u001b[0m\u001b[1;33m,\u001b[0m \u001b[0mloc\u001b[0m\u001b[1;33m,\u001b[0m \u001b[0mlabel\u001b[0m\u001b[1;33m)\u001b[0m\u001b[1;33m\u001b[0m\u001b[1;33m\u001b[0m\u001b[0m\n\u001b[0;32m    991\u001b[0m \u001b[1;33m\u001b[0m\u001b[0m\n",
      "\u001b[1;32m~\\anaconda3\\lib\\site-packages\\pandas\\core\\indexes\\base.py\u001b[0m in \u001b[0;36mget_loc\u001b[1;34m(self, key, method, tolerance)\u001b[0m\n\u001b[0;32m   2895\u001b[0m                 \u001b[1;32mreturn\u001b[0m \u001b[0mself\u001b[0m\u001b[1;33m.\u001b[0m\u001b[0m_engine\u001b[0m\u001b[1;33m.\u001b[0m\u001b[0mget_loc\u001b[0m\u001b[1;33m(\u001b[0m\u001b[0mcasted_key\u001b[0m\u001b[1;33m)\u001b[0m\u001b[1;33m\u001b[0m\u001b[1;33m\u001b[0m\u001b[0m\n\u001b[0;32m   2896\u001b[0m             \u001b[1;32mexcept\u001b[0m \u001b[0mKeyError\u001b[0m \u001b[1;32mas\u001b[0m \u001b[0merr\u001b[0m\u001b[1;33m:\u001b[0m\u001b[1;33m\u001b[0m\u001b[1;33m\u001b[0m\u001b[0m\n\u001b[1;32m-> 2897\u001b[1;33m                 \u001b[1;32mraise\u001b[0m \u001b[0mKeyError\u001b[0m\u001b[1;33m(\u001b[0m\u001b[0mkey\u001b[0m\u001b[1;33m)\u001b[0m \u001b[1;32mfrom\u001b[0m \u001b[0merr\u001b[0m\u001b[1;33m\u001b[0m\u001b[1;33m\u001b[0m\u001b[0m\n\u001b[0m\u001b[0;32m   2898\u001b[0m \u001b[1;33m\u001b[0m\u001b[0m\n\u001b[0;32m   2899\u001b[0m         \u001b[1;32mif\u001b[0m \u001b[0mtolerance\u001b[0m \u001b[1;32mis\u001b[0m \u001b[1;32mnot\u001b[0m \u001b[1;32mNone\u001b[0m\u001b[1;33m:\u001b[0m\u001b[1;33m\u001b[0m\u001b[1;33m\u001b[0m\u001b[0m\n",
      "\u001b[1;31mKeyError\u001b[0m: 'haterdogui'"
     ]
    }
   ],
   "metadata": {}
  },
  {
   "cell_type": "code",
   "execution_count": null,
   "source": [
    "def freq_absoluta(palavra,freq_absoluta_conjunto):\r\n",
    "    \"\"\"\r\n",
    "    Conta quantas vezes determinada palavra apareceu \r\n",
    "    na respectiva categoria, seja relevante ou irrelevante\r\n",
    "    \"\"\"\r\n",
    "\r\n",
    "    try:\r\n",
    "        return freq_absoluta_conjunto[palavra]\r\n",
    "    \r\n",
    "    except:\r\n",
    "        return 0"
   ],
   "outputs": [],
   "metadata": {}
  },
  {
   "cell_type": "code",
   "execution_count": null,
   "source": [],
   "outputs": [],
   "metadata": {}
  },
  {
   "cell_type": "code",
   "execution_count": null,
   "source": [
    "frase = 'esquadrao suicida é muito bom'\r\n",
    "n = 1\r\n",
    "for i in fpdir[frase.split()]:\r\n",
    "    n *= i \r\n",
    "Probpdir = n   \r\n",
    "print(Probpdir)\r\n",
    "\r\n",
    "n = 1\r\n",
    "for i in fpdr[frase.split()]:\r\n",
    "    n *= i \r\n",
    "Probpdr = n   \r\n",
    "print(Probpdr)\r\n",
    "\r\n",
    "n = 1\r\n",
    "for i in fptr[frase.split()]:\r\n",
    "    n *= i \r\n",
    "Probfptr = n   \r\n",
    "print(Probfptr)\r\n",
    "\r\n",
    "n = 1\r\n",
    "for i in fptir[frase.split()]:\r\n",
    "    n *= i\r\n",
    "Probfptir = n   \r\n",
    "print(Probfptir)"
   ],
   "outputs": [
    {
     "output_type": "stream",
     "name": "stdout",
     "text": [
      "1.3611458083278806e-12\n",
      "1.5299426747422336e-09\n",
      "1.834138924277446e-09\n"
     ]
    },
    {
     "output_type": "error",
     "ename": "KeyError",
     "evalue": "\"Passing list-likes to .loc or [] with any missing labels is no longer supported. The following labels were missing: Index(['bom'], dtype='object'). See https://pandas.pydata.org/pandas-docs/stable/user_guide/indexing.html#deprecate-loc-reindex-listlike\"",
     "traceback": [
      "\u001b[1;31m---------------------------------------------------------------------------\u001b[0m",
      "\u001b[1;31mKeyError\u001b[0m                                  Traceback (most recent call last)",
      "\u001b[1;32m<ipython-input-23-342c18574806>\u001b[0m in \u001b[0;36m<module>\u001b[1;34m\u001b[0m\n\u001b[0;32m     19\u001b[0m \u001b[1;33m\u001b[0m\u001b[0m\n\u001b[0;32m     20\u001b[0m \u001b[0mn\u001b[0m \u001b[1;33m=\u001b[0m \u001b[1;36m1\u001b[0m\u001b[1;33m\u001b[0m\u001b[1;33m\u001b[0m\u001b[0m\n\u001b[1;32m---> 21\u001b[1;33m \u001b[1;32mfor\u001b[0m \u001b[0mi\u001b[0m \u001b[1;32min\u001b[0m \u001b[0mfptir\u001b[0m\u001b[1;33m[\u001b[0m\u001b[0mfrase\u001b[0m\u001b[1;33m.\u001b[0m\u001b[0msplit\u001b[0m\u001b[1;33m(\u001b[0m\u001b[1;33m)\u001b[0m\u001b[1;33m]\u001b[0m\u001b[1;33m:\u001b[0m\u001b[1;33m\u001b[0m\u001b[1;33m\u001b[0m\u001b[0m\n\u001b[0m\u001b[0;32m     22\u001b[0m     \u001b[0mn\u001b[0m \u001b[1;33m*=\u001b[0m \u001b[0mi\u001b[0m \u001b[1;33m+\u001b[0m \u001b[1;36m1\u001b[0m\u001b[1;33m\u001b[0m\u001b[1;33m\u001b[0m\u001b[0m\n\u001b[0;32m     23\u001b[0m \u001b[0mProbfptir\u001b[0m \u001b[1;33m=\u001b[0m \u001b[0mn\u001b[0m\u001b[1;33m\u001b[0m\u001b[1;33m\u001b[0m\u001b[0m\n",
      "\u001b[1;32m~\\anaconda3\\lib\\site-packages\\pandas\\core\\series.py\u001b[0m in \u001b[0;36m__getitem__\u001b[1;34m(self, key)\u001b[0m\n\u001b[0;32m    904\u001b[0m             \u001b[1;32mreturn\u001b[0m \u001b[0mself\u001b[0m\u001b[1;33m.\u001b[0m\u001b[0m_get_values\u001b[0m\u001b[1;33m(\u001b[0m\u001b[0mkey\u001b[0m\u001b[1;33m)\u001b[0m\u001b[1;33m\u001b[0m\u001b[1;33m\u001b[0m\u001b[0m\n\u001b[0;32m    905\u001b[0m \u001b[1;33m\u001b[0m\u001b[0m\n\u001b[1;32m--> 906\u001b[1;33m         \u001b[1;32mreturn\u001b[0m \u001b[0mself\u001b[0m\u001b[1;33m.\u001b[0m\u001b[0m_get_with\u001b[0m\u001b[1;33m(\u001b[0m\u001b[0mkey\u001b[0m\u001b[1;33m)\u001b[0m\u001b[1;33m\u001b[0m\u001b[1;33m\u001b[0m\u001b[0m\n\u001b[0m\u001b[0;32m    907\u001b[0m \u001b[1;33m\u001b[0m\u001b[0m\n\u001b[0;32m    908\u001b[0m     \u001b[1;32mdef\u001b[0m \u001b[0m_get_with\u001b[0m\u001b[1;33m(\u001b[0m\u001b[0mself\u001b[0m\u001b[1;33m,\u001b[0m \u001b[0mkey\u001b[0m\u001b[1;33m)\u001b[0m\u001b[1;33m:\u001b[0m\u001b[1;33m\u001b[0m\u001b[1;33m\u001b[0m\u001b[0m\n",
      "\u001b[1;32m~\\anaconda3\\lib\\site-packages\\pandas\\core\\series.py\u001b[0m in \u001b[0;36m_get_with\u001b[1;34m(self, key)\u001b[0m\n\u001b[0;32m    944\u001b[0m \u001b[1;33m\u001b[0m\u001b[0m\n\u001b[0;32m    945\u001b[0m         \u001b[1;31m# handle the dup indexing case GH#4246\u001b[0m\u001b[1;33m\u001b[0m\u001b[1;33m\u001b[0m\u001b[1;33m\u001b[0m\u001b[0m\n\u001b[1;32m--> 946\u001b[1;33m         \u001b[1;32mreturn\u001b[0m \u001b[0mself\u001b[0m\u001b[1;33m.\u001b[0m\u001b[0mloc\u001b[0m\u001b[1;33m[\u001b[0m\u001b[0mkey\u001b[0m\u001b[1;33m]\u001b[0m\u001b[1;33m\u001b[0m\u001b[1;33m\u001b[0m\u001b[0m\n\u001b[0m\u001b[0;32m    947\u001b[0m \u001b[1;33m\u001b[0m\u001b[0m\n\u001b[0;32m    948\u001b[0m     \u001b[1;32mdef\u001b[0m \u001b[0m_get_values_tuple\u001b[0m\u001b[1;33m(\u001b[0m\u001b[0mself\u001b[0m\u001b[1;33m,\u001b[0m \u001b[0mkey\u001b[0m\u001b[1;33m)\u001b[0m\u001b[1;33m:\u001b[0m\u001b[1;33m\u001b[0m\u001b[1;33m\u001b[0m\u001b[0m\n",
      "\u001b[1;32m~\\anaconda3\\lib\\site-packages\\pandas\\core\\indexing.py\u001b[0m in \u001b[0;36m__getitem__\u001b[1;34m(self, key)\u001b[0m\n\u001b[0;32m    877\u001b[0m \u001b[1;33m\u001b[0m\u001b[0m\n\u001b[0;32m    878\u001b[0m             \u001b[0mmaybe_callable\u001b[0m \u001b[1;33m=\u001b[0m \u001b[0mcom\u001b[0m\u001b[1;33m.\u001b[0m\u001b[0mapply_if_callable\u001b[0m\u001b[1;33m(\u001b[0m\u001b[0mkey\u001b[0m\u001b[1;33m,\u001b[0m \u001b[0mself\u001b[0m\u001b[1;33m.\u001b[0m\u001b[0mobj\u001b[0m\u001b[1;33m)\u001b[0m\u001b[1;33m\u001b[0m\u001b[1;33m\u001b[0m\u001b[0m\n\u001b[1;32m--> 879\u001b[1;33m             \u001b[1;32mreturn\u001b[0m \u001b[0mself\u001b[0m\u001b[1;33m.\u001b[0m\u001b[0m_getitem_axis\u001b[0m\u001b[1;33m(\u001b[0m\u001b[0mmaybe_callable\u001b[0m\u001b[1;33m,\u001b[0m \u001b[0maxis\u001b[0m\u001b[1;33m=\u001b[0m\u001b[0maxis\u001b[0m\u001b[1;33m)\u001b[0m\u001b[1;33m\u001b[0m\u001b[1;33m\u001b[0m\u001b[0m\n\u001b[0m\u001b[0;32m    880\u001b[0m \u001b[1;33m\u001b[0m\u001b[0m\n\u001b[0;32m    881\u001b[0m     \u001b[1;32mdef\u001b[0m \u001b[0m_is_scalar_access\u001b[0m\u001b[1;33m(\u001b[0m\u001b[0mself\u001b[0m\u001b[1;33m,\u001b[0m \u001b[0mkey\u001b[0m\u001b[1;33m:\u001b[0m \u001b[0mTuple\u001b[0m\u001b[1;33m)\u001b[0m\u001b[1;33m:\u001b[0m\u001b[1;33m\u001b[0m\u001b[1;33m\u001b[0m\u001b[0m\n",
      "\u001b[1;32m~\\anaconda3\\lib\\site-packages\\pandas\\core\\indexing.py\u001b[0m in \u001b[0;36m_getitem_axis\u001b[1;34m(self, key, axis)\u001b[0m\n\u001b[0;32m   1097\u001b[0m                     \u001b[1;32mraise\u001b[0m \u001b[0mValueError\u001b[0m\u001b[1;33m(\u001b[0m\u001b[1;34m\"Cannot index with multidimensional key\"\u001b[0m\u001b[1;33m)\u001b[0m\u001b[1;33m\u001b[0m\u001b[1;33m\u001b[0m\u001b[0m\n\u001b[0;32m   1098\u001b[0m \u001b[1;33m\u001b[0m\u001b[0m\n\u001b[1;32m-> 1099\u001b[1;33m                 \u001b[1;32mreturn\u001b[0m \u001b[0mself\u001b[0m\u001b[1;33m.\u001b[0m\u001b[0m_getitem_iterable\u001b[0m\u001b[1;33m(\u001b[0m\u001b[0mkey\u001b[0m\u001b[1;33m,\u001b[0m \u001b[0maxis\u001b[0m\u001b[1;33m=\u001b[0m\u001b[0maxis\u001b[0m\u001b[1;33m)\u001b[0m\u001b[1;33m\u001b[0m\u001b[1;33m\u001b[0m\u001b[0m\n\u001b[0m\u001b[0;32m   1100\u001b[0m \u001b[1;33m\u001b[0m\u001b[0m\n\u001b[0;32m   1101\u001b[0m             \u001b[1;31m# nested tuple slicing\u001b[0m\u001b[1;33m\u001b[0m\u001b[1;33m\u001b[0m\u001b[1;33m\u001b[0m\u001b[0m\n",
      "\u001b[1;32m~\\anaconda3\\lib\\site-packages\\pandas\\core\\indexing.py\u001b[0m in \u001b[0;36m_getitem_iterable\u001b[1;34m(self, key, axis)\u001b[0m\n\u001b[0;32m   1035\u001b[0m \u001b[1;33m\u001b[0m\u001b[0m\n\u001b[0;32m   1036\u001b[0m         \u001b[1;31m# A collection of keys\u001b[0m\u001b[1;33m\u001b[0m\u001b[1;33m\u001b[0m\u001b[1;33m\u001b[0m\u001b[0m\n\u001b[1;32m-> 1037\u001b[1;33m         \u001b[0mkeyarr\u001b[0m\u001b[1;33m,\u001b[0m \u001b[0mindexer\u001b[0m \u001b[1;33m=\u001b[0m \u001b[0mself\u001b[0m\u001b[1;33m.\u001b[0m\u001b[0m_get_listlike_indexer\u001b[0m\u001b[1;33m(\u001b[0m\u001b[0mkey\u001b[0m\u001b[1;33m,\u001b[0m \u001b[0maxis\u001b[0m\u001b[1;33m,\u001b[0m \u001b[0mraise_missing\u001b[0m\u001b[1;33m=\u001b[0m\u001b[1;32mFalse\u001b[0m\u001b[1;33m)\u001b[0m\u001b[1;33m\u001b[0m\u001b[1;33m\u001b[0m\u001b[0m\n\u001b[0m\u001b[0;32m   1038\u001b[0m         return self.obj._reindex_with_indexers(\n\u001b[0;32m   1039\u001b[0m             \u001b[1;33m{\u001b[0m\u001b[0maxis\u001b[0m\u001b[1;33m:\u001b[0m \u001b[1;33m[\u001b[0m\u001b[0mkeyarr\u001b[0m\u001b[1;33m,\u001b[0m \u001b[0mindexer\u001b[0m\u001b[1;33m]\u001b[0m\u001b[1;33m}\u001b[0m\u001b[1;33m,\u001b[0m \u001b[0mcopy\u001b[0m\u001b[1;33m=\u001b[0m\u001b[1;32mTrue\u001b[0m\u001b[1;33m,\u001b[0m \u001b[0mallow_dups\u001b[0m\u001b[1;33m=\u001b[0m\u001b[1;32mTrue\u001b[0m\u001b[1;33m\u001b[0m\u001b[1;33m\u001b[0m\u001b[0m\n",
      "\u001b[1;32m~\\anaconda3\\lib\\site-packages\\pandas\\core\\indexing.py\u001b[0m in \u001b[0;36m_get_listlike_indexer\u001b[1;34m(self, key, axis, raise_missing)\u001b[0m\n\u001b[0;32m   1252\u001b[0m             \u001b[0mkeyarr\u001b[0m\u001b[1;33m,\u001b[0m \u001b[0mindexer\u001b[0m\u001b[1;33m,\u001b[0m \u001b[0mnew_indexer\u001b[0m \u001b[1;33m=\u001b[0m \u001b[0max\u001b[0m\u001b[1;33m.\u001b[0m\u001b[0m_reindex_non_unique\u001b[0m\u001b[1;33m(\u001b[0m\u001b[0mkeyarr\u001b[0m\u001b[1;33m)\u001b[0m\u001b[1;33m\u001b[0m\u001b[1;33m\u001b[0m\u001b[0m\n\u001b[0;32m   1253\u001b[0m \u001b[1;33m\u001b[0m\u001b[0m\n\u001b[1;32m-> 1254\u001b[1;33m         \u001b[0mself\u001b[0m\u001b[1;33m.\u001b[0m\u001b[0m_validate_read_indexer\u001b[0m\u001b[1;33m(\u001b[0m\u001b[0mkeyarr\u001b[0m\u001b[1;33m,\u001b[0m \u001b[0mindexer\u001b[0m\u001b[1;33m,\u001b[0m \u001b[0maxis\u001b[0m\u001b[1;33m,\u001b[0m \u001b[0mraise_missing\u001b[0m\u001b[1;33m=\u001b[0m\u001b[0mraise_missing\u001b[0m\u001b[1;33m)\u001b[0m\u001b[1;33m\u001b[0m\u001b[1;33m\u001b[0m\u001b[0m\n\u001b[0m\u001b[0;32m   1255\u001b[0m         \u001b[1;32mreturn\u001b[0m \u001b[0mkeyarr\u001b[0m\u001b[1;33m,\u001b[0m \u001b[0mindexer\u001b[0m\u001b[1;33m\u001b[0m\u001b[1;33m\u001b[0m\u001b[0m\n\u001b[0;32m   1256\u001b[0m \u001b[1;33m\u001b[0m\u001b[0m\n",
      "\u001b[1;32m~\\anaconda3\\lib\\site-packages\\pandas\\core\\indexing.py\u001b[0m in \u001b[0;36m_validate_read_indexer\u001b[1;34m(self, key, indexer, axis, raise_missing)\u001b[0m\n\u001b[0;32m   1313\u001b[0m \u001b[1;33m\u001b[0m\u001b[0m\n\u001b[0;32m   1314\u001b[0m                 \u001b[1;32mwith\u001b[0m \u001b[0moption_context\u001b[0m\u001b[1;33m(\u001b[0m\u001b[1;34m\"display.max_seq_items\"\u001b[0m\u001b[1;33m,\u001b[0m \u001b[1;36m10\u001b[0m\u001b[1;33m,\u001b[0m \u001b[1;34m\"display.width\"\u001b[0m\u001b[1;33m,\u001b[0m \u001b[1;36m80\u001b[0m\u001b[1;33m)\u001b[0m\u001b[1;33m:\u001b[0m\u001b[1;33m\u001b[0m\u001b[1;33m\u001b[0m\u001b[0m\n\u001b[1;32m-> 1315\u001b[1;33m                     raise KeyError(\n\u001b[0m\u001b[0;32m   1316\u001b[0m                         \u001b[1;34m\"Passing list-likes to .loc or [] with any missing labels \"\u001b[0m\u001b[1;33m\u001b[0m\u001b[1;33m\u001b[0m\u001b[0m\n\u001b[0;32m   1317\u001b[0m                         \u001b[1;34m\"is no longer supported. \"\u001b[0m\u001b[1;33m\u001b[0m\u001b[1;33m\u001b[0m\u001b[0m\n",
      "\u001b[1;31mKeyError\u001b[0m: \"Passing list-likes to .loc or [] with any missing labels is no longer supported. The following labels were missing: Index(['bom'], dtype='object'). See https://pandas.pydata.org/pandas-docs/stable/user_guide/indexing.html#deprecate-loc-reindex-listlike\""
     ]
    }
   ],
   "metadata": {}
  },
  {
   "cell_type": "code",
   "execution_count": null,
   "source": [],
   "outputs": [],
   "metadata": {}
  },
  {
   "cell_type": "code",
   "execution_count": null,
   "source": [],
   "outputs": [],
   "metadata": {}
  },
  {
   "cell_type": "markdown",
   "source": [
    "___\n",
    "### Verificando a performance do Classificador\n",
    "\n",
    "Agora você deve testar o seu classificador com a base de Testes."
   ],
   "metadata": {}
  },
  {
   "cell_type": "code",
   "execution_count": null,
   "source": [],
   "outputs": [],
   "metadata": {}
  },
  {
   "cell_type": "code",
   "execution_count": null,
   "source": [],
   "outputs": [],
   "metadata": {}
  },
  {
   "cell_type": "markdown",
   "source": [
    "___\n",
    "### Concluindo"
   ],
   "metadata": {}
  },
  {
   "cell_type": "code",
   "execution_count": null,
   "source": [],
   "outputs": [],
   "metadata": {}
  },
  {
   "cell_type": "code",
   "execution_count": null,
   "source": [],
   "outputs": [],
   "metadata": {}
  },
  {
   "cell_type": "code",
   "execution_count": null,
   "source": [],
   "outputs": [],
   "metadata": {}
  },
  {
   "cell_type": "markdown",
   "source": [
    "___\n",
    "### Qualidade do Classificador a partir de novas separações dos tweets entre Treinamento e Teste\n",
    "\n",
    "Caso for fazer esse item do Projeto"
   ],
   "metadata": {}
  },
  {
   "cell_type": "code",
   "execution_count": null,
   "source": [],
   "outputs": [],
   "metadata": {}
  },
  {
   "cell_type": "code",
   "execution_count": null,
   "source": [],
   "outputs": [],
   "metadata": {}
  },
  {
   "cell_type": "code",
   "execution_count": null,
   "source": [],
   "outputs": [],
   "metadata": {}
  },
  {
   "cell_type": "markdown",
   "source": [
    "___\n",
    "## Aperfeiçoamento:\n",
    "\n",
    "Trabalhos que conseguirem pelo menos conceito B vão evoluir em conceito dependendo da quantidade de itens avançados:\n",
    "\n",
    "* IMPLEMENTOU outras limpezas e transformações que não afetem a qualidade da informação contida nos tweets. Ex: stemming, lemmatization, stopwords\n",
    "* CORRIGIU separação de espaços entre palavras e emojis ou entre emojis e emojis\n",
    "* CRIOU categorias intermediárias de relevância baseadas na probabilidade: ex.: muito relevante, relevante, neutro, irrelevante, muito irrelevante. Pelo menos quatro categorias, com adição de mais tweets na base, conforme enunciado. (OBRIGATÓRIO PARA TRIOS, sem contar como item avançado)\n",
    "* EXPLICOU porquê não pode usar o próprio classificador para gerar mais amostras de treinamento\n",
    "* PROPÔS diferentes cenários para Naïve Bayes fora do contexto do projeto\n",
    "* SUGERIU e EXPLICOU melhorias reais com indicações concretas de como implementar (indicar como fazer e indicar material de pesquisa)\n",
    "* FEZ o item 6. Qualidade do Classificador a partir de novas separações dos tweets entre Treinamento e Teste descrito no enunciado do projeto (OBRIGATÓRIO para conceitos A ou A+)"
   ],
   "metadata": {},
   "attachments": {}
  },
  {
   "cell_type": "markdown",
   "source": [
    "___\n",
    "## Referências"
   ],
   "metadata": {}
  },
  {
   "cell_type": "markdown",
   "source": [
    "[Naive Bayes and Text Classification](https://arxiv.org/pdf/1410.5329.pdf)  **Mais completo**\n",
    "\n",
    "[A practical explanation of a Naive Bayes Classifier](https://monkeylearn.com/blog/practical-explanation-naive-bayes-classifier/) **Mais simples**"
   ],
   "metadata": {}
  },
  {
   "cell_type": "code",
   "execution_count": null,
   "source": [],
   "outputs": [],
   "metadata": {}
  }
 ],
 "metadata": {
  "kernelspec": {
   "name": "python3",
   "display_name": "Python 3.8.5 64-bit ('base': conda)"
  },
  "language_info": {
   "codemirror_mode": {
    "name": "ipython",
    "version": 3
   },
   "file_extension": ".py",
   "mimetype": "text/x-python",
   "name": "python",
   "nbconvert_exporter": "python",
   "pygments_lexer": "ipython3",
   "version": "3.8.5"
  },
  "interpreter": {
   "hash": "978d606978bb26dc1196d980de5f982f9f8ebb0565a7cd0735526ac935a81f1b"
  }
 },
 "nbformat": 4,
 "nbformat_minor": 4
}