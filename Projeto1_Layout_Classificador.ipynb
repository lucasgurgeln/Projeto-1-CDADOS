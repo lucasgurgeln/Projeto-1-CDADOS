{
 "cells": [
  {
   "cell_type": "markdown",
   "source": [
    "# Projeto 1 - Ciência dos Dados"
   ],
   "metadata": {}
  },
  {
   "cell_type": "markdown",
   "source": [
    "Nome: João Pedro Reis Lima\r\n",
    "\r\n",
    "Nome: Lucas Gurgel "
   ],
   "metadata": {}
  },
  {
   "cell_type": "markdown",
   "source": [
    "Atenção: Serão permitidos grupos de três pessoas, mas com uma rubrica mais exigente. Grupos deste tamanho precisarão fazer um questionário de avaliação de trabalho em equipe"
   ],
   "metadata": {}
  },
  {
   "cell_type": "markdown",
   "source": [
    "___\n",
    "Carregando algumas bibliotecas:"
   ],
   "metadata": {}
  },
  {
   "cell_type": "code",
   "execution_count": 5,
   "source": [
    "%matplotlib inline\r\n",
    "import pandas as pd\r\n",
    "import matplotlib.pyplot as plt\r\n",
    "import numpy as np\r\n",
    "import os"
   ],
   "outputs": [],
   "metadata": {}
  },
  {
   "cell_type": "code",
   "execution_count": 6,
   "source": [
    "print('Esperamos trabalhar no diretório')\r\n",
    "print(os.getcwd())"
   ],
   "outputs": [
    {
     "output_type": "stream",
     "name": "stdout",
     "text": [
      "Esperamos trabalhar no diretório\n",
      "c:\\Users\\lucas\\Downloads\\Projeto-1-CDADOS\n"
     ]
    }
   ],
   "metadata": {
    "scrolled": false
   }
  },
  {
   "cell_type": "markdown",
   "source": [
    "Carregando a base de dados com os tweets classificados como relevantes e não relevantes:"
   ],
   "metadata": {}
  },
  {
   "cell_type": "code",
   "execution_count": 7,
   "source": [
    "filename = 'esquadrão suicida 2.xlsx'"
   ],
   "outputs": [],
   "metadata": {}
  },
  {
   "cell_type": "code",
   "execution_count": 8,
   "source": [
    "dados = pd.read_excel(filename)\r\n",
    "dados.head(5)"
   ],
   "outputs": [
    {
     "output_type": "execute_result",
     "data": {
      "text/html": [
       "<div>\n",
       "<style scoped>\n",
       "    .dataframe tbody tr th:only-of-type {\n",
       "        vertical-align: middle;\n",
       "    }\n",
       "\n",
       "    .dataframe tbody tr th {\n",
       "        vertical-align: top;\n",
       "    }\n",
       "\n",
       "    .dataframe thead th {\n",
       "        text-align: right;\n",
       "    }\n",
       "</style>\n",
       "<table border=\"1\" class=\"dataframe\">\n",
       "  <thead>\n",
       "    <tr style=\"text-align: right;\">\n",
       "      <th></th>\n",
       "      <th>Treinamento</th>\n",
       "      <th>relevancia</th>\n",
       "    </tr>\n",
       "  </thead>\n",
       "  <tbody>\n",
       "    <tr>\n",
       "      <th>0</th>\n",
       "      <td>to feliz q da p prestar atenção e gostar de vá...</td>\n",
       "      <td>1.0</td>\n",
       "    </tr>\n",
       "    <tr>\n",
       "      <th>1</th>\n",
       "      <td>os roteirista de esquadrão suicida 2 devem ter...</td>\n",
       "      <td>0.0</td>\n",
       "    </tr>\n",
       "    <tr>\n",
       "      <th>2</th>\n",
       "      <td>assistir esse esquadrão suicida 2 de marola</td>\n",
       "      <td>0.0</td>\n",
       "    </tr>\n",
       "    <tr>\n",
       "      <th>3</th>\n",
       "      <td>e eu e gilson que fechamos a sala de cinema p ...</td>\n",
       "      <td>0.0</td>\n",
       "    </tr>\n",
       "    <tr>\n",
       "      <th>4</th>\n",
       "      <td>esquadrão suicida 2 é muito bom, amei o filme</td>\n",
       "      <td>1.0</td>\n",
       "    </tr>\n",
       "  </tbody>\n",
       "</table>\n",
       "</div>"
      ],
      "text/plain": [
       "                                         Treinamento  relevancia\n",
       "0  to feliz q da p prestar atenção e gostar de vá...         1.0\n",
       "1  os roteirista de esquadrão suicida 2 devem ter...         0.0\n",
       "2        assistir esse esquadrão suicida 2 de marola         0.0\n",
       "3  e eu e gilson que fechamos a sala de cinema p ...         0.0\n",
       "4      esquadrão suicida 2 é muito bom, amei o filme         1.0"
      ]
     },
     "metadata": {},
     "execution_count": 8
    }
   ],
   "metadata": {}
  },
  {
   "cell_type": "code",
   "execution_count": 9,
   "source": [
    "test = pd.read_excel(filename, sheet_name = 'Teste')\r\n",
    "test.head(5)"
   ],
   "outputs": [
    {
     "output_type": "execute_result",
     "data": {
      "text/html": [
       "<div>\n",
       "<style scoped>\n",
       "    .dataframe tbody tr th:only-of-type {\n",
       "        vertical-align: middle;\n",
       "    }\n",
       "\n",
       "    .dataframe tbody tr th {\n",
       "        vertical-align: top;\n",
       "    }\n",
       "\n",
       "    .dataframe thead th {\n",
       "        text-align: right;\n",
       "    }\n",
       "</style>\n",
       "<table border=\"1\" class=\"dataframe\">\n",
       "  <thead>\n",
       "    <tr style=\"text-align: right;\">\n",
       "      <th></th>\n",
       "      <th>Teste</th>\n",
       "      <th>relevancia</th>\n",
       "    </tr>\n",
       "  </thead>\n",
       "  <tbody>\n",
       "    <tr>\n",
       "      <th>0</th>\n",
       "      <td>assisti esquadrão suicida 2 com um pouco de at...</td>\n",
       "      <td>0</td>\n",
       "    </tr>\n",
       "    <tr>\n",
       "      <th>1</th>\n",
       "      <td>vou ver esquadrão suicida 2 hj, vcs já viram?</td>\n",
       "      <td>0</td>\n",
       "    </tr>\n",
       "    <tr>\n",
       "      <th>2</th>\n",
       "      <td>@lsdcomixxx adm hj eu sonhei que ele tava no e...</td>\n",
       "      <td>0</td>\n",
       "    </tr>\n",
       "    <tr>\n",
       "      <th>3</th>\n",
       "      <td>ranking personagens do esquadrão suicida:\\n\\n1...</td>\n",
       "      <td>1</td>\n",
       "    </tr>\n",
       "    <tr>\n",
       "      <th>4</th>\n",
       "      <td>mano gloria groove no esquadrão suicida 2 fico...</td>\n",
       "      <td>1</td>\n",
       "    </tr>\n",
       "  </tbody>\n",
       "</table>\n",
       "</div>"
      ],
      "text/plain": [
       "                                               Teste  relevancia\n",
       "0  assisti esquadrão suicida 2 com um pouco de at...           0\n",
       "1      vou ver esquadrão suicida 2 hj, vcs já viram?           0\n",
       "2  @lsdcomixxx adm hj eu sonhei que ele tava no e...           0\n",
       "3  ranking personagens do esquadrão suicida:\\n\\n1...           1\n",
       "4  mano gloria groove no esquadrão suicida 2 fico...           1"
      ]
     },
     "metadata": {},
     "execution_count": 9
    }
   ],
   "metadata": {}
  },
  {
   "cell_type": "markdown",
   "source": [
    "___\n",
    "## Classificador automático de sentimento\n"
   ],
   "metadata": {}
  },
  {
   "cell_type": "markdown",
   "source": [
    "Nós consideramos relavante comentários que demostravam alguma critica ao produto tais como: Se a pessoa gostou ou não da obra, o que ela sentiu(emoção), também consideramos personagens favoritos como algo relavante \r\n",
    "\r\n",
    "Não consideramos comentarios de situações adversas sem relação direta com a criticidade da obra, tal como comentarios pessoais"
   ],
   "metadata": {}
  },
  {
   "cell_type": "markdown",
   "source": [
    "___\n",
    "### Montando um Classificador Naive-Bayes\n",
    "\n",
    "Considerando apenas as mensagens da planilha Treinamento, ensine  seu classificador."
   ],
   "metadata": {}
  },
  {
   "cell_type": "code",
   "execution_count": 10,
   "source": [
    "import re \r\n",
    "import emoji\r\n",
    "from emoji import UNICODE_EMOJI\r\n",
    "\r\n",
    "\r\n",
    "def cleanup(text):\r\n",
    "    \"\"\"\r\n",
    "        Função de limpeza muito simples que troca alguns sinais básicos por espaços\r\n",
    "    \"\"\"\r\n",
    "    #import string\r\n",
    "    punctuation = '[”@\\-/!.:?;,''\"|()#$%¨&*]' # Note que os sinais [] são delimitadores de um conjunto.\r\n",
    "    pattern = re.compile(punctuation)\r\n",
    "    text_subbed = re.sub(pattern, '', text)\r\n",
    "    return text_subbed"
   ],
   "outputs": [],
   "metadata": {}
  },
  {
   "cell_type": "code",
   "execution_count": 11,
   "source": [
    "def minusculo(text):\r\n",
    "    return text.lower()"
   ],
   "outputs": [],
   "metadata": {}
  },
  {
   "cell_type": "code",
   "execution_count": 12,
   "source": [
    "def separa_emoji(tweet):\r\n",
    "   \r\n",
    "    modified=' '.join(emoji.get_emoji_regexp().split(tweet))\r\n",
    "    modified=modified.split()\r\n",
    "    for i,emoji1 in enumerate(modified):\r\n",
    "        if emoji1 in UNICODE_EMOJI['pt']:\r\n",
    "            modified[i]=UNICODE_EMOJI['pt'][emoji1].replace(':','')\r\n",
    "        else:\r\n",
    "            continue\r\n",
    "    modified=' '.join(modified)\r\n",
    "        \r\n",
    "    return modified"
   ],
   "outputs": [],
   "metadata": {}
  },
  {
   "cell_type": "code",
   "execution_count": 13,
   "source": [
    "def limpatudo(text):\r\n",
    "    tira_pontuacao = cleanup(text)\r\n",
    "    tudo_minusculo = minusculo(tira_pontuacao)\r\n",
    "    limpo = (separa_emoji(tudo_minusculo))\r\n",
    "    \r\n",
    "    return limpo\r\n",
    "\r\n"
   ],
   "outputs": [],
   "metadata": {}
  },
  {
   "cell_type": "code",
   "execution_count": 14,
   "source": [
    "def lista(df):\r\n",
    "    listaf = []\r\n",
    "    '''\r\n",
    "    p = ''\r\n",
    "    \r\n",
    "    for i in df:\r\n",
    "        p+=i + ' '\r\n",
    "        '''\r\n",
    "    lista = df.values.tolist() \r\n",
    "    for i in lista:\r\n",
    "        for palavra in i.split():\r\n",
    "            listaf.append(palavra)\r\n",
    "        \r\n",
    "    return listaf"
   ],
   "outputs": [],
   "metadata": {}
  },
  {
   "cell_type": "code",
   "execution_count": 15,
   "source": [
    "#Transformando palavras em variáveis categóricas:\r\n",
    "dados['Treinamento'] = dados['Treinamento'].astype('category')\r\n",
    "test['Teste'] = test['Teste'].astype('category')"
   ],
   "outputs": [],
   "metadata": {}
  },
  {
   "cell_type": "code",
   "execution_count": 16,
   "source": [
    "dados['Treinamento']=dados['Treinamento'].apply(limpatudo)\r\n",
    "test['Teste']=test['Teste'].apply(limpatudo)"
   ],
   "outputs": [],
   "metadata": {}
  },
  {
   "cell_type": "code",
   "execution_count": 17,
   "source": [
    "ir = dados['relevancia'] == 0\r\n",
    "r = dados['relevancia'] == 1\r\n",
    "\r\n",
    "dados_r = dados.loc[r,:]\r\n",
    "dados_ir = dados.loc[ir,:]\r\n",
    "\r\n",
    "dados_r"
   ],
   "outputs": [
    {
     "output_type": "execute_result",
     "data": {
      "text/html": [
       "<div>\n",
       "<style scoped>\n",
       "    .dataframe tbody tr th:only-of-type {\n",
       "        vertical-align: middle;\n",
       "    }\n",
       "\n",
       "    .dataframe tbody tr th {\n",
       "        vertical-align: top;\n",
       "    }\n",
       "\n",
       "    .dataframe thead th {\n",
       "        text-align: right;\n",
       "    }\n",
       "</style>\n",
       "<table border=\"1\" class=\"dataframe\">\n",
       "  <thead>\n",
       "    <tr style=\"text-align: right;\">\n",
       "      <th></th>\n",
       "      <th>Treinamento</th>\n",
       "      <th>relevancia</th>\n",
       "    </tr>\n",
       "  </thead>\n",
       "  <tbody>\n",
       "    <tr>\n",
       "      <th>0</th>\n",
       "      <td>to feliz q da p prestar atenção e gostar de vá...</td>\n",
       "      <td>1.0</td>\n",
       "    </tr>\n",
       "    <tr>\n",
       "      <th>4</th>\n",
       "      <td>esquadrão suicida 2 é muito bom amei o filme</td>\n",
       "      <td>1.0</td>\n",
       "    </tr>\n",
       "    <tr>\n",
       "      <th>5</th>\n",
       "      <td>henriquenarizz kkkkkk amigo mas pior que o esq...</td>\n",
       "      <td>1.0</td>\n",
       "    </tr>\n",
       "    <tr>\n",
       "      <th>8</th>\n",
       "      <td>ruanfalco dccomics tô p assistir esquadrão sui...</td>\n",
       "      <td>1.0</td>\n",
       "    </tr>\n",
       "    <tr>\n",
       "      <th>16</th>\n",
       "      <td>ei gostei de esquadrão suicida 2 e é só minha ...</td>\n",
       "      <td>1.0</td>\n",
       "    </tr>\n",
       "    <tr>\n",
       "      <th>...</th>\n",
       "      <td>...</td>\n",
       "      <td>...</td>\n",
       "    </tr>\n",
       "    <tr>\n",
       "      <th>290</th>\n",
       "      <td>achei esquadrão suicida 2 chatokkkk</td>\n",
       "      <td>1.0</td>\n",
       "    </tr>\n",
       "    <tr>\n",
       "      <th>291</th>\n",
       "      <td>fui assistir o esquadrão suicida 2 muito gore ...</td>\n",
       "      <td>1.0</td>\n",
       "    </tr>\n",
       "    <tr>\n",
       "      <th>294</th>\n",
       "      <td>nossa depende hq's dc e tvcinema a marvel poré...</td>\n",
       "      <td>1.0</td>\n",
       "    </tr>\n",
       "    <tr>\n",
       "      <th>296</th>\n",
       "      <td>vi esquadrão suicida 2 hj com minhas irmã e é ...</td>\n",
       "      <td>1.0</td>\n",
       "    </tr>\n",
       "    <tr>\n",
       "      <th>299</th>\n",
       "      <td>nossa esquadrao suicida 2 eh tao bom q to me s...</td>\n",
       "      <td>1.0</td>\n",
       "    </tr>\n",
       "  </tbody>\n",
       "</table>\n",
       "<p>137 rows × 2 columns</p>\n",
       "</div>"
      ],
      "text/plain": [
       "                                           Treinamento  relevancia\n",
       "0    to feliz q da p prestar atenção e gostar de vá...         1.0\n",
       "4         esquadrão suicida 2 é muito bom amei o filme         1.0\n",
       "5    henriquenarizz kkkkkk amigo mas pior que o esq...         1.0\n",
       "8    ruanfalco dccomics tô p assistir esquadrão sui...         1.0\n",
       "16   ei gostei de esquadrão suicida 2 e é só minha ...         1.0\n",
       "..                                                 ...         ...\n",
       "290                achei esquadrão suicida 2 chatokkkk         1.0\n",
       "291  fui assistir o esquadrão suicida 2 muito gore ...         1.0\n",
       "294  nossa depende hq's dc e tvcinema a marvel poré...         1.0\n",
       "296  vi esquadrão suicida 2 hj com minhas irmã e é ...         1.0\n",
       "299  nossa esquadrao suicida 2 eh tao bom q to me s...         1.0\n",
       "\n",
       "[137 rows x 2 columns]"
      ]
     },
     "metadata": {},
     "execution_count": 17
    }
   ],
   "metadata": {}
  },
  {
   "cell_type": "code",
   "execution_count": 18,
   "source": [
    "ir = test['relevancia'] == 0\r\n",
    "r = test['relevancia'] == 1\r\n",
    "\r\n",
    "test_r = test.loc[r,:]\r\n",
    "test_ir = test.loc[ir,:]\r\n",
    "\r\n",
    "test_ir"
   ],
   "outputs": [
    {
     "output_type": "execute_result",
     "data": {
      "text/html": [
       "<div>\n",
       "<style scoped>\n",
       "    .dataframe tbody tr th:only-of-type {\n",
       "        vertical-align: middle;\n",
       "    }\n",
       "\n",
       "    .dataframe tbody tr th {\n",
       "        vertical-align: top;\n",
       "    }\n",
       "\n",
       "    .dataframe thead th {\n",
       "        text-align: right;\n",
       "    }\n",
       "</style>\n",
       "<table border=\"1\" class=\"dataframe\">\n",
       "  <thead>\n",
       "    <tr style=\"text-align: right;\">\n",
       "      <th></th>\n",
       "      <th>Teste</th>\n",
       "      <th>relevancia</th>\n",
       "    </tr>\n",
       "  </thead>\n",
       "  <tbody>\n",
       "    <tr>\n",
       "      <th>0</th>\n",
       "      <td>assisti esquadrão suicida 2 com um pouco de at...</td>\n",
       "      <td>0</td>\n",
       "    </tr>\n",
       "    <tr>\n",
       "      <th>1</th>\n",
       "      <td>vou ver esquadrão suicida 2 hj vcs já viram</td>\n",
       "      <td>0</td>\n",
       "    </tr>\n",
       "    <tr>\n",
       "      <th>2</th>\n",
       "      <td>lsdcomixxx adm hj eu sonhei que ele tava no es...</td>\n",
       "      <td>0</td>\n",
       "    </tr>\n",
       "    <tr>\n",
       "      <th>5</th>\n",
       "      <td>homemaranha em o esquadrão suicida 2 confirmad...</td>\n",
       "      <td>0</td>\n",
       "    </tr>\n",
       "    <tr>\n",
       "      <th>6</th>\n",
       "      <td>queria jogat lol mas quero ver esquadrão suici...</td>\n",
       "      <td>0</td>\n",
       "    </tr>\n",
       "    <tr>\n",
       "      <th>...</th>\n",
       "      <td>...</td>\n",
       "      <td>...</td>\n",
       "    </tr>\n",
       "    <tr>\n",
       "      <th>189</th>\n",
       "      <td>atenção acabei de assistir esquadrão suicida 2...</td>\n",
       "      <td>0</td>\n",
       "    </tr>\n",
       "    <tr>\n",
       "      <th>190</th>\n",
       "      <td>aquela cena em esquadrão suicida 2 que a harle...</td>\n",
       "      <td>0</td>\n",
       "    </tr>\n",
       "    <tr>\n",
       "      <th>191</th>\n",
       "      <td>esquadrão suicida 2 parece um filme de zack sn...</td>\n",
       "      <td>0</td>\n",
       "    </tr>\n",
       "    <tr>\n",
       "      <th>192</th>\n",
       "      <td>esquadrão suicida 2 vai entrar na hbo mds eu o...</td>\n",
       "      <td>0</td>\n",
       "    </tr>\n",
       "    <tr>\n",
       "      <th>193</th>\n",
       "      <td>vantjens esquadrão suicida 2 um personagem q e...</td>\n",
       "      <td>0</td>\n",
       "    </tr>\n",
       "  </tbody>\n",
       "</table>\n",
       "<p>115 rows × 2 columns</p>\n",
       "</div>"
      ],
      "text/plain": [
       "                                                 Teste  relevancia\n",
       "0    assisti esquadrão suicida 2 com um pouco de at...           0\n",
       "1          vou ver esquadrão suicida 2 hj vcs já viram           0\n",
       "2    lsdcomixxx adm hj eu sonhei que ele tava no es...           0\n",
       "5    homemaranha em o esquadrão suicida 2 confirmad...           0\n",
       "6    queria jogat lol mas quero ver esquadrão suici...           0\n",
       "..                                                 ...         ...\n",
       "189  atenção acabei de assistir esquadrão suicida 2...           0\n",
       "190  aquela cena em esquadrão suicida 2 que a harle...           0\n",
       "191  esquadrão suicida 2 parece um filme de zack sn...           0\n",
       "192  esquadrão suicida 2 vai entrar na hbo mds eu o...           0\n",
       "193  vantjens esquadrão suicida 2 um personagem q e...           0\n",
       "\n",
       "[115 rows x 2 columns]"
      ]
     },
     "metadata": {},
     "execution_count": 18
    }
   ],
   "metadata": {}
  },
  {
   "cell_type": "code",
   "execution_count": 19,
   "source": [
    "\r\n",
    "pdr = lista(dados_r.Treinamento)\r\n",
    "\r\n",
    "pdir = lista(dados_ir.Treinamento)\r\n",
    "\r\n",
    "ptr = lista(test_r.Teste)\r\n",
    "\r\n",
    "ptir = lista(test_ir.Teste)\r\n",
    "\r\n",
    "\r\n",
    "\r\n",
    "ptrc = pd.Series(ptr) \r\n",
    "ptirc = pd.Series(ptir) \r\n",
    "pdrc = pd.Series(pdr) \r\n",
    "pdirc = pd.Series(pdir) \r\n",
    "\r\n"
   ],
   "outputs": [],
   "metadata": {}
  },
  {
   "cell_type": "code",
   "execution_count": 20,
   "source": [
    "fpdr=pdrc.value_counts(True)\r\n",
    "fpdir=pdirc.value_counts(True)\r\n",
    "fptr=ptrc.value_counts(True)\r\n",
    "fptir=ptirc.value_counts(True)\r\n",
    "\r\n"
   ],
   "outputs": [],
   "metadata": {}
  },
  {
   "cell_type": "code",
   "execution_count": 53,
   "source": [
    "listatr = ptrc.tolist()\r\n",
    "listatir = ptirc.tolist()\r\n",
    "listadr = pdrc.tolist()\r\n",
    "listadir = pdirc.tolist()\r\n",
    "lista_r = listatr + listadr\r\n",
    "lista_ir = listatir + listadir\r\n",
    "lista_total2 = pd.Series(lista_r + lista_ir)\r\n",
    "\r\n",
    "lista_total1 = pd.Series(listadr+listadir)\r\n",
    "\r\n",
    "Banco_de_dados=set(listadr+listadir)\r\n",
    "\r\n",
    "\r\n",
    "lista_total1.value_counts()\r\n",
    "\r\n",
    "print(Banco_de_dados)\r\n",
    "for i in Banco_de_dados:\r\n",
    "    if i == 'joao':\r\n",
    "        print('HETAR')"
   ],
   "outputs": [
    {
     "output_type": "stream",
     "name": "stdout",
     "text": [
      "{'dot', 'na', 'httpstcodvu9ldva27', '2698', 'dessa', 'será', 'grandes', 'passando', 'beleza', 'httpstcoggii9gntcv', 'milhão', 'harrymetalfan', 'esquadaro', '70', 'rosto_sorridente_com_3_corações', 'ela', 'ao', 'reaparição', 'tendo', 'continuam', 'pessoal', 'protegida', 'oscar', 'carrinho_de_compras', 'tarantino', 'homem_decepcionado_pele_morena_escura', 'venham', 'alerquina', 'cadelinha', 'escolheu', 'menos', 'bastante', 'talvez', 'os', 'moscãoteiros', '21', 'observações', 'faz', 'hypados', 'mé', 'fechamos', 'chinês', 'httpstco43yw2yaxfk', 'sem', 'saboroso', 'tô', 'fantásticas', 'geral', 'chatokkkk', 'estava', 'pós', 'olhos', 'doninha', 'ggukchase', 'e', 'slk', 'estão', 'querendo', 'anos', 'legais', 'divertido', '50', 'httpstcopecbg6t7aj', 'pai', '4esquadrão', 'nooo', 'ayer', 'amoooooo', 'min', 'passou', 'única', 'vez', 'no', 'esperava', 'braga', 'minds', 'sentindo', 'irá', 'nanaui', 'logan', 'nesse', 'player', 'bosta', 'franquia', 'julgue', 'por', 'herói', 'malditas', 'depende', 'brasília', 'precisamos', 'suicidesquad', 'tempo', 'amo', 'pouco', 'adorei', 'prometeu', 'vision', 'sua', 'refletindo', 'mtvmiawhitlovesickgirls', 'algum', 'murders', 'ai', 'aqui', 'pensei', 'tem', 'sie', 'nota_de_dólar', 'serio', 'tml', 'tao', 'dele', 'mínimo', 'httpstcofuf60dflx4', 'bobão', 'carregou', 'bizarras', 'humano', 'amei', 'novos', 'nao', 'para', 'gosto', 'day', 'davidson', 'justamente', 'leão', 'sendo', 'httpstcoeuxdvthonm', 'vamos', 'rosto_ruborizado', 'rosto_dormindo', 'breve', 'quarta', 'everybodyhateschris', 'estará', 'viram', 'fase', 'mané', 'vocês', 'chata', 'building', 'como', 'httpstcoxq3e9z00js', 'bomm', 'convicta', 'exibidos', 'violencia', 'branca', 'crédito', 'depressao', 'exatamente', 'mr_antoniojr', 'morrido', 'sobre', 'romulomiranda_', 'jumanji', 'linda', 'httpstcocxyvxct1de', 'escolher', '10velocidade', 'futuro', 'livros', 'httpstcoljgtzwynrp', 'tinha', 'tipo', 'milllllll', 'parte', 'esperar', 'preferi', 'momentos', 'shazam', 'dos', 'victoria', 'shangchi', 'própria', 'tocando', 'nn', 'jeito', 'galáxia', 'entender', 'lembrar', '•', 'pipocavegana', 'ta', 'demorado', 'demais', 'tocar', 'pré', 'nas', 'costaaaaaaas', 'cornetapalestr', 'vitorsfc88', 'chocada', 'puta', 'entendo', '2°', 'este', 'harrypotter', 'rindo', 'caí', 'szkntos', 'apenas', 'sabe', 'blackpink', 'samurai', 'ótima', 'caramba', 'zzz', 'certeza', 'ter+', 'completamente', 'hbomaxbr_portal', 'atoa', 'httpstcopwsse0q2p8', 'violadavis', 'dela', 'alguns', 'enfim', '29', 'baby', 'cabeça', 'porque', 'carvalho', 'merecia', 'kkkkkkkkkkkkkkkkkkk', 'httpstco8focn5w6rc', 'porcaria', 'porém', 'perfeito', 'apx', 'se', 'imperfeições', 'ca', '_leazy', 'httpstcoi2i7gsswhp', 'sobrinha', 'gostar', 'ano', 'problema', 'documentário', 'mtvmiawfandomblink', 'shanguinho', 'coletivo', 'carey', 'abnerkrill', 'burrice', 'puder', 'man', 'baixa', 'ontem', 'vera', 'veremos', 'onde', '“o', 'nota', 'apareceu', 'quarto', 'bar', 'tl', 'você', 'sangue', 'shot', 'as', 'imperialismo', 'muito', 'vi', 'maluco', 'convencional', 'pos', 'chi', 'isso', 'entrar', 'pq', 'foda', 'aparece', 'httpstco1habg69eye', 'poderia', 'completa', 'pela', 'nanaue', 'principal', 'incendiou', 'monte', 'latina', 'trash', 'glr', 'ator', '90m€', 'piadinha', 'background', 'parabéns', 'httpstconyxuncm39r', 'estiver', 'anuncio', 'sucesso', 'versão', 'estrelada', 'mesmo', 'maneirona', 'br', 'foi', 'dizer', 'horrível', 'altas', 'meio', 'pre', 'alguma', 'agora', 'comida', 'caçaratos', 'txtpenis', 'httpstcotylvony0qa', '️', 'têm', 'santos', 'hater', 'link', 'httpstcouayv6dyjbq', 'insiste', 'encantado', 'hbomax', 'feliz', 'pisou', 'comedia', '007', 'gracinha', 'c', 'tive', 'haterdogui', 'ótimo', 'altura', 'estrela', 'seria', 'oq', 'give', 'começou', 'pessoa', 'tenso', 'projeto', 'cmg', 'incrível', 'pirataria', 'crianças', 'gasto', 'duas', 'louca', 'matar', 'esses', 'buzina', 'fazer', 'apaixonada', 'sido', 'vendo', 'hbo', 'falta', 'ben', 'liga', 'conká', 'forma', '74m€', 'httpstcolstrxvtagh', '164', 'kkkkk', 'pago', 'passar', 'achei', 'comprovante', 'com', 'vsf', 'fui', 'falaremos', 'theoncediaries', 'amazon', 'berna', 'vai', 'tudo', 'apesar', 'acompanhado', 'conta', 'sozinha', 'fosse', 'nuvem', 'estamos', 'suicidesquad2', 'vol', 'meter', 'vazio', '9', 'mubibrasil', 'encheu', 'entre', 'pra', 'gastei', 'agr', 'leptospirose', 'mão_em_v_de_vitória', 'cadeladaharley', 'milhões', 'seriamente', 'consegue', '❤', \"8d'artacão\", 'significa', 'knd', 'eram', 'jogando', 'nada', 'pelo', 'três', 'tempos', 'promo', 'mkkkkkkkkmk', 'o', 'serem', 'parar', '5', 'sou', 'filmes', 'ruindade', '01', 'seja', 'ruim', '2016', 'roteirista', 'honestamente', 'heroína', 'cansativa', 'dedo', 'selena', 'povo', 'cine', 'superior', 'cidade', 'mto', 'boss', 'nessa', 'várias', 'ir', 'saiba', 'kkkkkk', 'suicida2', 'mim', 'apaixonado', 'produzindo', 'httpstcoitczgcjub0', 'sair', 'tiro', 'fim', 'tbm', '2017', 'respires', 'aberto', 'kamila', 'rever', 'cinefila', 'series', 'indo', 'kkkkkkkkk', 'ajude', 'celular', 'fora', 'rir', 'guerra', 'duvido', '3boss', 'também', 'gostei', 'aranha', 'velozes', 'oesquadrãosuicida', 'seres', 'nele', 'teve', 'falando', 'spinoff', 'aleluia', 'deadpool', 'ent', 'acho', '44', 'dúvida', 'uma', 'arte', 'mundo', 'digo_horacio', 'only', 'real', 'abordaremos', 'edit', 'lenda', 'sessão', 'péssimo', 'ó', 'deu', 'homem', 'eli', 'dmsssssss', 'violência', 'começo', 'nanathhs', 'stallone', '160', 'finalsem', 'último', 'tava', 'ainda', 'crl', 'sim', 'fofos', 'manooooo', 'tirando', 'batman', 'tomate', 'inmydrew', 'max', 'minha', 'irmã', 'ganhei', 'saiu', 'empadinhas', 'é……cara', 'gente', 'visison', 'fa', 'mesma', 'poder', 'tentativa', 'thr', 'httpstcoxtjfiizobd', 'gostinho', 'ponto', 'httpstcogciymn5lzl', 'tss', 'possível', 'paulada', 'massacrou', 'kinh__', 'sabia', 'assim', 'tok', 'poderoso', 'um', 'james', 'arlequina', 'escrever', 'd', 'bons', 'salvar', 'fala', 'valeu', 'picsart', 'issues', 'vo', 'candyman', 'humanos', 'florzinha', 'sainttropez', 'creditos', 'recomendo', 'drive', 'estranho', 'juntou', 'imagem', 'muuuuito', 'mais', 'realmente', 'ali', 'novo', 'ep', 'trevas', 'devem', '16', 'izzyunou', 'faria', 'tequila', 'passaram', 'pirata', 'mil', 'desnecessárias', 'meia', 'kimbeerly_02', 'sorreio', 'reassistir', 'hoje', 'assistindo', 'prestando', 'pro', 'legal', 'lançamento', 'space', 'bilheteria', 'aquilo', 'expectativa', 'premiosmtvmiaw', 'motivo', 'auge', 'dilma', 'deveria', 'verdadeira', 'notimetodie', 'aniversário', 'funcionará', 'blackpinkvotees', 'caminhos', 'time', 'pedrocertezas', 'sequência', 'toca', 'era', 'dar', 'americano', 'crush', 'iria', 'perde', 'favsmcavoy', 'kkkķkkk', 'kskwkdkwjdsk', 'spoiler', 'furios', 'httpstcoyychedtc1f', 'httpstcoy85mi6eyue', 'jam', '61m€', 'impossível', '136', 'polka', 'chorar', 'kkkkkkk', 'kkkkkkkkkkkkkkkkkkkk', 'vote', 'httpstco8os9nhho9e', 'trata', 'em', 'diretor', 'httpstcogxptz821ue', 'tela', 'marcusrocha', 'combinar', '75', 'constatar', 'fogo', 'kkk', 'legendado', 'guardiões', 'minhas', '15', '10era', 'httpstcozhzfbgpjup', 'mariah', 'groove', 'cinema', 'nos', 'bebido', 'comprei', 'livro_aberto', 'estilo', 'yasutoky', 'distraída', 'nossa', 'propositalmente', 'adudmaia', 'melhor', 'conferir', 'retorno', 'sonora', 'junção', 'evoluída', 'pipoca', 'conseguiu', 'aquelas', 'família', 'cena', 'formado', 'maior', 'us', 'sebastian', 'sinceramente', 'ou', 'avataralendadeaang', 'n', 'gabixferrars', 'internet', 'bolinha', 'ew', 'lança', 'marcado', 'nenhum', 'mó', 'pariu', 'caralhos', 'sala', 'it', 'mortal', 'olhando', 'indicou', 'desenhos', 'httpstcoecf8fzqmpn', 'ter', '7', 'lançar', 'del', 'fd', 'escuto', 'deve', 'forte', 'quinta', 'está', 'música', 'num', '♡', 'nanue', 'tá', 'esmaga', 'história', 'assistiu', 'noite', 'todo', 'httpstcoqvlchkpkbd', 'mds', 'todos', '55', 'espécie', 'sonhar', 'pernambucana', 'assitiu', 'quão', 'fez', 'teline', 'rumor', 'sorry', 'httpstcoqlmfpewnu5', 'melhores', 'bommm', 'espelho', 'fico', 'pete', 'httpstcox5csi9xixe', 'obrigação', 'anéis', 'i', 'assassinos+', 'lana', 'vadias', '+16', 'recente', 'guerreira', 'mandar', 'genero', 'ficção', 'torta', 'live', 'demorei', 'bomba', 'boca', 'sera', 'semanas', 'absolutamente', 'achar', 'quero', 'personagem', '“a', 'chegam', '2after', 'iaewk', 'heyalviverde', 'vingadores', 'negra', 'ratinhos', 'httpstcoyltb4wlzmj', 'izabelardg', 'anima', 'after', 'boomerang', 'espero', 'the', 'matando', 'coração_crescendo', 'pegando', 'pdrbnt', 'acontecer', 'fraquíssimo', 'dc', 'terminando', 'salva', 'ne3djimi', 'httpstcoqdcgrtdyfp', 'atriz', 'conpletamente', 'cruise', 'outro', 'httpstcod1npcwm4uf', 'imaginar', 'nunca', 'vou', 'diverti', 'snyder', '3patrulha', 'httpstcobc50acicdw', 'até', 'lilmarks1', 'gosta', 'série', 'daddy', 'amando', 'focar', '9chal', 'mera', 'vezes', 'dublado', 'maravilhosa', 'walfritsch', 'triste', 'américa', 'faltando', 'passada', 'parece', '“vilões', 'começa', 'legado', 'harley', 'semana', 'negócios', 'decepcionado', 'pueblakleydson', 'santosfc', 'ajuda', 'qual', '1shangchi', 'maneiro', 'httpstcoyjrzd4g2vk', 'adolescente', 'esquadrão', 'cor', 'rosto_chorando_de_rir', 'pirocona', 'gilson', 'violentcrims', 'horas', 'feedbacks', 'me', 'já', 'now', 'quinn', 'furiosos', 'nerdboomer', 'importa', 'john', 'páginas', 'p', 'homi', 'filme', 'katana', 'é', 'só', 'criado', 'coelho', 'cenas', 'data', 'preguiça', 'tão', 'off', 'sweet', 'particularmente', 'aguardo', 'frleticya', '1boss', 'mt', 'pareça', 'pedro', '4', 'tu', 'repente', 'robbie', 'davidbqwie', 'poderosa', 'personagens', 'frango', 'aves', 'sei', 'comédia', '6esquadrão', 'então', 'memória', 'seguidos', 'gaga', 'estreia', 'diz', 'sangrento', 'vermelho', 'primeiro…', 'desde', 'eu', 'podia', 'interessar', 'shark', 'clime', 'fofo', 'top10movies', 'rosto_chorando_aos_berros', 'margot', 'httpstcohjlqydin9q', '140', 'odio', 'pareço', 'ganhamos', 'httpstcoaxxvi8yagu', 'canina', 'recentemente', 'inflitrado', \"hq's\", 'fantástico', 'cleo', 'quer', 'hein', 'descobri', 'arrecadou', 'horrivel', 'acabei', 'et', '2015', 'qualidade', 'inteiro', 'v4', 'chamo', 'interpretado', 'mts', 'suicída', 'daniel', 'passado', 'super', 'prazeres', 'chato', 'savitargod333', 'problemas', 'gabopantaleao', 'favorito', 'httpstcozt5k6osvta', 'esse', \"6d'artacão\", 'luafengarie', 'irma', 've', '1°', 'óbvio', 'karol', 'surrou', 'dccomics', 'maravilhoso', 'aclamada', '7a', 'pior', 'meu', 'juliette', 'httpstcojwhnlt6fux', 'httpstcolgnjorkwxo', 'liarodriguex', 'action', 'httpstco5wv9gje0it', 'carai', 'finalmente', 'pqp', 'games', 'alta_tensão', 'free', 'porrada', '2', 'cheguei', 'esquadrao', 'suicida', '6', 'justiça', 'hq', 'google', 'longe', 'mês', 'envelopes', 'ri', 'classificativa', 'gunn', 'trilha', 'duduzera25', 'infiltrado', 'piadas', 'rosto_sorridente_com_olhos_de_coração', 'celestvics', 'chocado', 'vale', 'helena', 'tik', 'jungle', 'pena', 'morre', 'peacemaker', '8mistério', 'hbomaxbr', '2……', 'colho', 'iriam', 'ei', 'ok', 'podre', 'aquaman', 'saindo', 'putt', 'pessoas', 'a', 'recentes', 'jonh', 'maratonar', 'httpstcosgvodey2pe', 'queria', 'absurdo', 'nordeste', 'gabrielnerdland', 'termos', 'horrores', 'dinheiro', '5free', '4patrulha', '25set', 'noção', 'hora', 'rosto_expressando_desagrado', 'dublada', 'brabo', 'pé', 'pensando', 'juliettefinfos', 'recémchegados', 'at', '⚠', 'seguidas', 'promoção', 'tal', 'caralhoo', 'coisa', 'odiooo', 'depois', 'httpstcofntxc7xjme', 'referência', 'todomundoodeiaochris', 'henriquenarizz', 'assiste', 'das', 'kageycat', 'ô', 'enredo', 'alguém', '710', 'algumas', 'craig', 'tarde', 'criticar', 'amigo', 'sexta', 'português', 'ruanfalco', 'produtora', 'furiosa', 'casa', '230', 'detetive_mulher_pele_morena', 'chorei', 'lixão', 'bizarro', 'essa', 'chorando', 'httpstcoe99lfeue8u', '60', 'mortes', 'gun', 'antes', 'fantasy', 'colocar', 'não', 'hora…', 'aneis', 'infinita', 'dora', 'dubla', 'força', 'isso¿¿¿‽‽', 'gloriagroove', 'eternos', 'quadrinhos', '1', 'opiniões', 'mas', 'saco', 'domingo', 'fiz', 'kkkk', 'ingresso', 'prr', 'próximo', 'fica', 'pois', 'prettylittleliars', 'marvel', 'patrulha', 'apagando', 'mes', 'timeline', 'ilhadenotícias', 'pega', 'dez', 'volumes', 'fodase', 'de', 'esquadraosuicida', 'coisas', 'episodio', 'palha', 'carinhosamente', 'marola', 'graça', 'membros', 'morrer', 'dei', 'rato', 'httpstcogemtnxbeka', 'bicho', 'selecionou', 'da', 'tiram', 'bi', 'aço', 'dirigiu', 'fotos', 'aventureira', 'usou', 'vei', 'oxentepipoca', '2free', 'partes', 'sério', '500', 'dcfandome', 'emocionadaaaa', 'starro', '2tava', 'silencioso', 'restaurante', 'aí', '41m€', 'afirmou', 'setembro', 'mão_em_v_de_vitória_pele_clara', 'revendo', 'mano', 'hj', 'ver', '17478383', 'tristes', 'balangar', 'loco', 'heroi', 'httpstcox3iolxrmiw', 'atenção', '98m€', 'desencontro', 'rapina', 'dois', 'mortais', 'inesperada', 'dia', 'thesuicidesquad', 'descobrir', 'véi', 'pprt', 'agitado', 'top', 'sinal', 'vente', 'preferia', 'simplesmente', 'qualquer', 'solo', 'minutos', 'expectativas', 'moral', 'né', 'ser', 'nova', 'to', 'queen', 'ficou', 'do', 'lago', 'programa', 'gabo', 'elemento', 'pediu', 'mymaddiecade', 'ilhasolteira', 'acaso', 'ultimato', 'dublê', 'deus', 'gnt', 'boas', 'rainhas', 'descendo', 'rosto_com_olho_piscando', 'alvo', 'superar', 'ihugkugisaki', 'tooth', 'erros', 'junto', 'ninguém', 'daniel123desa', 'merece', 'jonhcena', 'opinião', 'ratcatcher', 'mal', 'ele', 'ganhou', 'cartaz', 'são', 'gduvivier', 'ja', 'ultimamente', 'segundo', 'fato', 'aquela', 'tvcinema', 'achando', 'lançados', 'estavam', 'gomez', 'arruinando', '10', 'tentando', 'muuuito', 'obra', 'mundialmente', 'entrega', 'glória', 'and', 'httpstcosalo5vig3z', 'idiota', 'venom', 'meses', 'infestada', 'assistam', 'shang', 'dono', 'gore', 'bom', 'pata', 'gloria', 'mn', 'httpstcovnpavh1elh', 'cartoons', 'coringa', 'dó', 'seus', 'últimos', 'capitão', 'aquele', 'matths_az', 'causa', 'trinca', 'news', 'r2206', 'falar', 'desperdiçaram', 'puto', 'assisti', 'rosto_implorando', 'piores', 'chefinho', 'assustade', 'rosto_de_cabeça_para_baixo', 'film', 'daqui', 'gravaram', 'dívida', '5candyman', 'terem', 'doin', '📽', 'worst', 'crime', 'kombat', 'rolando_no_chão_de_rir', 'verde', '3', 'httpstcogjrnqdqctp', 'vc', 'cortar', 'in', 'olha', 'k', 'quem', 'wooyngoth', 'quanto', 'necessito', 'editado', 'tanto', 'fundo', 'chega', 'merda', 'sétima', 'assisto', 'viu', 'uns', '35★', 'unico', 'ratos', 'prestar', 'top10', 'httpstcotpjc90fxwq', 'kkkkkkkkkk', 'entregou', 'vilão', 'jack', 'claro', 'esperando', 'rosto_sorridente_com_óculos_escuros', 'polkadotman', 'tambem', 'sos', 'científica', 'jogar', 'lançou', 'dentro', 'mulher', 'grande', 'vida', 'ow', 'leticya', 'guy', 'wual', 'primeiros', 'ate', 'após', 'remake', 'httpstcotbktnxjmdx', 'criminal', 'kkkkkkkkkkkkkkkk', 'terminei', 'ajudar', 'passarinhos', 'conseguir', 'primeira', 'rosto_nauseado', 'sexualidade', 'nem', 'eles', 'metade', '12', 'crítica', 'quando', 'ramo', 'posso', 'outra', 'mãos_juntas_pele_clara', 'toda', 'ruins', '️spoiler', 'nome', 'idade', 'lugar', 'riot', 'unicamente', 'olhei', 'amanhã', 'representatividade', 'que', 'rosto_fazendo_sinal_de_silêncio', 'apelidei', 'tenho', 'superou', 'camiseta', 'lembro', 'final', 'dceu', 'littlecansada', 'httpstcoou0u5lra7w', 'viúva', 'bem', 'ganha', 'pacificador', 'cueca', 'alice', 'foram', 'do+', 'fiquei', 'sai', 'kashruno', 'palavreado', 'explicação', 'porra', 'otimo', 'eh', 'te', '7candyman', 'desse', 'parecendo', 'podcast', 'arlequinha', 'falou', 'nham', '80', 'vcs', 'vários', 'ia', 'mtt', 'zeldinha', 'tubarão', 'resumo', 'conseguiria', 'caça', 'lady', 'nossaaaa', 'gigante', '8', 'david', 'rey', '2021', 'dnv', 'meme', 'comento', 'cara', 'httpstcounpzka0x8t', 'colapso', 'voz', 'evagelion', 'wanda', 'provavelmente', 'q', 'chave', 'supera', 'sempre', 'kct', 'noia', 'deizao', 'favorita', 'primeiro', 'lá', 'rei', 'perdi', 'interagir', 'estou', 'brasileira', 'solto', 'httpstcolk5ktnokoa', '9nem', '90', 'esmurra', 'comum', 'arqueiro', 'assistir', 'pá', 'umas', 'ksksksksksks', 'dias', 'delírio', '1pedrokkkkk', 'numa', 'salas', 'brutal', 'ah', 'difícil', 'morte'}\n"
     ]
    }
   ],
   "metadata": {}
  },
  {
   "cell_type": "code",
   "execution_count": 22,
   "source": [
    "# probabilidade de ser relevante:\r\n",
    "pr = len(listadr)/len(lista_total1)\r\n",
    "# probabilidade de ser irrelevante:\r\n",
    "pi = len(listadir)/len(lista_total1)\r\n",
    "\r\n",
    "\r\n",
    "\r\n",
    "print(pr+pi)\r\n",
    "\r\n"
   ],
   "outputs": [
    {
     "output_type": "stream",
     "name": "stdout",
     "text": [
      "1.0\n"
     ]
    }
   ],
   "metadata": {}
  },
  {
   "cell_type": "code",
   "execution_count": 23,
   "source": [
    "def laplace(frequencia_absoluta,palavras_pertecentes_a_classe):\r\n",
    "    \"\"\"\"\"\r\n",
    "    Retorna a probabilidade independente da palavra analisada pertencer ou não\r\n",
    "    a determinada classe\r\n",
    "    \"\"\"\r\n",
    "    return (frequencia_absoluta+1)/((palavras_pertecentes_a_classe)+len(Banco_de_dados))"
   ],
   "outputs": [],
   "metadata": {}
  },
  {
   "cell_type": "code",
   "execution_count": 41,
   "source": [
    "def prob_R(text):\r\n",
    "    Prob1 = 1\r\n",
    "    for i in text.split():\r\n",
    "        if i in fpdr:\r\n",
    "\r\n",
    "            Alaplace_relevante = laplace(fpdr[i], pr)\r\n",
    "        \r\n",
    "            Prob1 *= Alaplace_relevante\r\n",
    "        else:\r\n",
    "            Alaplace_relevante = laplace(0, pr)\r\n",
    "        \r\n",
    "            Prob1 *= Alaplace_relevante\r\n",
    "    return Prob1\r\n",
    "\r\n",
    "print(prob_R('assistir esse esquadrão suicida 2 de marola'))\r\n",
    "\r\n"
   ],
   "outputs": [
    {
     "output_type": "stream",
     "name": "stdout",
     "text": [
      "8.31732905864517e-23\n"
     ]
    }
   ],
   "metadata": {}
  },
  {
   "cell_type": "code",
   "execution_count": 45,
   "source": [
    "def prob_I(text):\r\n",
    "    Prob2 = 1\r\n",
    "    for i in text.split():\r\n",
    "        if i in fpdir:\r\n",
    "\r\n",
    "            Alaplace_irrelevante = laplace(fpdir[i], pi)\r\n",
    "        \r\n",
    "            Prob2 *= Alaplace_irrelevante\r\n",
    "        else:\r\n",
    "            Alaplace_irrelevante = laplace(0, pi)\r\n",
    "        \r\n",
    "            Prob2 *= Alaplace_irrelevante\r\n",
    "    return Prob2\r\n"
   ],
   "outputs": [],
   "metadata": {}
  },
  {
   "cell_type": "code",
   "execution_count": 57,
   "source": [
    "if prob_R('haterdogui') * pr >=prob_I('haterdogui')*pi:\r\n",
    "    print('MAROLAAAAAAA')\r\n",
    "else:\r\n",
    "    print(\"NÃOOO\")   \r\n",
    "\r\n",
    " "
   ],
   "outputs": [
    {
     "output_type": "stream",
     "name": "stdout",
     "text": [
      "NÃOOO\n"
     ]
    }
   ],
   "metadata": {}
  },
  {
   "cell_type": "code",
   "execution_count": null,
   "source": [
    "frase = 'esquadrao suicida é muito bom'\r\n",
    "n = 1\r\n",
    "for i in fpdir[frase.split()]:\r\n",
    "    n *= i \r\n",
    "Probpdir = n   \r\n",
    "print(Probpdir)\r\n",
    "\r\n",
    "n = 1\r\n",
    "for i in fpdr[frase.split()]:\r\n",
    "    n *= i \r\n",
    "Probpdr = n   \r\n",
    "print(Probpdr)\r\n",
    "\r\n",
    "n = 1\r\n",
    "for i in fptr[frase.split()]:\r\n",
    "    n *= i \r\n",
    "Probfptr = n   \r\n",
    "print(Probfptr)\r\n",
    "\r\n",
    "n = 1\r\n",
    "for i in fptir[frase.split()]:\r\n",
    "    n *= i\r\n",
    "Probfptir = n   \r\n",
    "print(Probfptir)"
   ],
   "outputs": [
    {
     "output_type": "stream",
     "name": "stdout",
     "text": [
      "1.3847596269482953e-12\n",
      "1.8288089274852862e-09\n",
      "2.159033147307012e-09\n"
     ]
    },
    {
     "output_type": "error",
     "ename": "KeyError",
     "evalue": "\"Passing list-likes to .loc or [] with any missing labels is no longer supported. The following labels were missing: Index(['bom'], dtype='object'). See https://pandas.pydata.org/pandas-docs/stable/user_guide/indexing.html#deprecate-loc-reindex-listlike\"",
     "traceback": [
      "\u001b[1;31m---------------------------------------------------------------------------\u001b[0m",
      "\u001b[1;31mKeyError\u001b[0m                                  Traceback (most recent call last)",
      "\u001b[1;32m<ipython-input-42-e8281b561402>\u001b[0m in \u001b[0;36m<module>\u001b[1;34m\u001b[0m\n\u001b[0;32m     19\u001b[0m \u001b[1;33m\u001b[0m\u001b[0m\n\u001b[0;32m     20\u001b[0m \u001b[0mn\u001b[0m \u001b[1;33m=\u001b[0m \u001b[1;36m1\u001b[0m\u001b[1;33m\u001b[0m\u001b[1;33m\u001b[0m\u001b[0m\n\u001b[1;32m---> 21\u001b[1;33m \u001b[1;32mfor\u001b[0m \u001b[0mi\u001b[0m \u001b[1;32min\u001b[0m \u001b[0mfptir\u001b[0m\u001b[1;33m[\u001b[0m\u001b[0mfrase\u001b[0m\u001b[1;33m.\u001b[0m\u001b[0msplit\u001b[0m\u001b[1;33m(\u001b[0m\u001b[1;33m)\u001b[0m\u001b[1;33m]\u001b[0m\u001b[1;33m:\u001b[0m\u001b[1;33m\u001b[0m\u001b[1;33m\u001b[0m\u001b[0m\n\u001b[0m\u001b[0;32m     22\u001b[0m     \u001b[0mn\u001b[0m \u001b[1;33m*=\u001b[0m \u001b[0mi\u001b[0m\u001b[1;33m\u001b[0m\u001b[1;33m\u001b[0m\u001b[0m\n\u001b[0;32m     23\u001b[0m \u001b[0mProbfptir\u001b[0m \u001b[1;33m=\u001b[0m \u001b[0mn\u001b[0m\u001b[1;33m\u001b[0m\u001b[1;33m\u001b[0m\u001b[0m\n",
      "\u001b[1;32m~\\anaconda3\\lib\\site-packages\\pandas\\core\\series.py\u001b[0m in \u001b[0;36m__getitem__\u001b[1;34m(self, key)\u001b[0m\n\u001b[0;32m    904\u001b[0m             \u001b[1;32mreturn\u001b[0m \u001b[0mself\u001b[0m\u001b[1;33m.\u001b[0m\u001b[0m_get_values\u001b[0m\u001b[1;33m(\u001b[0m\u001b[0mkey\u001b[0m\u001b[1;33m)\u001b[0m\u001b[1;33m\u001b[0m\u001b[1;33m\u001b[0m\u001b[0m\n\u001b[0;32m    905\u001b[0m \u001b[1;33m\u001b[0m\u001b[0m\n\u001b[1;32m--> 906\u001b[1;33m         \u001b[1;32mreturn\u001b[0m \u001b[0mself\u001b[0m\u001b[1;33m.\u001b[0m\u001b[0m_get_with\u001b[0m\u001b[1;33m(\u001b[0m\u001b[0mkey\u001b[0m\u001b[1;33m)\u001b[0m\u001b[1;33m\u001b[0m\u001b[1;33m\u001b[0m\u001b[0m\n\u001b[0m\u001b[0;32m    907\u001b[0m \u001b[1;33m\u001b[0m\u001b[0m\n\u001b[0;32m    908\u001b[0m     \u001b[1;32mdef\u001b[0m \u001b[0m_get_with\u001b[0m\u001b[1;33m(\u001b[0m\u001b[0mself\u001b[0m\u001b[1;33m,\u001b[0m \u001b[0mkey\u001b[0m\u001b[1;33m)\u001b[0m\u001b[1;33m:\u001b[0m\u001b[1;33m\u001b[0m\u001b[1;33m\u001b[0m\u001b[0m\n",
      "\u001b[1;32m~\\anaconda3\\lib\\site-packages\\pandas\\core\\series.py\u001b[0m in \u001b[0;36m_get_with\u001b[1;34m(self, key)\u001b[0m\n\u001b[0;32m    944\u001b[0m \u001b[1;33m\u001b[0m\u001b[0m\n\u001b[0;32m    945\u001b[0m         \u001b[1;31m# handle the dup indexing case GH#4246\u001b[0m\u001b[1;33m\u001b[0m\u001b[1;33m\u001b[0m\u001b[1;33m\u001b[0m\u001b[0m\n\u001b[1;32m--> 946\u001b[1;33m         \u001b[1;32mreturn\u001b[0m \u001b[0mself\u001b[0m\u001b[1;33m.\u001b[0m\u001b[0mloc\u001b[0m\u001b[1;33m[\u001b[0m\u001b[0mkey\u001b[0m\u001b[1;33m]\u001b[0m\u001b[1;33m\u001b[0m\u001b[1;33m\u001b[0m\u001b[0m\n\u001b[0m\u001b[0;32m    947\u001b[0m \u001b[1;33m\u001b[0m\u001b[0m\n\u001b[0;32m    948\u001b[0m     \u001b[1;32mdef\u001b[0m \u001b[0m_get_values_tuple\u001b[0m\u001b[1;33m(\u001b[0m\u001b[0mself\u001b[0m\u001b[1;33m,\u001b[0m \u001b[0mkey\u001b[0m\u001b[1;33m)\u001b[0m\u001b[1;33m:\u001b[0m\u001b[1;33m\u001b[0m\u001b[1;33m\u001b[0m\u001b[0m\n",
      "\u001b[1;32m~\\anaconda3\\lib\\site-packages\\pandas\\core\\indexing.py\u001b[0m in \u001b[0;36m__getitem__\u001b[1;34m(self, key)\u001b[0m\n\u001b[0;32m    877\u001b[0m \u001b[1;33m\u001b[0m\u001b[0m\n\u001b[0;32m    878\u001b[0m             \u001b[0mmaybe_callable\u001b[0m \u001b[1;33m=\u001b[0m \u001b[0mcom\u001b[0m\u001b[1;33m.\u001b[0m\u001b[0mapply_if_callable\u001b[0m\u001b[1;33m(\u001b[0m\u001b[0mkey\u001b[0m\u001b[1;33m,\u001b[0m \u001b[0mself\u001b[0m\u001b[1;33m.\u001b[0m\u001b[0mobj\u001b[0m\u001b[1;33m)\u001b[0m\u001b[1;33m\u001b[0m\u001b[1;33m\u001b[0m\u001b[0m\n\u001b[1;32m--> 879\u001b[1;33m             \u001b[1;32mreturn\u001b[0m \u001b[0mself\u001b[0m\u001b[1;33m.\u001b[0m\u001b[0m_getitem_axis\u001b[0m\u001b[1;33m(\u001b[0m\u001b[0mmaybe_callable\u001b[0m\u001b[1;33m,\u001b[0m \u001b[0maxis\u001b[0m\u001b[1;33m=\u001b[0m\u001b[0maxis\u001b[0m\u001b[1;33m)\u001b[0m\u001b[1;33m\u001b[0m\u001b[1;33m\u001b[0m\u001b[0m\n\u001b[0m\u001b[0;32m    880\u001b[0m \u001b[1;33m\u001b[0m\u001b[0m\n\u001b[0;32m    881\u001b[0m     \u001b[1;32mdef\u001b[0m \u001b[0m_is_scalar_access\u001b[0m\u001b[1;33m(\u001b[0m\u001b[0mself\u001b[0m\u001b[1;33m,\u001b[0m \u001b[0mkey\u001b[0m\u001b[1;33m:\u001b[0m \u001b[0mTuple\u001b[0m\u001b[1;33m)\u001b[0m\u001b[1;33m:\u001b[0m\u001b[1;33m\u001b[0m\u001b[1;33m\u001b[0m\u001b[0m\n",
      "\u001b[1;32m~\\anaconda3\\lib\\site-packages\\pandas\\core\\indexing.py\u001b[0m in \u001b[0;36m_getitem_axis\u001b[1;34m(self, key, axis)\u001b[0m\n\u001b[0;32m   1097\u001b[0m                     \u001b[1;32mraise\u001b[0m \u001b[0mValueError\u001b[0m\u001b[1;33m(\u001b[0m\u001b[1;34m\"Cannot index with multidimensional key\"\u001b[0m\u001b[1;33m)\u001b[0m\u001b[1;33m\u001b[0m\u001b[1;33m\u001b[0m\u001b[0m\n\u001b[0;32m   1098\u001b[0m \u001b[1;33m\u001b[0m\u001b[0m\n\u001b[1;32m-> 1099\u001b[1;33m                 \u001b[1;32mreturn\u001b[0m \u001b[0mself\u001b[0m\u001b[1;33m.\u001b[0m\u001b[0m_getitem_iterable\u001b[0m\u001b[1;33m(\u001b[0m\u001b[0mkey\u001b[0m\u001b[1;33m,\u001b[0m \u001b[0maxis\u001b[0m\u001b[1;33m=\u001b[0m\u001b[0maxis\u001b[0m\u001b[1;33m)\u001b[0m\u001b[1;33m\u001b[0m\u001b[1;33m\u001b[0m\u001b[0m\n\u001b[0m\u001b[0;32m   1100\u001b[0m \u001b[1;33m\u001b[0m\u001b[0m\n\u001b[0;32m   1101\u001b[0m             \u001b[1;31m# nested tuple slicing\u001b[0m\u001b[1;33m\u001b[0m\u001b[1;33m\u001b[0m\u001b[1;33m\u001b[0m\u001b[0m\n",
      "\u001b[1;32m~\\anaconda3\\lib\\site-packages\\pandas\\core\\indexing.py\u001b[0m in \u001b[0;36m_getitem_iterable\u001b[1;34m(self, key, axis)\u001b[0m\n\u001b[0;32m   1035\u001b[0m \u001b[1;33m\u001b[0m\u001b[0m\n\u001b[0;32m   1036\u001b[0m         \u001b[1;31m# A collection of keys\u001b[0m\u001b[1;33m\u001b[0m\u001b[1;33m\u001b[0m\u001b[1;33m\u001b[0m\u001b[0m\n\u001b[1;32m-> 1037\u001b[1;33m         \u001b[0mkeyarr\u001b[0m\u001b[1;33m,\u001b[0m \u001b[0mindexer\u001b[0m \u001b[1;33m=\u001b[0m \u001b[0mself\u001b[0m\u001b[1;33m.\u001b[0m\u001b[0m_get_listlike_indexer\u001b[0m\u001b[1;33m(\u001b[0m\u001b[0mkey\u001b[0m\u001b[1;33m,\u001b[0m \u001b[0maxis\u001b[0m\u001b[1;33m,\u001b[0m \u001b[0mraise_missing\u001b[0m\u001b[1;33m=\u001b[0m\u001b[1;32mFalse\u001b[0m\u001b[1;33m)\u001b[0m\u001b[1;33m\u001b[0m\u001b[1;33m\u001b[0m\u001b[0m\n\u001b[0m\u001b[0;32m   1038\u001b[0m         return self.obj._reindex_with_indexers(\n\u001b[0;32m   1039\u001b[0m             \u001b[1;33m{\u001b[0m\u001b[0maxis\u001b[0m\u001b[1;33m:\u001b[0m \u001b[1;33m[\u001b[0m\u001b[0mkeyarr\u001b[0m\u001b[1;33m,\u001b[0m \u001b[0mindexer\u001b[0m\u001b[1;33m]\u001b[0m\u001b[1;33m}\u001b[0m\u001b[1;33m,\u001b[0m \u001b[0mcopy\u001b[0m\u001b[1;33m=\u001b[0m\u001b[1;32mTrue\u001b[0m\u001b[1;33m,\u001b[0m \u001b[0mallow_dups\u001b[0m\u001b[1;33m=\u001b[0m\u001b[1;32mTrue\u001b[0m\u001b[1;33m\u001b[0m\u001b[1;33m\u001b[0m\u001b[0m\n",
      "\u001b[1;32m~\\anaconda3\\lib\\site-packages\\pandas\\core\\indexing.py\u001b[0m in \u001b[0;36m_get_listlike_indexer\u001b[1;34m(self, key, axis, raise_missing)\u001b[0m\n\u001b[0;32m   1252\u001b[0m             \u001b[0mkeyarr\u001b[0m\u001b[1;33m,\u001b[0m \u001b[0mindexer\u001b[0m\u001b[1;33m,\u001b[0m \u001b[0mnew_indexer\u001b[0m \u001b[1;33m=\u001b[0m \u001b[0max\u001b[0m\u001b[1;33m.\u001b[0m\u001b[0m_reindex_non_unique\u001b[0m\u001b[1;33m(\u001b[0m\u001b[0mkeyarr\u001b[0m\u001b[1;33m)\u001b[0m\u001b[1;33m\u001b[0m\u001b[1;33m\u001b[0m\u001b[0m\n\u001b[0;32m   1253\u001b[0m \u001b[1;33m\u001b[0m\u001b[0m\n\u001b[1;32m-> 1254\u001b[1;33m         \u001b[0mself\u001b[0m\u001b[1;33m.\u001b[0m\u001b[0m_validate_read_indexer\u001b[0m\u001b[1;33m(\u001b[0m\u001b[0mkeyarr\u001b[0m\u001b[1;33m,\u001b[0m \u001b[0mindexer\u001b[0m\u001b[1;33m,\u001b[0m \u001b[0maxis\u001b[0m\u001b[1;33m,\u001b[0m \u001b[0mraise_missing\u001b[0m\u001b[1;33m=\u001b[0m\u001b[0mraise_missing\u001b[0m\u001b[1;33m)\u001b[0m\u001b[1;33m\u001b[0m\u001b[1;33m\u001b[0m\u001b[0m\n\u001b[0m\u001b[0;32m   1255\u001b[0m         \u001b[1;32mreturn\u001b[0m \u001b[0mkeyarr\u001b[0m\u001b[1;33m,\u001b[0m \u001b[0mindexer\u001b[0m\u001b[1;33m\u001b[0m\u001b[1;33m\u001b[0m\u001b[0m\n\u001b[0;32m   1256\u001b[0m \u001b[1;33m\u001b[0m\u001b[0m\n",
      "\u001b[1;32m~\\anaconda3\\lib\\site-packages\\pandas\\core\\indexing.py\u001b[0m in \u001b[0;36m_validate_read_indexer\u001b[1;34m(self, key, indexer, axis, raise_missing)\u001b[0m\n\u001b[0;32m   1313\u001b[0m \u001b[1;33m\u001b[0m\u001b[0m\n\u001b[0;32m   1314\u001b[0m                 \u001b[1;32mwith\u001b[0m \u001b[0moption_context\u001b[0m\u001b[1;33m(\u001b[0m\u001b[1;34m\"display.max_seq_items\"\u001b[0m\u001b[1;33m,\u001b[0m \u001b[1;36m10\u001b[0m\u001b[1;33m,\u001b[0m \u001b[1;34m\"display.width\"\u001b[0m\u001b[1;33m,\u001b[0m \u001b[1;36m80\u001b[0m\u001b[1;33m)\u001b[0m\u001b[1;33m:\u001b[0m\u001b[1;33m\u001b[0m\u001b[1;33m\u001b[0m\u001b[0m\n\u001b[1;32m-> 1315\u001b[1;33m                     raise KeyError(\n\u001b[0m\u001b[0;32m   1316\u001b[0m                         \u001b[1;34m\"Passing list-likes to .loc or [] with any missing labels \"\u001b[0m\u001b[1;33m\u001b[0m\u001b[1;33m\u001b[0m\u001b[0m\n\u001b[0;32m   1317\u001b[0m                         \u001b[1;34m\"is no longer supported. \"\u001b[0m\u001b[1;33m\u001b[0m\u001b[1;33m\u001b[0m\u001b[0m\n",
      "\u001b[1;31mKeyError\u001b[0m: \"Passing list-likes to .loc or [] with any missing labels is no longer supported. The following labels were missing: Index(['bom'], dtype='object'). See https://pandas.pydata.org/pandas-docs/stable/user_guide/indexing.html#deprecate-loc-reindex-listlike\""
     ]
    }
   ],
   "metadata": {}
  },
  {
   "cell_type": "code",
   "execution_count": null,
   "source": [],
   "outputs": [],
   "metadata": {}
  },
  {
   "cell_type": "code",
   "execution_count": null,
   "source": [],
   "outputs": [],
   "metadata": {}
  },
  {
   "cell_type": "markdown",
   "source": [
    "___\n",
    "### Verificando a performance do Classificador\n",
    "\n",
    "Agora você deve testar o seu classificador com a base de Testes."
   ],
   "metadata": {}
  },
  {
   "cell_type": "code",
   "execution_count": null,
   "source": [],
   "outputs": [],
   "metadata": {}
  },
  {
   "cell_type": "code",
   "execution_count": null,
   "source": [],
   "outputs": [],
   "metadata": {}
  },
  {
   "cell_type": "markdown",
   "source": [
    "___\n",
    "### Concluindo"
   ],
   "metadata": {}
  },
  {
   "cell_type": "code",
   "execution_count": null,
   "source": [],
   "outputs": [],
   "metadata": {}
  },
  {
   "cell_type": "code",
   "execution_count": null,
   "source": [],
   "outputs": [],
   "metadata": {}
  },
  {
   "cell_type": "code",
   "execution_count": null,
   "source": [],
   "outputs": [],
   "metadata": {}
  },
  {
   "cell_type": "markdown",
   "source": [
    "___\n",
    "### Qualidade do Classificador a partir de novas separações dos tweets entre Treinamento e Teste\n",
    "\n",
    "Caso for fazer esse item do Projeto"
   ],
   "metadata": {}
  },
  {
   "cell_type": "code",
   "execution_count": null,
   "source": [],
   "outputs": [],
   "metadata": {}
  },
  {
   "cell_type": "code",
   "execution_count": null,
   "source": [],
   "outputs": [],
   "metadata": {}
  },
  {
   "cell_type": "code",
   "execution_count": null,
   "source": [],
   "outputs": [],
   "metadata": {}
  },
  {
   "cell_type": "markdown",
   "source": [
    "___\n",
    "## Aperfeiçoamento:\n",
    "\n",
    "Trabalhos que conseguirem pelo menos conceito B vão evoluir em conceito dependendo da quantidade de itens avançados:\n",
    "\n",
    "* IMPLEMENTOU outras limpezas e transformações que não afetem a qualidade da informação contida nos tweets. Ex: stemming, lemmatization, stopwords\n",
    "* CORRIGIU separação de espaços entre palavras e emojis ou entre emojis e emojis\n",
    "* CRIOU categorias intermediárias de relevância baseadas na probabilidade: ex.: muito relevante, relevante, neutro, irrelevante, muito irrelevante. Pelo menos quatro categorias, com adição de mais tweets na base, conforme enunciado. (OBRIGATÓRIO PARA TRIOS, sem contar como item avançado)\n",
    "* EXPLICOU porquê não pode usar o próprio classificador para gerar mais amostras de treinamento\n",
    "* PROPÔS diferentes cenários para Naïve Bayes fora do contexto do projeto\n",
    "* SUGERIU e EXPLICOU melhorias reais com indicações concretas de como implementar (indicar como fazer e indicar material de pesquisa)\n",
    "* FEZ o item 6. Qualidade do Classificador a partir de novas separações dos tweets entre Treinamento e Teste descrito no enunciado do projeto (OBRIGATÓRIO para conceitos A ou A+)"
   ],
   "metadata": {},
   "attachments": {}
  },
  {
   "cell_type": "markdown",
   "source": [
    "___\n",
    "## Referências"
   ],
   "metadata": {}
  },
  {
   "cell_type": "markdown",
   "source": [
    "[Naive Bayes and Text Classification](https://arxiv.org/pdf/1410.5329.pdf)  **Mais completo**\n",
    "\n",
    "[A practical explanation of a Naive Bayes Classifier](https://monkeylearn.com/blog/practical-explanation-naive-bayes-classifier/) **Mais simples**"
   ],
   "metadata": {}
  },
  {
   "cell_type": "code",
   "execution_count": null,
   "source": [],
   "outputs": [],
   "metadata": {}
  }
 ],
 "metadata": {
  "kernelspec": {
   "name": "python3",
   "display_name": "Python 3.8.5 64-bit ('base': conda)"
  },
  "language_info": {
   "codemirror_mode": {
    "name": "ipython",
    "version": 3
   },
   "file_extension": ".py",
   "mimetype": "text/x-python",
   "name": "python",
   "nbconvert_exporter": "python",
   "pygments_lexer": "ipython3",
   "version": "3.8.5"
  },
  "interpreter": {
   "hash": "8003219c8c57211ee3be347d121ba14ebad7276cdae3d94be72d9e4e17f9edd5"
  }
 },
 "nbformat": 4,
 "nbformat_minor": 4
}