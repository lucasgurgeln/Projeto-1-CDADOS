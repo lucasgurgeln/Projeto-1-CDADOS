{
 "cells": [
  {
   "cell_type": "markdown",
   "source": [
    "# Projeto 1 - Ciência dos Dados"
   ],
   "metadata": {}
  },
  {
   "cell_type": "markdown",
   "source": [
    "Nome: João Pedro Reis Lima\r\n",
    "\r\n",
    "Nome: Lucas Gurgel "
   ],
   "metadata": {}
  },
  {
   "cell_type": "markdown",
   "source": [
    "Atenção: Serão permitidos grupos de três pessoas, mas com uma rubrica mais exigente. Grupos deste tamanho precisarão fazer um questionário de avaliação de trabalho em equipe"
   ],
   "metadata": {}
  },
  {
   "cell_type": "markdown",
   "source": [
    "___\r\n",
    "Carregando algumas bibliotecas:"
   ],
   "metadata": {}
  },
  {
   "cell_type": "code",
   "execution_count": 252,
   "source": [
    "%matplotlib inline\r\n",
    "import pandas as pd\r\n",
    "import matplotlib.pyplot as plt\r\n",
    "import numpy as np\r\n",
    "import os\r\n",
    "import re \r\n",
    "import emoji\r\n",
    "from emoji import UNICODE_EMOJI\r\n",
    "from random import *\r\n",
    "from sklearn.model_selection import train_test_split"
   ],
   "outputs": [],
   "metadata": {}
  },
  {
   "cell_type": "code",
   "execution_count": 253,
   "source": [
    "print('Esperamos trabalhar no diretório')\r\n",
    "print(os.getcwd())"
   ],
   "outputs": [
    {
     "output_type": "stream",
     "name": "stdout",
     "text": [
      "Esperamos trabalhar no diretório\n",
      "c:\\Users\\Joao\\Projeto-1-CDADOS\n"
     ]
    }
   ],
   "metadata": {
    "scrolled": false
   }
  },
  {
   "cell_type": "markdown",
   "source": [
    "Carregando a base de dados com os tweets classificados como relevantes e não relevantes:"
   ],
   "metadata": {}
  },
  {
   "cell_type": "code",
   "execution_count": 254,
   "source": [
    "filename = 'esquadrão suicida 2.xlsx'"
   ],
   "outputs": [],
   "metadata": {}
  },
  {
   "cell_type": "code",
   "execution_count": 255,
   "source": [
    "dados = pd.read_excel(filename)\r\n",
    "dados.head(5)"
   ],
   "outputs": [
    {
     "output_type": "execute_result",
     "data": {
      "text/html": [
       "<div>\n",
       "<style scoped>\n",
       "    .dataframe tbody tr th:only-of-type {\n",
       "        vertical-align: middle;\n",
       "    }\n",
       "\n",
       "    .dataframe tbody tr th {\n",
       "        vertical-align: top;\n",
       "    }\n",
       "\n",
       "    .dataframe thead th {\n",
       "        text-align: right;\n",
       "    }\n",
       "</style>\n",
       "<table border=\"1\" class=\"dataframe\">\n",
       "  <thead>\n",
       "    <tr style=\"text-align: right;\">\n",
       "      <th></th>\n",
       "      <th>Treinamento</th>\n",
       "      <th>relevancia</th>\n",
       "    </tr>\n",
       "  </thead>\n",
       "  <tbody>\n",
       "    <tr>\n",
       "      <th>0</th>\n",
       "      <td>to feliz q da p prestar atenção e gostar de vá...</td>\n",
       "      <td>1</td>\n",
       "    </tr>\n",
       "    <tr>\n",
       "      <th>1</th>\n",
       "      <td>os roteirista de esquadrão suicida 2 devem ter...</td>\n",
       "      <td>0</td>\n",
       "    </tr>\n",
       "    <tr>\n",
       "      <th>2</th>\n",
       "      <td>assistir esse esquadrão suicida 2 de marola</td>\n",
       "      <td>0</td>\n",
       "    </tr>\n",
       "    <tr>\n",
       "      <th>3</th>\n",
       "      <td>e eu e gilson que fechamos a sala de cinema p ...</td>\n",
       "      <td>0</td>\n",
       "    </tr>\n",
       "    <tr>\n",
       "      <th>4</th>\n",
       "      <td>esquadrão suicida 2 é muito bom, amei o filme</td>\n",
       "      <td>1</td>\n",
       "    </tr>\n",
       "  </tbody>\n",
       "</table>\n",
       "</div>"
      ],
      "text/plain": [
       "                                         Treinamento  relevancia\n",
       "0  to feliz q da p prestar atenção e gostar de vá...           1\n",
       "1  os roteirista de esquadrão suicida 2 devem ter...           0\n",
       "2        assistir esse esquadrão suicida 2 de marola           0\n",
       "3  e eu e gilson que fechamos a sala de cinema p ...           0\n",
       "4      esquadrão suicida 2 é muito bom, amei o filme           1"
      ]
     },
     "metadata": {},
     "execution_count": 255
    }
   ],
   "metadata": {}
  },
  {
   "cell_type": "code",
   "execution_count": 256,
   "source": [
    "test = pd.read_excel(filename, sheet_name = 'Teste')\r\n",
    "test.head(5)"
   ],
   "outputs": [
    {
     "output_type": "execute_result",
     "data": {
      "text/html": [
       "<div>\n",
       "<style scoped>\n",
       "    .dataframe tbody tr th:only-of-type {\n",
       "        vertical-align: middle;\n",
       "    }\n",
       "\n",
       "    .dataframe tbody tr th {\n",
       "        vertical-align: top;\n",
       "    }\n",
       "\n",
       "    .dataframe thead th {\n",
       "        text-align: right;\n",
       "    }\n",
       "</style>\n",
       "<table border=\"1\" class=\"dataframe\">\n",
       "  <thead>\n",
       "    <tr style=\"text-align: right;\">\n",
       "      <th></th>\n",
       "      <th>Teste</th>\n",
       "      <th>relevancia</th>\n",
       "    </tr>\n",
       "  </thead>\n",
       "  <tbody>\n",
       "    <tr>\n",
       "      <th>0</th>\n",
       "      <td>assisti esquadrão suicida 2 com um pouco de at...</td>\n",
       "      <td>0</td>\n",
       "    </tr>\n",
       "    <tr>\n",
       "      <th>1</th>\n",
       "      <td>vou ver esquadrão suicida 2 hj, vcs já viram?</td>\n",
       "      <td>0</td>\n",
       "    </tr>\n",
       "    <tr>\n",
       "      <th>2</th>\n",
       "      <td>@lsdcomixxx adm hj eu sonhei que ele tava no e...</td>\n",
       "      <td>0</td>\n",
       "    </tr>\n",
       "    <tr>\n",
       "      <th>3</th>\n",
       "      <td>ranking personagens do esquadrão suicida:\\n\\n1...</td>\n",
       "      <td>1</td>\n",
       "    </tr>\n",
       "    <tr>\n",
       "      <th>4</th>\n",
       "      <td>mano gloria groove no esquadrão suicida 2 fico...</td>\n",
       "      <td>1</td>\n",
       "    </tr>\n",
       "  </tbody>\n",
       "</table>\n",
       "</div>"
      ],
      "text/plain": [
       "                                               Teste  relevancia\n",
       "0  assisti esquadrão suicida 2 com um pouco de at...           0\n",
       "1      vou ver esquadrão suicida 2 hj, vcs já viram?           0\n",
       "2  @lsdcomixxx adm hj eu sonhei que ele tava no e...           0\n",
       "3  ranking personagens do esquadrão suicida:\\n\\n1...           1\n",
       "4  mano gloria groove no esquadrão suicida 2 fico...           1"
      ]
     },
     "metadata": {},
     "execution_count": 256
    }
   ],
   "metadata": {}
  },
  {
   "cell_type": "markdown",
   "source": [
    "___\r\n",
    "## Classificador automático de sentimento\r\n"
   ],
   "metadata": {}
  },
  {
   "cell_type": "markdown",
   "source": [
    "## Relavante \r\n",
    "Comentários que demostravam alguma critica ao produto tais como: Se a pessoa gostou ou não da obra, o que ela sentiu(emoção), também consideramos personagens favoritos como algo relavante \r\n",
    "\r\n",
    "## Irrelevante\r\n",
    "Não consideramos comentarios de situações adversas sem relação direta com a criticidade da obra, tal como comentarios pessoais"
   ],
   "metadata": {}
  },
  {
   "cell_type": "markdown",
   "source": [
    "___\r\n",
    "### Montando um Classificador Naive-Bayes\r\n",
    "\r\n",
    "Naive Bayes é uma técnica simples para construir classificadores: modelos que atribuem rótulos de classe a instâncias do problema, representados como vetores de valores de recursos , onde os rótulos de classe são extraídos de algum conjunto finito. Não existe um único algoritmo para treinar tais classificadores, mas uma família de algoritmos baseados em um princípio comum: todos os classificadores Bayes ingênuos assumem que o valor de uma característica particular é independente do valor de qualquer outra característica, dada a variável de classe. Por exemplo, uma fruta pode ser considerada uma maçã se for vermelha, redonda e tiver cerca de 10 cm de diâmetro. Um classificador Bayes ingênuo considera cada uma dessas características para contribuir de forma independente para a probabilidade de que esta fruta seja uma maçã, independentemente de qualquercorrelações entre as características de cor, circularidade e diâmetro.\r\n"
   ],
   "metadata": {}
  },
  {
   "cell_type": "markdown",
   "source": [
    "______________\r\n",
    "\r\n",
    "### Limpando o Excel\r\n",
    "\r\n",
    "sinais de pontuação e diversos \r\n",
    "\r\n",
    "Letras minusculas\r\n",
    "\r\n",
    "Separação de emojis\r\n",
    "\r\n",
    "aplicando Stopwords\r\n",
    "\r\n",
    "\r\n",
    "\r\n",
    "\r\n"
   ],
   "metadata": {}
  },
  {
   "cell_type": "code",
   "execution_count": 257,
   "source": [
    "def cleanup(text):\r\n",
    "    punctuation = '[”@\\-/!.:?;,°''\"|()#$%¨&*]'\r\n",
    "    pattern = re.compile(punctuation)\r\n",
    "    text_subbed = re.sub(pattern, '', text)\r\n",
    "    return text_subbed"
   ],
   "outputs": [],
   "metadata": {}
  },
  {
   "cell_type": "code",
   "execution_count": 258,
   "source": [
    "def minusculo(text):  # colocando em letra minuscula\r\n",
    "    return text.lower()"
   ],
   "outputs": [],
   "metadata": {}
  },
  {
   "cell_type": "code",
   "execution_count": 259,
   "source": [
    "def separa_emoji(tweet):\r\n",
    "    modified=' '.join(emoji.get_emoji_regexp().split(tweet))\r\n",
    "    modified=modified.split()\r\n",
    "    for i,emoji1 in enumerate(modified):\r\n",
    "        if emoji1 in UNICODE_EMOJI['pt']:\r\n",
    "            modified[i]=UNICODE_EMOJI['pt'][emoji1].replace(':','')\r\n",
    "        else:\r\n",
    "            continue\r\n",
    "    modified=' '.join(modified)\r\n",
    "        \r\n",
    "    return modified"
   ],
   "outputs": [],
   "metadata": {}
  },
  {
   "cell_type": "code",
   "execution_count": 260,
   "source": [
    "def limpatudo(text):  # função que aplica as limpezas anteriores \r\n",
    "    tira_pontuacao = cleanup(text)\r\n",
    "    tudo_minusculo = minusculo(tira_pontuacao)\r\n",
    "    limpo = (separa_emoji(tudo_minusculo))\r\n",
    "    \r\n",
    "    return limpo"
   ],
   "outputs": [],
   "metadata": {}
  },
  {
   "cell_type": "code",
   "execution_count": 261,
   "source": [
    "def lista(df):   # Função que separa as Frases em palavras\r\n",
    "    listaf = []\r\n",
    "    lista = df.values.tolist() \r\n",
    "    for i in lista:\r\n",
    "        for palavra in i.split():\r\n",
    "            listaf.append(palavra)\r\n",
    "        \r\n",
    "    return listaf"
   ],
   "outputs": [],
   "metadata": {}
  },
  {
   "cell_type": "markdown",
   "source": [
    "______________________________\r\n",
    "## Começando o Classificador Naive-Bayes\r\n",
    "Vamos separar as variaveis necessárias para a implementação do naive bayers assim como filtrar e aplicar a funcao de limpeza na nossa base de dados\r\n",
    "\r\n",
    "Considerando apenas as mensagens da planilha Treinamento:"
   ],
   "metadata": {}
  },
  {
   "cell_type": "code",
   "execution_count": 262,
   "source": [
    "#Transformando palavras em variáveis categóricas:\r\n",
    "dados['Treinamento'] = dados['Treinamento'].astype('category')\r\n",
    "test['Teste'] = test['Teste'].astype('category')"
   ],
   "outputs": [],
   "metadata": {}
  },
  {
   "cell_type": "code",
   "execution_count": 263,
   "source": [
    "#aplicando a limapeza \r\n",
    "dados['Treinamento']=dados['Treinamento'].apply(limpatudo)\r\n",
    "test['Teste']=test['Teste'].apply(limpatudo)"
   ],
   "outputs": [],
   "metadata": {}
  },
  {
   "cell_type": "code",
   "execution_count": 264,
   "source": [
    "#Separando a Planilha de Treinamento de acordo com a relevancia\r\n",
    "\r\n",
    "IR = dados['relevancia'] == 0\r\n",
    "R = dados['relevancia'] == 1\r\n",
    "\r\n",
    "dados_r = dados.loc[R,:]\r\n",
    "dados_ir = dados.loc[IR,:]\r\n",
    "\r\n",
    "dados_r.head()"
   ],
   "outputs": [
    {
     "output_type": "execute_result",
     "data": {
      "text/html": [
       "<div>\n",
       "<style scoped>\n",
       "    .dataframe tbody tr th:only-of-type {\n",
       "        vertical-align: middle;\n",
       "    }\n",
       "\n",
       "    .dataframe tbody tr th {\n",
       "        vertical-align: top;\n",
       "    }\n",
       "\n",
       "    .dataframe thead th {\n",
       "        text-align: right;\n",
       "    }\n",
       "</style>\n",
       "<table border=\"1\" class=\"dataframe\">\n",
       "  <thead>\n",
       "    <tr style=\"text-align: right;\">\n",
       "      <th></th>\n",
       "      <th>Treinamento</th>\n",
       "      <th>relevancia</th>\n",
       "    </tr>\n",
       "  </thead>\n",
       "  <tbody>\n",
       "    <tr>\n",
       "      <th>0</th>\n",
       "      <td>to feliz q da p prestar atenção e gostar de vá...</td>\n",
       "      <td>1</td>\n",
       "    </tr>\n",
       "    <tr>\n",
       "      <th>4</th>\n",
       "      <td>esquadrão suicida 2 é muito bom amei o filme</td>\n",
       "      <td>1</td>\n",
       "    </tr>\n",
       "    <tr>\n",
       "      <th>5</th>\n",
       "      <td>henriquenarizz kkkkkk amigo mas pior que o esq...</td>\n",
       "      <td>1</td>\n",
       "    </tr>\n",
       "    <tr>\n",
       "      <th>8</th>\n",
       "      <td>ruanfalco dccomics tô p assistir esquadrão sui...</td>\n",
       "      <td>1</td>\n",
       "    </tr>\n",
       "    <tr>\n",
       "      <th>16</th>\n",
       "      <td>ei gostei de esquadrão suicida 2 e é só minha ...</td>\n",
       "      <td>1</td>\n",
       "    </tr>\n",
       "  </tbody>\n",
       "</table>\n",
       "</div>"
      ],
      "text/plain": [
       "                                          Treinamento  relevancia\n",
       "0   to feliz q da p prestar atenção e gostar de vá...           1\n",
       "4        esquadrão suicida 2 é muito bom amei o filme           1\n",
       "5   henriquenarizz kkkkkk amigo mas pior que o esq...           1\n",
       "8   ruanfalco dccomics tô p assistir esquadrão sui...           1\n",
       "16  ei gostei de esquadrão suicida 2 e é só minha ...           1"
      ]
     },
     "metadata": {},
     "execution_count": 264
    }
   ],
   "metadata": {}
  },
  {
   "cell_type": "code",
   "execution_count": 265,
   "source": [
    "#Aplicando a separação das frases no dataframe de treinamento \r\n",
    "pdr = lista(dados_r.Treinamento)   \r\n",
    "pdir = lista(dados_ir.Treinamento)\r\n",
    "\r\n",
    "#Transformando o em pd.series\r\n",
    "pdrc = pd.Series(pdr) \r\n",
    "pdirc = pd.Series(pdir) \r\n",
    "\r\n",
    "#Extraindo a frequência absoluta\r\n",
    "fpdr=pdrc.value_counts()\r\n",
    "fpdir=pdirc.value_counts()"
   ],
   "outputs": [],
   "metadata": {}
  },
  {
   "cell_type": "code",
   "execution_count": 266,
   "source": [
    "# Colocando as palavras em um Banco de dados e uma lista total\r\n",
    "listadr = pdrc.tolist()\r\n",
    "listadir = pdirc.tolist()\r\n",
    "\r\n",
    "#criando a lista total\r\n",
    "lista_total2 = pd.Series(listadr + listadir)\r\n",
    "\r\n",
    "#criando o banco de dados\r\n",
    "Banco_de_dados=set(listadr+listadir)\r\n"
   ],
   "outputs": [],
   "metadata": {}
  },
  {
   "cell_type": "markdown",
   "source": [
    "____________\r\n",
    "## Probabilidades Iniciais\r\n",
    "Aqui nós iremos calcular a probabilidade de palavras relevantes e irrelevantes no conjunto total\r\n",
    "\r\n",
    "A soma entre as probabilidades de ser relevante ou irrelevante tem que ser igual a 1\r\n",
    "\r\n",
    "## P(relevante) + P(irrelevante) = 1\r\n",
    "\r\n"
   ],
   "metadata": {}
  },
  {
   "cell_type": "code",
   "execution_count": 267,
   "source": [
    "# probabilidade de ser relevante:\r\n",
    "pr = len(listadr)/len(lista_total2)\r\n",
    "# probabilidade de ser irrelevante:\r\n",
    "pi = len(listadir)/len(lista_total2)\r\n",
    "print(pr+pi)"
   ],
   "outputs": [
    {
     "output_type": "stream",
     "name": "stdout",
     "text": [
      "1.0\n"
     ]
    }
   ],
   "metadata": {}
  },
  {
   "cell_type": "markdown",
   "source": [
    "______________\r\n",
    "## Suavização de Laplace\r\n",
    "\r\n",
    "Técnica que é ultilizada para garantir que o naive-bayes seja ultilizado como palavra fora do banco de dados, ou seja, evitar que a probabilidade seja 0\r\n",
    "\r\n",
    "Aplicando a suavização:"
   ],
   "metadata": {}
  },
  {
   "cell_type": "code",
   "execution_count": 268,
   "source": [
    "# função que aplica o laplace\r\n",
    "def laplace(freqabsoluta,conjunto):\r\n",
    "    return (freqabsoluta+1)/((conjunto)+len(Banco_de_dados))"
   ],
   "outputs": [],
   "metadata": {}
  },
  {
   "cell_type": "code",
   "execution_count": 269,
   "source": [
    "# função que determina a probabilidade relevante dado a uma frase\r\n",
    "def prob_R(text):\r\n",
    "    Prob1 = 1\r\n",
    "    for i in text.split():\r\n",
    "        if i in fpdr:\r\n",
    "\r\n",
    "            Alaplace_relevante = laplace(fpdr[i], pr)\r\n",
    "        \r\n",
    "            Prob1 *= Alaplace_relevante\r\n",
    "        else:\r\n",
    "            Alaplace_relevante = laplace(0, pr)\r\n",
    "        \r\n",
    "            Prob1 *= Alaplace_relevante\r\n",
    "    return Prob1\r\n",
    "\r\n",
    "print(prob_R('assistir esse esquadrão suicida 2 de marola'))\r\n",
    "\r\n"
   ],
   "outputs": [
    {
     "output_type": "stream",
     "name": "stdout",
     "text": [
      "3.8797434144662763e-13\n"
     ]
    }
   ],
   "metadata": {}
  },
  {
   "cell_type": "code",
   "execution_count": 270,
   "source": [
    "# função que determina a probabilidade irrelevante dado a uma frase\r\n",
    "def prob_I(text):\r\n",
    "    Prob2 = 1\r\n",
    "    for i in text.split():\r\n",
    "        if i in fpdir:\r\n",
    "\r\n",
    "            Alaplace_irrelevante = laplace(fpdir[i], pi)\r\n",
    "        \r\n",
    "            Prob2 *= Alaplace_irrelevante\r\n",
    "        else:\r\n",
    "            Alaplace_irrelevante = laplace(0, pi)\r\n",
    "        \r\n",
    "            Prob2 *= Alaplace_irrelevante\r\n",
    "    return Prob2\r\n"
   ],
   "outputs": [],
   "metadata": {}
  },
  {
   "cell_type": "code",
   "execution_count": 283,
   "source": [
    "# fazendo a comparação das probabilidades para delvolver se é relevante ou não\r\n",
    "def probabilidades(text):\r\n",
    "    if prob_R(text)*pr > prob_I(text)*pi:\r\n",
    "        return 1\r\n",
    "    else:\r\n",
    "        return 0\r\n",
    "\r\n",
    "print(probabilidades('vi esquadrão suicida 2 hj com minhas irmã ')) "
   ],
   "outputs": [
    {
     "output_type": "stream",
     "name": "stdout",
     "text": [
      "0\n"
     ]
    }
   ],
   "metadata": {}
  },
  {
   "cell_type": "code",
   "execution_count": 284,
   "source": [
    "dados['Classificado'] = dados.Treinamento.apply(probabilidades)\r\n",
    "dados.head()"
   ],
   "outputs": [
    {
     "output_type": "execute_result",
     "data": {
      "text/html": [
       "<div>\n",
       "<style scoped>\n",
       "    .dataframe tbody tr th:only-of-type {\n",
       "        vertical-align: middle;\n",
       "    }\n",
       "\n",
       "    .dataframe tbody tr th {\n",
       "        vertical-align: top;\n",
       "    }\n",
       "\n",
       "    .dataframe thead th {\n",
       "        text-align: right;\n",
       "    }\n",
       "</style>\n",
       "<table border=\"1\" class=\"dataframe\">\n",
       "  <thead>\n",
       "    <tr style=\"text-align: right;\">\n",
       "      <th></th>\n",
       "      <th>Treinamento</th>\n",
       "      <th>relevancia</th>\n",
       "      <th>Classificado</th>\n",
       "    </tr>\n",
       "  </thead>\n",
       "  <tbody>\n",
       "    <tr>\n",
       "      <th>0</th>\n",
       "      <td>to feliz q da p prestar atenção e gostar de vá...</td>\n",
       "      <td>1</td>\n",
       "      <td>1</td>\n",
       "    </tr>\n",
       "    <tr>\n",
       "      <th>1</th>\n",
       "      <td>os roteirista de esquadrão suicida 2 devem ter...</td>\n",
       "      <td>0</td>\n",
       "      <td>0</td>\n",
       "    </tr>\n",
       "    <tr>\n",
       "      <th>2</th>\n",
       "      <td>assistir esse esquadrão suicida 2 de marola</td>\n",
       "      <td>0</td>\n",
       "      <td>0</td>\n",
       "    </tr>\n",
       "    <tr>\n",
       "      <th>3</th>\n",
       "      <td>e eu e gilson que fechamos a sala de cinema p ...</td>\n",
       "      <td>0</td>\n",
       "      <td>0</td>\n",
       "    </tr>\n",
       "    <tr>\n",
       "      <th>4</th>\n",
       "      <td>esquadrão suicida 2 é muito bom amei o filme</td>\n",
       "      <td>1</td>\n",
       "      <td>1</td>\n",
       "    </tr>\n",
       "  </tbody>\n",
       "</table>\n",
       "</div>"
      ],
      "text/plain": [
       "                                         Treinamento  relevancia  Classificado\n",
       "0  to feliz q da p prestar atenção e gostar de vá...           1             1\n",
       "1  os roteirista de esquadrão suicida 2 devem ter...           0             0\n",
       "2        assistir esse esquadrão suicida 2 de marola           0             0\n",
       "3  e eu e gilson que fechamos a sala de cinema p ...           0             0\n",
       "4       esquadrão suicida 2 é muito bom amei o filme           1             1"
      ]
     },
     "metadata": {},
     "execution_count": 284
    }
   ],
   "metadata": {}
  },
  {
   "cell_type": "markdown",
   "source": [
    "___\r\n",
    "### Verificando a performance do Classificador\r\n",
    "\r\n"
   ],
   "metadata": {}
  },
  {
   "cell_type": "code",
   "execution_count": 289,
   "source": [
    "#Aqui nos verificamos a acuracia do nosso modelo para a base de treinamento\r\n",
    "\r\n",
    "dadossepara1=dados.loc[(dados['Classificado']==1)&(dados['relevancia']==1),:]\r\n",
    "dadosverdadeiro1=dadossepara1.shape[0]\r\n",
    "dadossepara2=dados.loc[(dados['Classificado']==0)&(dados['relevancia']==0),:]\r\n",
    "dadosverdadeiro2=dadossepara2.shape[0]\r\n",
    "soma1 = dadosverdadeiro1 + dadosverdadeiro2\r\n",
    "score2=soma1/dados.shape[0]\r\n",
    "print(score2*100)"
   ],
   "outputs": [
    {
     "output_type": "stream",
     "name": "stdout",
     "text": [
      "84.33333333333334\n"
     ]
    }
   ],
   "metadata": {}
  },
  {
   "cell_type": "code",
   "execution_count": 290,
   "source": [
    "# aplicando a função do naive-bayes na base de test\r\n",
    "test['Classificado']=test.Teste.apply(probabilidades)\r\n",
    "test.head()"
   ],
   "outputs": [
    {
     "output_type": "execute_result",
     "data": {
      "text/html": [
       "<div>\n",
       "<style scoped>\n",
       "    .dataframe tbody tr th:only-of-type {\n",
       "        vertical-align: middle;\n",
       "    }\n",
       "\n",
       "    .dataframe tbody tr th {\n",
       "        vertical-align: top;\n",
       "    }\n",
       "\n",
       "    .dataframe thead th {\n",
       "        text-align: right;\n",
       "    }\n",
       "</style>\n",
       "<table border=\"1\" class=\"dataframe\">\n",
       "  <thead>\n",
       "    <tr style=\"text-align: right;\">\n",
       "      <th></th>\n",
       "      <th>Teste</th>\n",
       "      <th>relevancia</th>\n",
       "      <th>Classificado</th>\n",
       "    </tr>\n",
       "  </thead>\n",
       "  <tbody>\n",
       "    <tr>\n",
       "      <th>0</th>\n",
       "      <td>assisti esquadrão suicida 2 com um pouco de at...</td>\n",
       "      <td>0</td>\n",
       "      <td>0</td>\n",
       "    </tr>\n",
       "    <tr>\n",
       "      <th>1</th>\n",
       "      <td>vou ver esquadrão suicida 2 hj vcs já viram</td>\n",
       "      <td>0</td>\n",
       "      <td>0</td>\n",
       "    </tr>\n",
       "    <tr>\n",
       "      <th>2</th>\n",
       "      <td>lsdcomixxx adm hj eu sonhei que ele tava no es...</td>\n",
       "      <td>0</td>\n",
       "      <td>0</td>\n",
       "    </tr>\n",
       "    <tr>\n",
       "      <th>3</th>\n",
       "      <td>ranking personagens do esquadrão suicida 1 blo...</td>\n",
       "      <td>1</td>\n",
       "      <td>0</td>\n",
       "    </tr>\n",
       "    <tr>\n",
       "      <th>4</th>\n",
       "      <td>mano gloria groove no esquadrão suicida 2 fico...</td>\n",
       "      <td>1</td>\n",
       "      <td>1</td>\n",
       "    </tr>\n",
       "  </tbody>\n",
       "</table>\n",
       "</div>"
      ],
      "text/plain": [
       "                                               Teste  relevancia  Classificado\n",
       "0  assisti esquadrão suicida 2 com um pouco de at...           0             0\n",
       "1        vou ver esquadrão suicida 2 hj vcs já viram           0             0\n",
       "2  lsdcomixxx adm hj eu sonhei que ele tava no es...           0             0\n",
       "3  ranking personagens do esquadrão suicida 1 blo...           1             0\n",
       "4  mano gloria groove no esquadrão suicida 2 fico...           1             1"
      ]
     },
     "metadata": {},
     "execution_count": 290
    }
   ],
   "metadata": {}
  },
  {
   "cell_type": "code",
   "execution_count": 288,
   "source": [
    "#Aqui nos verificamos a acuracia do nosso modelo para a base de Teste\r\n",
    "\r\n",
    "testsepara1=test.loc[(test['Classificado']==1)&(test['relevancia']==1),:]\r\n",
    "testverdadeiro1=testsepara1.shape[0]\r\n",
    "testsepara2=test.loc[(test['Classificado']==0)&(test['relevancia']==0),:]\r\n",
    "testverdadeiro2=testsepara2.shape[0]\r\n",
    "soma = testverdadeiro1 + testverdadeiro2\r\n",
    "score=soma/test.shape[0]\r\n",
    "print(score*100)"
   ],
   "outputs": [
    {
     "output_type": "stream",
     "name": "stdout",
     "text": [
      "89.0\n"
     ]
    }
   ],
   "metadata": {}
  },
  {
   "cell_type": "code",
   "execution_count": 276,
   "source": [
    "#Verificando a performance com as porcentagens de Verdadeiro positivoS, verdadeiro negativo e etc\r\n",
    "pd.crosstab(test['Classificado'], test['relevancia'], normalize=True)\r\n"
   ],
   "outputs": [
    {
     "output_type": "execute_result",
     "data": {
      "text/html": [
       "<div>\n",
       "<style scoped>\n",
       "    .dataframe tbody tr th:only-of-type {\n",
       "        vertical-align: middle;\n",
       "    }\n",
       "\n",
       "    .dataframe tbody tr th {\n",
       "        vertical-align: top;\n",
       "    }\n",
       "\n",
       "    .dataframe thead th {\n",
       "        text-align: right;\n",
       "    }\n",
       "</style>\n",
       "<table border=\"1\" class=\"dataframe\">\n",
       "  <thead>\n",
       "    <tr style=\"text-align: right;\">\n",
       "      <th>relevancia</th>\n",
       "      <th>0</th>\n",
       "      <th>1</th>\n",
       "    </tr>\n",
       "    <tr>\n",
       "      <th>Classificado</th>\n",
       "      <th></th>\n",
       "      <th></th>\n",
       "    </tr>\n",
       "  </thead>\n",
       "  <tbody>\n",
       "    <tr>\n",
       "      <th>0</th>\n",
       "      <td>0.540</td>\n",
       "      <td>0.190</td>\n",
       "    </tr>\n",
       "    <tr>\n",
       "      <th>1</th>\n",
       "      <td>0.035</td>\n",
       "      <td>0.235</td>\n",
       "    </tr>\n",
       "  </tbody>\n",
       "</table>\n",
       "</div>"
      ],
      "text/plain": [
       "relevancia        0      1\n",
       "Classificado              \n",
       "0             0.540  0.190\n",
       "1             0.035  0.235"
      ]
     },
     "metadata": {},
     "execution_count": 276
    }
   ],
   "metadata": {}
  },
  {
   "cell_type": "markdown",
   "source": [
    "## Verdadeiro Positivo (relevantes classificados como relevantes): 23,5%\r\n",
    "\r\n",
    "## Verdadeiro Negativo (irrelevantes classificadas como irrelevantes): 54%\r\n",
    "\r\n",
    "## Falso Positivo (relevantes classificadas como irrelevantes): 3,5%\r\n",
    "\r\n",
    "## Falso Negativo (irrelevantes classificadas como relevantes): 19%"
   ],
   "metadata": {}
  },
  {
   "cell_type": "markdown",
   "source": [
    "___\r\n",
    "### Concluindo"
   ],
   "metadata": {}
  },
  {
   "cell_type": "markdown",
   "source": [
    "Dado o exposto, percebe-se que o nosso modelo baseado no Naive Bayes, podemos concluir a partir das respectivas porcentagens do verdadeiro positivo e verdadeiro negativo: 23,5% e 54%, as quais juntas somam 77,5% de acurácia, isso mostra que o nosso modelo é eficiente. Entretanto, os respectivos valores de falso positivo e negativo: 3,5% e 19%, ainda possuem altas taxas, isso ocorre por vários motivos, tal como a baixa variedade de palavras no banco de dados, o que faz com que palavras que possuem similaridade, as que são classificadas como relevante e irrelevante, não estão na base de dados, mesmo possuindo semântica e significados análogos e que no cálculo suas probabilidades não são levadas em consideração(são nulo/0). Outro fator importante na análise e que também confirma o que foi, anteriormente, visto é a diferença entre os percentuais de acurácia entre a base de treinamento e teste, que é de cerca de de 18,8%, isso acontece, pois o tamanho da base de dados é diferente e isso implica na acurácia na base Teste.    \r\n"
   ],
   "metadata": {}
  },
  {
   "cell_type": "markdown",
   "source": [
    "Além disso, nosso modelo na maioria das vezes não apresenta problema com as palavras de dupla negação ou sarcasmo, mas mesmo assim nossa função não leva em consideração o real sentido da palavra e sim somente sua probabilidade, o que faz com que possa ter certos erros, por exemplo: "
   ],
   "metadata": {}
  },
  {
   "cell_type": "code",
   "execution_count": 277,
   "source": [
    "# 1 = relevante\r\n",
    "# 0 = irrelevante\r\n",
    "\r\n",
    "\r\n",
    "print(probabilidades('esquadrão suicida 2 é tão ruim que é bom ')) \r\n",
    "print(probabilidades('q q a dc quer c os filme dela mn n faz um filme bom kkkkkkkkkkkkkkkkkkkk esquadrao suicida 2 unico ponto forte eh a comedia, fora isso??¿?¿¿‽‽')) \r\n",
    "print(probabilidades('esquadrão suicida 2 é tão ruim quanto assistir esquadrão suicida 1 2 vezes ')) #Fase criada para titulo de demonstração do problema"
   ],
   "outputs": [
    {
     "output_type": "stream",
     "name": "stdout",
     "text": [
      "1\n",
      "1\n",
      "1\n"
     ]
    }
   ],
   "metadata": {}
  },
  {
   "cell_type": "markdown",
   "source": [
    "Podemos concluir que nas frases anteriores, apesar de classificar bem as frases de dupla negação, o nosso sistema ainda comete alguns erros, como visto na última frase, a qual deveria ser relevante por causa da critica ao filme.\r\n",
    "\r\n",
    "Portanto, eles devem continuar financiando nosso projeto, visto que com melhorias nesses problemas vistos anteriormente, podemos desenvolver um sistema melhor, com uma melhor acurácia, o qual poderia ser implementado em outras situações."
   ],
   "metadata": {}
  },
  {
   "cell_type": "markdown",
   "source": [
    "## PORQUÊ NÃO PODE USAR O PRÓPRIO CLASSIFICADOR PARA GERAR MAIS AMOSTRAS DE TREINAMENTO?\r\n",
    "Como já foi dito anteriormente, o nosso modelo não entende o real sentido da palavra em seus diferentes contextos, logo aumentar o número de palavras só acarretaria em uma menor porcentagem na taxa de acurácia, além de que o erro poderia se propagar durante a reprodução de mais amostras.\r\n",
    "\r\n",
    "## Diferente cenários para Naives Bayes fora do contexto do projeto. \r\n",
    "1º - Podemos usar o nosso sistema para a detecção de emails, podendo classifica-los entre aqueles que são relevantes ou não, podendo , aqueles que não são relevantes, enviados para a caixa de spam.\r\n",
    "\r\n",
    "2º - Outra situação bastante útil, seria analisar textos em redes sociais, onde o sistema detectaria se tal mensagem feita por uma pessoas demonstra felicidade ou tristeza, tal feito ajudaria na descoberta de possíveis problemas que a pessoa poderia esta passando.\r\n",
    "\r\n",
    "3º - Outra, seria em prever se vai chover ou não no próximo dia, de acordo com as medições no dia de hoje, analisando a umidade, temperatura, por exemplo.\r\n"
   ],
   "metadata": {}
  },
  {
   "cell_type": "markdown",
   "source": [
    "## Sugestões de melhorias reais:\r\n",
    "TF-IDF: Um método onde entendemos a importância de uma palavra, em decorrência de sua aparição. Para fazer tal cálculo, precisamos da frequência da palavra em um documento, e sua frequência inversa do documento (OBS: quanto mais proximo de 0 for esse valor, significa que a mesma é comum, mais perto de 1 , diz que a mesma não é comum), com isso podemos saber se aquela palavra é comum ou específica naquele documento. Após a multiplicação, podemos obter o resultado, quanto maior for o valor, sabemos que a palavra é relevante.\r\n",
    "\r\n",
    "N-Grams: Diferentemente do método que nós usamos, o N-Grams considera a frase completa, por meio de gramas, logo não precisavamos \"quebra-las\", tal método pode ser implementado usando sua função 'ngram' através da biblioteca ntlk ou bigrams que pode ser importada da mesma biblioteca, porém essa última tem um certo limite de gramas que podem ser utilizados, diferentemente da ngram, devendo ter cuidado para não ter uma escassez de dados."
   ],
   "metadata": {}
  },
  {
   "cell_type": "markdown",
   "source": [
    "___\r\n",
    "### Qualidade do Classificador a partir de novas separações dos tweets entre Treinamento e Teste\r\n",
    "\r\n",
    "Utilizaremos o sklearn com a função train_test_split\r\n",
    "\r\n",
    "A função divide o conjunto dado em uma quantidade que podemos escolher para separar entre teste e treinamento que escolhermos, nesse caso vamos separar 200 pro teste e 300 para o treinamento\r\n",
    "\r\n",
    "Assim sendo, aqui o objetivo é avaliar como os tweets contidos na base de dados\r\n",
    "treinamento pode interferir numa melhor ou não tão boa classificação das mensagens\r\n",
    "contidas na base de teste.\r\n",
    "\r\n",
    "guardaremos os percentuais de acertos (= % de positivos verdadeiros + % de\r\n",
    "negativos verdadeiros)\r\n",
    "\r\n",
    "Vamos Repitir o processo acima 100 vezes"
   ],
   "metadata": {}
  },
  {
   "cell_type": "code",
   "execution_count": 278,
   "source": [
    "#lendo novamente os arquivos\r\n",
    "test_novo = pd.read_excel(filename, sheet_name = 'Teste')\r\n",
    "dados_novo = pd.read_excel(filename, sheet_name = 'Treinamento')\r\n",
    "\r\n",
    "#Concatenando as planilhas do excel tem que mudar para o mesmo nome da coluna\r\n",
    "xaropinho = dados_novo.rename(columns={'Treinamento':'Frases'})\r\n",
    "xaropinha = test_novo.rename(columns={'Teste':'Frases'})\r\n",
    "\r\n",
    "junta = pd.concat([xaropinho,xaropinha], ignore_index=True)\r\n",
    "junta['Frases']=junta['Frases'].apply(limpatudo)\r\n"
   ],
   "outputs": [],
   "metadata": {}
  },
  {
   "cell_type": "code",
   "execution_count": 279,
   "source": [
    "lista_score=[]\r\n",
    "for i in range(0,100):\r\n",
    "    X_dados,X_test = train_test_split(junta,train_size=0.6,random_state=None) # aplicando a função e separando as bases\r\n",
    "    # criamos uma copia para evitar erros\r\n",
    "    X_dados = X_dados.copy()\r\n",
    "    X_test = X_test.copy()\r\n",
    "\r\n",
    "    #separamos o que é relevante ou irrelevante\r\n",
    "    X_dadosIr = X_dados['relevancia'] == 0\r\n",
    "    X_dadosR = X_dados['relevancia'] == 1\r\n",
    "\r\n",
    "    X_dados_r = X_dados.loc[X_dadosR,:]\r\n",
    "    X_dados_ir = X_dados.loc[X_dadosIr,:]\r\n",
    "\r\n",
    "    #aplicamos a função para separar as frases\r\n",
    "    X_dadosr = lista(X_dados_r.Frases)   \r\n",
    "    X_dadosir = lista(X_dados_ir.Frases)\r\n",
    "    \r\n",
    "    #Transformando o em pd.series\r\n",
    "    X_dadosrC = pd.Series(X_dadosr) \r\n",
    "    X_dadosirC = pd.Series(X_dadosir) \r\n",
    "\r\n",
    "    # extraindo a frequência absoluta\r\n",
    "    fpdr=X_dadosrC.value_counts()\r\n",
    "    fpdir=X_dadosirC.value_counts()\r\n",
    "\r\n",
    "    # Colocando as palavras em um Banco de dados e uma lista total\r\n",
    "    X_dadosr = X_dadosrC.tolist()\r\n",
    "    X_dadosir = X_dadosirC.tolist()\r\n",
    "\r\n",
    "    #criando a lista universo e criando a base de dados\r\n",
    "    listaX_dados = pd.Series(X_dadosr + X_dadosir)\r\n",
    "\r\n",
    "    Banco_de_dados=set(X_dadosr+X_dadosir)\r\n",
    "\r\n",
    "    # probabilidade de ser relevante:\r\n",
    "    pr = len(X_dadosr)/len(listaX_dados)\r\n",
    "    # probabilidade de ser irrelevante:\r\n",
    "    pi = len(X_dadosir)/len(listaX_dados)\r\n",
    "\r\n",
    "    #ultilizado a função para aplicar o naive-bayes\r\n",
    "    X_dados['Nova Classificação'] = X_dados.Frases.apply(probabilidades)\r\n",
    "    X_test['Nova Classificação'] = X_test.Frases.apply(probabilidades)\r\n",
    "    \r\n",
    "    # obtendo as taxes de verdadeiro positivo e negativo e colocando em um lista os scores\r\n",
    "    X_testsepara1=X_test.loc[(X_test['Nova Classificação']==1)&(X_test['relevancia']==1),:]\r\n",
    "    X_testverdadeiro1=X_testsepara1.shape[0]\r\n",
    "    X_testsepara2=X_test.loc[(X_test['Nova Classificação']==0)&(X_test['relevancia']==0),:]\r\n",
    "    X_testverdadeiro2=X_testsepara2.shape[0]\r\n",
    "    soma = X_testverdadeiro1 + X_testverdadeiro2\r\n",
    "    score=soma/X_test.shape[0]\r\n",
    "\r\n",
    "    \r\n",
    "    lista_score.append(score*100)"
   ],
   "outputs": [],
   "metadata": {}
  },
  {
   "cell_type": "code",
   "execution_count": 280,
   "source": [
    "faixa=np.arange(63, 85, 0.8)\r\n",
    "plt.figure(figsize=(10, 5))\r\n",
    "plt.hist(lista_score, bins=faixa, edgecolor='darkblue', color='cyan', alpha=0.6, density=True)\r\n",
    "plt.title('Histograma de percentuais de acertos')\r\n",
    "plt.ylabel('Densidade')\r\n",
    "plt.xlabel('Score')\r\n",
    "plt.show()\r\n",
    "\r\n",
    "\r\n"
   ],
   "outputs": [
    {
     "output_type": "display_data",
     "data": {
      "image/png": "[encoded data removed]",
      "text/plain": [
       "<Figure size 720x360 with 1 Axes>"
      ]
     },
     "metadata": {
      "needs_background": "light"
     }
    }
   ],
   "metadata": {}
  },
  {
   "cell_type": "code",
   "execution_count": 282,
   "source": [
    "media=sum(lista_score)/len(lista_score)\r\n",
    "print(media)"
   ],
   "outputs": [
    {
     "output_type": "stream",
     "name": "stdout",
     "text": [
      "75.23\n"
     ]
    }
   ],
   "metadata": {}
  },
  {
   "cell_type": "markdown",
   "source": [
    "Podemos concluir que quando o classificador é feito em uma única divisão entre treinamento e teste, o modelo pode assumir valores bem distintos, o que tem como consequência no campo da análise, uma mitigação na sua credibilidade, por isso é de extrema importância que seja feita uma análise de dados considerando as possíveis variações de resultados, como visto, em decorrer dos scores obtidos 100X. Em suma, percebe-se que é uma desvantagem fazer uma única divisão da base de dados, pois não retornará a melhor acurácia do modelo. "
   ],
   "metadata": {}
  },
  {
   "cell_type": "markdown",
   "source": [
    "___\n",
    "## Aperfeiçoamento:\n",
    "\n",
    "Trabalhos que conseguirem pelo menos conceito B vão evoluir em conceito dependendo da quantidade de itens avançados:\n",
    "\n",
    "* IMPLEMENTOU outras limpezas e transformações que não afetem a qualidade da informação contida nos tweets. Ex: stemming, lemmatization, stopwords\n",
    "* CORRIGIU separação de espaços entre palavras e emojis ou entre emojis e emojis\n",
    "* CRIOU categorias intermediárias de relevância baseadas na probabilidade: ex.: muito relevante, relevante, neutro, irrelevante, muito irrelevante. Pelo menos quatro categorias, com adição de mais tweets na base, conforme enunciado. (OBRIGATÓRIO PARA TRIOS, sem contar como item avançado)\n",
    "* EXPLICOU porquê não pode usar o próprio classificador para gerar mais amostras de treinamento\n",
    "* PROPÔS diferentes cenários para Naïve Bayes fora do contexto do projeto\n",
    "* SUGERIU e EXPLICOU melhorias reais com indicações concretas de como implementar (indicar como fazer e indicar material de pesquisa)\n",
    "* FEZ o item 6. Qualidade do Classificador a partir de novas separações dos tweets entre Treinamento e Teste descrito no enunciado do projeto (OBRIGATÓRIO para conceitos A ou A+)"
   ],
   "metadata": {},
   "attachments": {}
  },
  {
   "cell_type": "markdown",
   "source": [
    "___\n",
    "## Referências"
   ],
   "metadata": {}
  },
  {
   "cell_type": "markdown",
   "source": [
    "[Naive Bayes and Text Classification](https://arxiv.org/pdf/1410.5329.pdf)  **Mais completo**\n",
    "\n",
    "[A practical explanation of a Naive Bayes Classifier](https://monkeylearn.com/blog/practical-explanation-naive-bayes-classifier/) **Mais simples**"
   ],
   "metadata": {}
  },
  {
   "cell_type": "code",
   "execution_count": null,
   "source": [],
   "outputs": [],
   "metadata": {}
  }
 ],
 "metadata": {
  "kernelspec": {
   "name": "python3",
   "display_name": "Python 3.8.5 64-bit ('base': conda)"
  },
  "language_info": {
   "codemirror_mode": {
    "name": "ipython",
    "version": 3
   },
   "file_extension": ".py",
   "mimetype": "text/x-python",
   "name": "python",
   "nbconvert_exporter": "python",
   "pygments_lexer": "ipython3",
   "version": "3.8.5"
  },
  "interpreter": {
   "hash": "978d606978bb26dc1196d980de5f982f9f8ebb0565a7cd0735526ac935a81f1b"
  }
 },
 "nbformat": 4,
 "nbformat_minor": 4
}